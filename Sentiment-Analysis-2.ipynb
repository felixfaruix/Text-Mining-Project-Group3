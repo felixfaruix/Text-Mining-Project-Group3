{
 "cells": [
  {
   "cell_type": "code",
   "execution_count": 11,
   "id": "c07cca30",
   "metadata": {},
   "outputs": [],
   "source": [
    "import pandas as pd\n",
    "import numpy as np\n",
    "from sklearn.metrics import classification_report\n",
    "from nltk.sentiment.vader import SentimentIntensityAnalyzer\n",
    "from datasets import load_dataset\n",
    "import nltk\n"
   ]
  },
  {
   "cell_type": "code",
   "execution_count": 35,
   "id": "29104f09",
   "metadata": {},
   "outputs": [
    {
     "name": "stdout",
     "output_type": "stream",
     "text": [
      "              precision    recall  f1-score   support\n",
      "\n",
      "    negative       0.50      0.17      0.25         6\n",
      "     neutral       0.00      0.00      0.00         6\n",
      "    positive       0.25      0.50      0.33         6\n",
      "\n",
      "    accuracy                           0.22        18\n",
      "   macro avg       0.25      0.22      0.19        18\n",
      "weighted avg       0.25      0.22      0.19        18\n",
      "\n"
     ]
    },
    {
     "name": "stderr",
     "output_type": "stream",
     "text": [
      "[nltk_data] Downloading package vader_lexicon to\n",
      "[nltk_data]     /Users/sofiavida/nltk_data...\n",
      "[nltk_data]   Package vader_lexicon is already up-to-date!\n"
     ]
    }
   ],
   "source": [
    "\n",
    "\n",
    "nltk.download('vader_lexicon')\n",
    "test_dataset = pd.read_csv('sentiment-topic-test.tsv', sep='\\t')\n",
    "test_dataset['gold_label'] = test_dataset['sentiment']\n",
    "\n",
    "\n",
    "analyzer = SentimentIntensityAnalyzer()\n",
    "\n",
    "\n",
    "def vader_output_to_label(vader_output):\n",
    "    compound = vader_output['compound']\n",
    "    if compound > 0:\n",
    "        return 'positive'\n",
    "    elif compound < 0:\n",
    "        return 'negative'\n",
    "    else:\n",
    "        return 'neutral'\n",
    "\n",
    "\n",
    "vader_preds = []\n",
    "for sentence in test_dataset['sentence']:\n",
    "    if isinstance(sentence, str):\n",
    "        scores = analyzer.polarity_scores(sentence)\n",
    "        vader_preds.append(vader_output_to_label(scores))\n",
    "    else:\n",
    "        vader_preds.append(np.nan)\n",
    "\n",
    "test_dataset['vader_label'] = pd.Series(vader_preds)\n",
    "test_dataset.dropna(subset=['vader_label'], inplace=True)\n",
    "\n",
    "\n",
    "print(classification_report(test_dataset['gold_label'], test_dataset['vader_label']))\n",
    "\n",
    "\n",
    "test_dataset[['sentence', 'gold_label', 'vader_label']].to_csv('vader_sentiment_results.csv', index=False)\n"
   ]
  }
 ],
 "metadata": {
  "kernelspec": {
   "display_name": "Python 3.11 (Anaconda)",
   "language": "python",
   "name": "py311"
  },
  "language_info": {
   "codemirror_mode": {
    "name": "ipython",
    "version": 3
   },
   "file_extension": ".py",
   "mimetype": "text/x-python",
   "name": "python",
   "nbconvert_exporter": "python",
   "pygments_lexer": "ipython3",
   "version": "3.11.10"
  }
 },
 "nbformat": 4,
 "nbformat_minor": 5
}
