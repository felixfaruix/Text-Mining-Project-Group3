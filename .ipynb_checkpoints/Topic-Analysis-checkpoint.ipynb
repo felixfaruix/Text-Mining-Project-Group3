{
 "cells": [
  {
   "cell_type": "markdown",
   "id": "eb683c59",
   "metadata": {},
   "source": [
    "# Topic Analysis - Project Assignment Group 3 "
   ]
  },
  {
   "cell_type": "code",
   "execution_count": 19,
   "id": "e0c1508f",
   "metadata": {},
   "outputs": [],
   "source": [
    "from datasets import load_dataset, get_dataset_config_names\n",
    "import pyLDAvis\n",
    "import pandas as pd \n",
    "import spacy\n",
    "from tqdm.auto import tqdm\n",
    "import random\n",
    "from sklearn.model_selection import train_test_split\n",
    "import pycountry\n",
    "import numpy as np\n",
    "from sklearn.metrics import classification_report, confusion_matrix, accuracy_score\n",
    "import pickle \n",
    "import gensim\n",
    "from gensim import corpora, models\n",
    "from gensim.utils import simple_preprocess\n",
    "from gensim.parsing.preprocessing import STOPWORDS \n",
    "from gensim.models import CoherenceModel\n",
    "import pyLDAvis.gensim_models as gensimvis\n",
    "\n",
    "from sklearn.metrics import classification_report, confusion_matrix"
   ]
  },
  {
   "cell_type": "markdown",
   "id": "ca9289e0",
   "metadata": {},
   "source": [
    "### Dataset Inspection and Content Extraction \n"
   ]
  },
  {
   "cell_type": "markdown",
   "id": "39c987e2",
   "metadata": {},
   "source": [
    "In the first part of our Topic Analysis section of the project, we will extract all the sections in the database and count them to see what each news article is assigned to. In this way, we can choose our topics and see what we are first counting.\n",
    "\n",
    "We will notice that the _section_ column in the dataset is not helpful, since it groups the articles in a sparse way and does not provide useful labels for our topic classification.\n",
    "\n",
    "Thus, we will have to preprocess each article by first extracting the _content_ column from each (ignoring all the others) In this way we will feed our LDA model for topic analysis. "
   ]
  },
  {
   "cell_type": "code",
   "execution_count": null,
   "id": "4ce6931e",
   "metadata": {},
   "outputs": [],
   "source": [
    "subfolders = get_dataset_config_names(\"RealTimeData/bbc_news_alltime\")\n",
    "\n",
    "all_sections = []\n",
    "\n",
    "for month in subfolders:\n",
    "    dataset = load_dataset(\"RealTimeData/bbc_news_alltime\", month, split=\"train\")\n",
    "    if \"section\" in dataset.column_names:\n",
    "        all_sections.extend(dataset[\"section\"])\n",
    "\n",
    "section_df = pd.DataFrame(all_sections, columns=[\"section\"])\n",
    "section_counts = section_df[\"section\"].value_counts(dropna=False).reset_index()\n",
    "section_counts.columns = [\"Topic\", \"Count\"]\n"
   ]
  },
  {
   "cell_type": "code",
   "execution_count": null,
   "id": "10c3b177",
   "metadata": {},
   "outputs": [],
   "source": [
    "section_counts = section_df['section'].value_counts(dropna=False).reset_index()\n",
    "section_counts.columns = ['Topic', 'Count']\n",
    "\n",
    "\n",
    "pd.set_option('display.max_rows', None)\n",
    "print(section_counts)"
   ]
  },
  {
   "cell_type": "markdown",
   "id": "f841ac7d",
   "metadata": {},
   "source": [
    "Loading SpaCy, getting the dataset and splitting between test and train folders (70/30)"
   ]
  },
  {
   "cell_type": "code",
   "execution_count": null,
   "id": "dfe29be3",
   "metadata": {},
   "outputs": [],
   "source": [
    "subfolders = get_dataset_config_names(\"RealTimeData/bbc_news_alltime\")\n",
    "preprocessing = spacy.load(\"en_core_web_sm\", disable=[\"ner\", \"parser\"])\n",
    "preprocessing.add_pipe(\"sentencizer\")\n",
    "random.seed(42)\n",
    "selected_months = random.sample(subfolders, k=20)\n",
    "\n",
    "#Splitting the folders in train and test sets based on months folders \n",
    "train_months, test_months = train_test_split(selected_months, test_size=0.3, random_state=42)"
   ]
  },
  {
   "cell_type": "code",
   "execution_count": null,
   "id": "0014f292",
   "metadata": {},
   "outputs": [],
   "source": [
    "train_sentences = []\n",
    "\n",
    "# Looping over the months folders\n",
    "for month in tqdm(train_months, desc=\"Month\"): \n",
    "    dataset = load_dataset(\"RealTimeData/bbc_news_alltime\", month, split=\"train\")\n",
    "    # Looping over the various articles\n",
    "    content = [article[\"content\"] for article in dataset] \n",
    "    # Getting the Doc object of the article and looping over them splittin the sentences\n",
    "    for doc in preprocessing.pipe(content, batch_size=32):\n",
    "        for sent in doc.sents:\n",
    "            text = sent.text.strip()\n",
    "            if text:\n",
    "                print(text)\n",
    "                train_sentences.append(text)\n",
    "\n",
    "print(train_sentences[:5])"
   ]
  },
  {
   "cell_type": "code",
   "execution_count": 6,
   "id": "682644b5",
   "metadata": {},
   "outputs": [
    {
     "name": "stdout",
     "output_type": "stream",
     "text": [
      "Theresa May was in Poland to sign a defence treaty with the country\n",
      "\n",
      "Theresa May has sought to reassure Polish people living in the UK that they are still welcome after Brexit.\n",
      "Speaking on a trip to Warsaw to sign a new defence treaty with the country, the PM said the one million Polish residents were a \"strong part of [UK] society\".\n",
      "She promised a \"simple\" and \"easy\" process to get \"settled status\" to remain after the UK leaves the EU.\n",
      "The trip comes after Mrs May sacked one of her closest allies, Damian Green.\n",
      "She asked him to leave after he made \"misleading\" statements about claims pornography was found on his parliamentary computer.\n"
     ]
    }
   ],
   "source": [
    "for x in train_sentences[:5]:\n",
    "    print(x)"
   ]
  },
  {
   "cell_type": "code",
   "execution_count": null,
   "id": "c0805123",
   "metadata": {},
   "outputs": [
    {
     "data": {
      "application/vnd.jupyter.widget-view+json": {
       "model_id": "273a167b60814c8fba2e419746141f78",
       "version_major": 2,
       "version_minor": 0
      },
      "text/plain": [
       "Months Analyzed:   0%|          | 0/6 [00:00<?, ?it/s]"
      ]
     },
     "metadata": {},
     "output_type": "display_data"
    }
   ],
   "source": [
    "# Now we are applying the same procedure for the test set in the test_months folder \n",
    "test_sentences = []\n",
    "\n",
    "for month in tqdm(test_months, desc=\"Months Analyzed\"): \n",
    "    dataset = load_dataset(\"RealTimeData/bbc_news_alltime\", month, split=\"train\")\n",
    "    # Looping over the various articles\n",
    "    content = [article[\"content\"] for article in dataset] \n",
    "    # Getting the Doc object of the article and looping over them splittin the sentences\n",
    "    for doc in preprocessing.pipe(content, batch_size=32):\n",
    "        for sent in doc.sents:\n",
    "            text = sent.text.strip()\n",
    "            if text:\n",
    "                test_sentences.append(text)"
   ]
  },
  {
   "cell_type": "code",
   "execution_count": 11,
   "id": "dc18c1b5",
   "metadata": {},
   "outputs": [
    {
     "name": "stdout",
     "output_type": "stream",
     "text": [
      "Amiram Cooper, Guy Gilboa-Dalal and Tsachi Idan are being held in Gaza\n",
      "\n",
      "Israel says 129 people remain unaccounted for after they were abducted and taken to Gaza during the October 7 attacks by Hamas.\n",
      "Of these, Israel says that 22 are believed to be dead.\n",
      "A group representing the families of hostages says that Gadi Haggai, 73, is now believed to have died in Gaza.\n",
      "An estimated 240 people were taken prisoner, but 105 were later released by Hamas during a six-day ceasefire at the end of November.\n",
      "These are the stories of those hostages who are still being held, which have either been confirmed by the BBC or credibly reported.\n"
     ]
    }
   ],
   "source": [
    "for x in test_sentences[:5]:\n",
    "    print(x)"
   ]
  },
  {
   "cell_type": "markdown",
   "id": "3f987783",
   "metadata": {},
   "source": [
    "### Data Preprocessing using SpaCy"
   ]
  },
  {
   "cell_type": "markdown",
   "id": "72950a4c",
   "metadata": {},
   "source": [
    "In this **preprocessing** stage, we transform raw sentences into clean, *lemmatized* tokens optimized for topic modeling. Specifically, we use **SpaCy** to tokenize and lemmatize each sentence, removing stopwords, punctuation, short words, and numbers. \n",
    "\n",
    "We also exclude tokens based on their linguistic roles (pronouns, determiners, prepositions, auxiliaries) and named entities (people, organizations, locations, dates, times). Then, we filter out domain-specific noise such as media sources (\"BBC\", \"Reuters\"), common journalistic fillers (\"said\", \"today\"), possessive pronouns, and country names using a custom exclusion list. \n",
    "\n",
    "The resulting cleaned tokens are then structured into a **Gensim-compatible dictionary and corpus**, ready for training the LDA model. \n",
    "This also takes into account the labels in the test set provided for the project. In fact, our goal is to align as closely as possible to the topics shown in that test set. Thus, we cut out all the noise we think we may encounter."
   ]
  },
  {
   "cell_type": "code",
   "execution_count": 23,
   "id": "5a2dc132",
   "metadata": {},
   "outputs": [],
   "source": [
    "token_pos_ner = spacy.load(\"en_core_web_sm\", disable=[\"parser\"])\n",
    "stopwords = token_pos_ner.Defaults.stop_words\n",
    "\n",
    "countries_list= {country.name.lower() for country in pycountry.countries}\n",
    "\n",
    "# Excluding some words that are indeed part of newspapers articles but not necessary\n",
    "custom_stop = {\n",
    "    \"bbc\",\"reuters\",\"cnn\",\"guardian\",\"nytimes\",\"telegraph\",\"aljazeera\",\n",
    "    \"news\",\"press\",\"article\",\"media\",\"coverage\",\"broadcast\",\"report\",\"headline\",\n",
    "    \"says\",\"said\",\"told\",\"claim\",\"claimed\",\"statement\",\n",
    "    \"thing\",\"stuff\",\"someone\",\"anyone\",\"everyone\",\"something\",\"everything\",\n",
    "    \"kind\",\"sort\",\"part\",\"place\",\"area\",\"around\"\n",
    "}\n",
    "\n",
    "# Unifying the various exclusions we listed above (costumized)\n",
    "all_exclusions = stopwords.union(custom_stop).union(countries_list)\n",
    "pos_exclusions  = {\"PRON\",\"DET\",\"ADP\",\"AUX\",\"INTJ\"}\n",
    "entities_excl   = {\"PERSON\",\"ORG\",\"GPE\",\"LOC\",\"DATE\",\"TIME\"}\n",
    "\n",
    "\n",
    "def preprocessing(sentence):\n",
    "    \"\"\"\n",
    "    This function preprocesses sentences coming from test/train lists. \n",
    "    It removes the PoS tags adn entity labels listed above. It also removes unecessary words \n",
    "    that are not helpful for our topic analysis\n",
    "    \"\"\"\n",
    "\n",
    "    token_lists, cleaned_strings = [], []\n",
    "\n",
    "    for i in tqdm(range(0, len(train_sentences), 500), desc=\"Sentence batches\"):\n",
    "\n",
    "        batch_sents = train_sentences[i : i + 500]\n",
    "\n",
    "        for article in token_pos_ner.pipe(batch_sents, batch_size=16): \n",
    "            tokens = [token.lemma_.lower() for token in article if token.lemma_.lower() not in all_exclusions\n",
    "                and len(token) > 3\n",
    "                and not token.is_punct\n",
    "                and not token.like_num\n",
    "                and token.pos_ not in pos_exclusions\n",
    "                and token.ent_type_ not in entities_excl]\n",
    "            token_lists.append(tokens)\n",
    "            cleaned_strings.append(\" \".join(tokens))\n",
    "\n",
    "    return token_lists, cleaned_strings\n",
    "\n",
    "def preprocessing_test(sentence):\n",
    "    \"\"\"\n",
    "    This function preprocesses sentences coming from test/train lists. \n",
    "    It removes the PoS tags adn entity labels listed above. It also removes unecessary words \n",
    "    that are not helpful for our topic analysis\n",
    "    \"\"\"\n",
    "\n",
    "    token_lists, cleaned_strings = [], []\n",
    "\n",
    "    for i in tqdm(range(0, len(test_sentences), 500), desc=\"Sentence batches\"):\n",
    "\n",
    "        batch_sents = test_sentences[i : i + 500]\n",
    "\n",
    "        for article in token_pos_ner.pipe(batch_sents, batch_size=16): \n",
    "            tokens = [token.lemma_.lower() for token in article if token.lemma_.lower() not in all_exclusions\n",
    "                and len(token) > 3\n",
    "                and not token.is_punct\n",
    "                and not token.like_num\n",
    "                and token.pos_ not in pos_exclusions\n",
    "                and token.ent_type_ not in entities_excl]\n",
    "            token_lists.append(tokens)\n",
    "            cleaned_strings.append(\" \".join(tokens))\n",
    "\n",
    "    return token_lists, cleaned_strings"
   ]
  },
  {
   "cell_type": "code",
   "execution_count": null,
   "id": "304aec5c",
   "metadata": {},
   "outputs": [],
   "source": [
    "train_tokens, train_tokens_string = preprocessing(train_sentences)\n"
   ]
  },
  {
   "cell_type": "code",
   "execution_count": 24,
   "id": "c4a1e8d6",
   "metadata": {},
   "outputs": [
    {
     "data": {
      "application/vnd.jupyter.widget-view+json": {
       "model_id": "6ed69877cfcb413d86f97188ed00b3a5",
       "version_major": 2,
       "version_minor": 0
      },
      "text/plain": [
       "Sentence batches:   0%|          | 0/443 [00:00<?, ?it/s]"
      ]
     },
     "metadata": {},
     "output_type": "display_data"
    }
   ],
   "source": [
    "test_tokens, test_tokens_string = preprocessing_test(test_sentences)"
   ]
  },
  {
   "cell_type": "markdown",
   "id": "21ce6d94",
   "metadata": {},
   "source": [
    "### Checkpoint \n",
    "\n",
    "(The Variable is too heavy to reload the process every time, so we saved the variables in a pkl file we can use it again)"
   ]
  },
  {
   "cell_type": "code",
   "execution_count": null,
   "id": "4739d9f6",
   "metadata": {},
   "outputs": [],
   "source": [
    "# Saving the variables for later usage, in order to not loose the preprocessing \n",
    "with open(\"train_processed.pkl\", \"wb\") as f: \n",
    "    pickle.dump({\"tokens\": train_tokens, \n",
    "                 \"strings\": train_tokens_string}, f) \n",
    "    \n",
    "# Saving the variables for later usage, in order to not loose the preprocessing \n",
    "with open(\"test_processed.pkl\", \"wb\") as f: \n",
    "    pickle.dump({\"tokens\": test_tokens, \n",
    "                 \"strings\": test_tokens_string}, f)"
   ]
  },
  {
   "cell_type": "code",
   "execution_count": 3,
   "id": "c06d2ebb",
   "metadata": {},
   "outputs": [],
   "source": [
    "with open(\"train_processed.pkl\", \"rb\") as f:\n",
    "    data = pickle.load(f)\n",
    "\n",
    "train_tokens = data[\"tokens\"]\n",
    "train_token_strings = data[\"string\"]\n",
    "\n",
    "with open(\"test_processed.pkl\", \"rb\") as f:\n",
    "    data_test = pickle.load(f)\n",
    "\n",
    "test_tokens = data_test[\"tokens\"]\n",
    "test_token_strings = data_test[\"strings\"]"
   ]
  },
  {
   "cell_type": "code",
   "execution_count": 19,
   "id": "d338caeb",
   "metadata": {},
   "outputs": [
    {
     "name": "stdout",
     "output_type": "stream",
     "text": [
      "['theresa', 'sign', 'defence', 'treaty', 'country', 'theresa', 'seek', 'reassure', 'polish', 'people', 'live', 'welcome']\n",
      "['speak', 'trip', 'sign', 'defence', 'treaty', 'country', 'polish', 'resident', 'strong', 'society']\n",
      "['promise', 'simple', 'easy', 'process', 'settle', 'status', 'remain', 'leave']\n",
      "['trip', 'come', 'sack', 'close', 'ally']\n",
      "['ask', 'leave', 'misleading', 'pornography', 'find', 'parliamentary', 'computer']\n"
     ]
    }
   ],
   "source": [
    "for sentence in (train_tokens[:5]): \n",
    "    print(sentence)"
   ]
  },
  {
   "cell_type": "markdown",
   "id": "851ca1fd",
   "metadata": {},
   "source": [
    "### Training LDA model"
   ]
  },
  {
   "cell_type": "code",
   "execution_count": null,
   "id": "c49746ea",
   "metadata": {},
   "outputs": [],
   "source": [
    "dictionary = corpora.Dictionary(train_tokens)\n",
    "dictionary.filter_extremes(no_below=10, no_above=0.5)\n",
    "bow_dict = [dictionary.doc2bow(doc) for doc in train_tokens]\n",
    "\n",
    "lda_model = models.LdaModel(corpus = bow_dict, id2word = dictionary, num_topics = 10, passes = 10, random_state = 42, eval_every = 1, per_word_topics = True)\n"
   ]
  },
  {
   "cell_type": "code",
   "execution_count": null,
   "id": "84c1b41d",
   "metadata": {},
   "outputs": [],
   "source": [
    "lda_model.save(\"lda_bbc_news.model\")"
   ]
  },
  {
   "cell_type": "code",
   "execution_count": 4,
   "id": "0724b965",
   "metadata": {},
   "outputs": [],
   "source": [
    "lda_model = models.LdaModel.load(\"lda_bbc_news.model\")"
   ]
  },
  {
   "cell_type": "markdown",
   "id": "e3ddfd2d",
   "metadata": {},
   "source": [
    "### LDA results' data visualization"
   ]
  },
  {
   "cell_type": "code",
   "execution_count": 8,
   "id": "c8066e7f",
   "metadata": {},
   "outputs": [
    {
     "name": "stdout",
     "output_type": "stream",
     "text": [
      "Most frequent words per topic\n",
      "\n",
      "Topic  0  content, site, responsible, external, continue, view, miss, choose, accept, original, baby, conservatives, learn, financial, period, couple, daughter, girl, available, bear, allow, visit, train, station, west, simply, trust, datum, absolutely, athlete\n",
      "Topic  1  provide, follow, post, title, story, contain, send, mother, content, twitter, facebook, skip, hand, champion, stop, penalty, receive, return, rape, write, idea, incident, pick, prison, reason, supporter, develop, foreign, success, woman\n",
      "Topic  2  party, government, minister, vote, election, deal, leader, prime, secretary, plan, decision, company, business, political, question, firm, future, rise, support, rule, conservative, tell, announce, stand, cost, market, money, rate, country, price\n",
      "Topic  3  think, look, add, people, time, feel, medium, tell, forward, work, social, long, good, speak, come, ask, matter, expect, know, information, message, public, process, general, number, year, important, issue, agree, history\n",
      "Topic  4  play, need, want, video, use, browser, enable, policy, different, external, cookie, technology, read, privacy, permission, accept, load, date, safe, remember, liberal, domestic, song, husband, type, music, image, tribute, youth, oppose\n",
      "Topic  5  people, work, child, family, live, life, service, help, school, local, time, health, seat, tell, staff, problem, home, council, parent, support, friend, love, community, care, experience, young, find, leave, know, course\n",
      "Topic  6  world, final, good, know, line, close, body, time, hard, manager, fight, great, come, referendum, fan, state, reach, talk, power, voter, join, seek, work, launch, turn, country, cross, lose, worker, moment\n",
      "Topic  7  police, woman, find, tell, happen, die, people, officer, case, attack, victim, abuse, investigation, kill, hospital, hear, child, arrest, home, fire, injury, away, left, follow, evidence, inquiry, later, house, page, drug\n",
      "Topic  8  change, game, time, player, goal, point, team, club, record, lose, result, league, match, score, come, win, finish, break, level, european, race, test, high, start, look, figure, season, little, ahead, protest\n",
      "Topic  9  right, court, shot, post, death, chief, charge, display, leave, centre, president, attempt, murder, save, early, force, strike, building, update, like, candidate, block, executive, football, target, high, affect, section, corner, footed\n"
     ]
    },
    {
     "data": {
      "text/html": [
       "\n",
       "<link rel=\"stylesheet\" type=\"text/css\" href=\"https://cdn.jsdelivr.net/gh/bmabey/pyLDAvis@3.4.0/pyLDAvis/js/ldavis.v1.0.0.css\">\n",
       "\n",
       "\n",
       "<div id=\"ldavis_el181220704385118889326967551\" style=\"background-color:white;\"></div>\n",
       "<script type=\"text/javascript\">\n",
       "\n",
       "var ldavis_el181220704385118889326967551_data = {\"mdsDat\": {\"x\": [-0.1384777892456044, -0.16056952360287557, -0.0840286765761156, -0.17869026621148976, -0.09109869255462955, -0.12231377917788255, -0.02222508496914381, 0.19160107951688982, 0.3048141364724718, 0.3009885963483788], \"y\": [0.008983892735996883, 0.006284136972420837, -0.11838579345845875, 0.04246477514154422, 0.1544855761129951, 0.125099700182431, -0.18432381273619075, -0.3230056031339317, 0.06680496218390262, 0.22159216599929069], \"topics\": [1, 2, 3, 4, 5, 6, 7, 8, 9, 10], \"cluster\": [1, 1, 1, 1, 1, 1, 1, 1, 1, 1], \"Freq\": [14.042584188450489, 12.459312856540885, 11.758184207768563, 11.74367885456831, 10.582811574769492, 10.495226337219393, 10.491486613923966, 6.934364039892101, 5.902142207508462, 5.590209119358325]}, \"tinfo\": {\"Term\": [\"play\", \"need\", \"content\", \"want\", \"video\", \"use\", \"browser\", \"external\", \"site\", \"responsible\", \"right\", \"people\", \"enable\", \"policy\", \"continue\", \"party\", \"think\", \"police\", \"world\", \"view\", \"change\", \"government\", \"final\", \"minister\", \"follow\", \"post\", \"vote\", \"woman\", \"different\", \"game\", \"party\", \"minister\", \"vote\", \"election\", \"leader\", \"prime\", \"secretary\", \"business\", \"political\", \"question\", \"firm\", \"future\", \"conservative\", \"market\", \"rate\", \"price\", \"film\", \"sign\", \"beat\", \"tory\", \"meeting\", \"leadership\", \"student\", \"promise\", \"gain\", \"comment\", \"stab\", \"product\", \"female\", \"contest\", \"government\", \"deal\", \"announce\", \"decision\", \"rise\", \"rule\", \"stand\", \"plan\", \"company\", \"cost\", \"money\", \"support\", \"fall\", \"tell\", \"country\", \"live\", \"service\", \"school\", \"local\", \"health\", \"seat\", \"staff\", \"problem\", \"council\", \"parent\", \"love\", \"community\", \"care\", \"experience\", \"course\", \"real\", \"authority\", \"assist\", \"patient\", \"customer\", \"meet\", \"sport\", \"town\", \"union\", \"board\", \"bad\", \"confidence\", \"water\", \"english\", \"sure\", \"friend\", \"life\", \"family\", \"help\", \"child\", \"people\", \"work\", \"pass\", \"system\", \"support\", \"young\", \"time\", \"home\", \"tell\", \"leave\", \"find\", \"know\", \"police\", \"happen\", \"die\", \"officer\", \"victim\", \"abuse\", \"investigation\", \"kill\", \"hospital\", \"arrest\", \"injury\", \"left\", \"inquiry\", \"house\", \"page\", \"drug\", \"independent\", \"scene\", \"loss\", \"award\", \"phone\", \"walk\", \"investigate\", \"interview\", \"search\", \"dead\", \"identify\", \"room\", \"individual\", \"picture\", \"woman\", \"attack\", \"find\", \"case\", \"hear\", \"sexual\", \"accuse\", \"fire\", \"evidence\", \"tell\", \"away\", \"later\", \"people\", \"child\", \"home\", \"follow\", \"think\", \"medium\", \"forward\", \"social\", \"matter\", \"information\", \"message\", \"process\", \"year\", \"history\", \"list\", \"interest\", \"understand\", \"chancellor\", \"crime\", \"relationship\", \"letter\", \"ground\", \"detail\", \"manage\", \"complete\", \"count\", \"mark\", \"appeal\", \"fine\", \"door\", \"birth\", \"answer\", \"lawyer\", \"introduce\", \"winner\", \"look\", \"feel\", \"general\", \"add\", \"expect\", \"speak\", \"important\", \"ask\", \"agree\", \"people\", \"time\", \"long\", \"tell\", \"good\", \"work\", \"public\", \"come\", \"know\", \"number\", \"issue\", \"change\", \"game\", \"player\", \"goal\", \"point\", \"club\", \"record\", \"league\", \"match\", \"score\", \"win\", \"finish\", \"european\", \"race\", \"test\", \"figure\", \"season\", \"little\", \"ahead\", \"protest\", \"half\", \"impact\", \"performance\", \"sell\", \"premier\", \"competition\", \"climate\", \"scottish\", \"ball\", \"fact\", \"team\", \"result\", \"lose\", \"level\", \"time\", \"break\", \"come\", \"start\", \"high\", \"look\", \"world\", \"final\", \"line\", \"body\", \"hard\", \"manager\", \"fight\", \"referendum\", \"fan\", \"voter\", \"join\", \"seek\", \"launch\", \"cross\", \"worker\", \"person\", \"royal\", \"focus\", \"career\", \"thousand\", \"sale\", \"industry\", \"wide\", \"black\", \"cash\", \"withdrawal\", \"attend\", \"past\", \"respond\", \"wear\", \"good\", \"power\", \"know\", \"reach\", \"close\", \"state\", \"great\", \"moment\", \"talk\", \"time\", \"come\", \"turn\", \"work\", \"country\", \"lose\", \"right\", \"court\", \"shot\", \"chief\", \"display\", \"attempt\", \"murder\", \"strike\", \"building\", \"update\", \"like\", \"candidate\", \"block\", \"executive\", \"target\", \"affect\", \"section\", \"corner\", \"footed\", \"round\", \".from\", \"range\", \"currently\", \"kick\", \"judge\", \"drop\", \"russian\", \"military\", \"source\", \"shoot\", \"death\", \"save\", \"centre\", \"charge\", \"early\", \"president\", \"football\", \"post\", \"force\", \"leave\", \"high\", \"provide\", \"title\", \"story\", \"contain\", \"send\", \"mother\", \"twitter\", \"facebook\", \"skip\", \"champion\", \"penalty\", \"rape\", \"idea\", \"pick\", \"prison\", \"reason\", \"supporter\", \"develop\", \"foreign\", \"success\", \"semi\", \"doctor\", \"leak\", \"explain\", \"word\", \"catch\", \"email\", \"particularly\", \"project\", \"flight\", \"follow\", \"post\", \"hand\", \"stop\", \"receive\", \"write\", \"return\", \"incident\", \"content\", \"woman\", \"site\", \"responsible\", \"continue\", \"view\", \"miss\", \"choose\", \"original\", \"baby\", \"conservatives\", \"learn\", \"financial\", \"period\", \"couple\", \"daughter\", \"girl\", \"available\", \"train\", \"station\", \"west\", \"simply\", \"trust\", \"datum\", \"absolutely\", \"athlete\", \"queen\", \"clearly\", \"pilot\", \"wish\", \"prince\", \"celebrate\", \"content\", \"external\", \"accept\", \"bear\", \"visit\", \"allow\", \"play\", \"need\", \"want\", \"video\", \"use\", \"browser\", \"enable\", \"policy\", \"different\", \"cookie\", \"technology\", \"read\", \"privacy\", \"permission\", \"load\", \"date\", \"safe\", \"remember\", \"liberal\", \"domestic\", \"song\", \"husband\", \"type\", \"music\", \"tribute\", \"youth\", \"oppose\", \"researcher\", \"severe\", \"stress\", \"external\", \"accept\", \"image\"], \"Freq\": [24778.0, 20084.0, 22768.0, 17914.0, 17866.0, 13936.0, 13905.0, 17729.0, 13383.0, 12158.0, 15186.0, 30771.0, 11040.0, 10839.0, 10650.0, 14718.0, 13393.0, 13312.0, 11715.0, 9243.0, 11563.0, 17063.0, 11094.0, 12610.0, 11611.0, 12398.0, 11621.0, 13316.0, 7862.0, 10069.0, 14717.184614981128, 12609.136060315139, 11620.222823934575, 11301.808446296105, 8728.729216220127, 7677.879433057923, 5911.84336056162, 4816.532216482244, 4406.266027419869, 4346.418840369828, 4287.43755966641, 4263.2457247786615, 3844.768149698233, 3506.171699299288, 3428.593213240002, 3294.3024721083707, 3251.360537374144, 3134.559557651805, 2959.267511468315, 2946.9565303732525, 2860.362028729572, 2518.840058262249, 2430.5781440366377, 2338.153870653242, 2324.7521033771177, 2317.2233882850346, 2269.7761228994964, 2183.3135448094845, 2148.862906045965, 2125.4038641107777, 14194.036780453756, 8805.090198096406, 3565.2324018489944, 4953.726168174868, 4117.1125022070455, 4059.246994332961, 3540.4185778953606, 5274.928936776324, 4833.588578528076, 3507.6286588615567, 3452.896298204576, 4060.3832919090873, 3220.362220513379, 3610.514455177825, 3331.9903691234563, 8582.564865119359, 7695.848338027529, 7399.785795052491, 6969.048550661499, 5147.718384366556, 4954.487812561769, 4804.663454268483, 4794.167799854043, 4503.8260325048195, 4454.519048489443, 4360.301494943597, 4212.142221233412, 4154.27149263848, 4117.973757199764, 3441.8594190222793, 3406.9889743468225, 3184.5155689880607, 3152.0637065157307, 3107.456119565923, 3050.5637502275376, 2769.5265568166847, 2630.223453382373, 2509.415747396, 2475.991331953512, 2406.9239718237222, 2351.6610575837767, 2276.4886512380635, 2231.5223941426807, 2128.1078149177156, 2126.3851953149433, 4432.814622123149, 8486.163092202816, 9018.311351131406, 7469.778993939218, 9656.662922245387, 17302.901293676878, 10885.16227487188, 3219.503459001841, 3373.527609809132, 4440.2904797710935, 3756.9203949842295, 5959.407662272397, 4544.127994175075, 4837.686972028021, 3656.012943829823, 3666.2386059271753, 3568.627805831177, 13311.751384020596, 7255.991148188481, 6680.959063607633, 6010.656095519913, 5423.217819382652, 5375.5049167664565, 5305.787649580038, 4925.022427393733, 4888.83749446228, 3986.213956600708, 3610.667504373879, 3554.83266840167, 3280.78435527885, 3232.1182606312077, 3143.694568693848, 3137.423227653918, 2934.493700285834, 2697.334939968249, 2661.822745912401, 2569.3172899271294, 2554.3934957958877, 2498.056285032085, 2480.932452956298, 2424.8450597016517, 2411.1302527981725, 2405.3914240559257, 2352.117777960741, 2284.213244405071, 2249.327462149351, 2184.5295824238983, 10998.517962883867, 5780.888745373541, 9800.103271142425, 5906.462517648117, 4862.222838671233, 2602.308394423973, 3043.6158812196322, 3877.9829491940905, 3301.6250634155954, 7982.209401954748, 3602.5251472534073, 3254.3223795806375, 6109.732773184222, 4251.08353109199, 3966.8390271692324, 3327.2621182859652, 13392.268464657918, 4910.028573419864, 4418.317089695072, 4381.868329739797, 3738.1579048526214, 3599.9633220538612, 3474.993230983073, 3411.9947385424935, 3024.596560950147, 2935.9739832792025, 2872.642894660216, 2822.6671471258524, 2724.807500422289, 2695.0044449592683, 2681.7331857806307, 2678.7654427676193, 2650.501981731047, 2583.594924477355, 2570.543074295991, 2452.6420824038064, 2216.856765742813, 2182.310047956648, 2059.411033537563, 2057.3553801940575, 2041.5489769210697, 2024.8103341727035, 1865.3827068639612, 1783.140527907956, 1745.3264320325704, 1732.1223388735064, 2511.3645870279015, 8050.461890593967, 5498.74470529535, 3197.565977238587, 7504.8349991422665, 3735.517285231237, 4062.2720100396837, 2979.9008088433743, 3810.459886056287, 2956.641962554142, 7357.692161195054, 6343.413621879428, 4243.006813242974, 4908.091704425789, 4140.91595606931, 4411.055696690059, 3421.7758523336583, 3836.796926146274, 3635.0518457312537, 3142.8020387977317, 2979.4714438441742, 11562.902881012777, 10068.398112035926, 8191.4842881536615, 8159.854415261425, 7943.900772121181, 6179.254883851274, 6082.977636090798, 5112.250165648155, 4778.514834885168, 4706.217342066594, 4441.831184621424, 4109.283072538181, 4080.206526829157, 4008.6972252639785, 3840.7035403529608, 3537.8982152771187, 3522.923926498871, 3489.712066782057, 3151.0711645747983, 3087.670414154834, 3010.172562776456, 2829.8460161459957, 2821.8502238746323, 2799.297328240996, 2645.715482775243, 2533.9633685718914, 2530.3369266190525, 2512.85436937259, 2399.6074715294085, 2377.6732925793253, 7207.22844292151, 5774.929359639979, 5927.544796546749, 4085.1073906464876, 9842.238333689596, 4108.689463198309, 4630.046593139894, 3643.9834675081756, 3742.529567281057, 3566.4087248897763, 11714.747785184934, 11093.424847159667, 4955.806510058581, 4085.7677391190045, 4074.5269258270987, 3803.4330662457937, 3745.6314268200917, 3359.3273455825106, 3358.3073532684552, 2970.335224443177, 2961.8702664331577, 2957.763174451933, 2782.0766125132864, 2746.3982239934844, 2653.3428223164738, 2624.8443971303095, 2580.9905078788015, 2569.7201263702937, 2515.1325298574725, 2511.1539373438864, 2360.215083431328, 2348.849550067891, 2270.749441103718, 2129.6872608058543, 2085.273576295673, 2031.6230476999713, 2020.3517769217913, 1980.299070884258, 1953.7592621511951, 1808.9162406831088, 9057.974605107807, 3000.007707914111, 6743.237661984328, 3172.812813797294, 4218.795812563048, 3240.4264324690357, 3565.6616975051174, 2636.5974297534235, 3086.3649081024187, 4082.3351581841716, 3523.9591739081675, 2758.5658786012787, 2945.931441462826, 2751.836330356629, 2728.887392560057, 15185.982498284802, 7368.01907424336, 5141.512772159405, 4797.017337190244, 4646.486514425776, 4093.3969709857324, 4091.0061324241533, 3617.256293297134, 3549.348966497102, 3496.370935295807, 3448.695507559774, 3398.186765004855, 3373.7070049754325, 3366.719835949958, 3107.3582996587106, 2995.3413570505636, 2982.5628827568053, 2810.083593067245, 2754.102901538241, 2667.5755693428414, 2559.1582188690963, 2528.58713200064, 2500.950700570523, 2484.6848644336433, 2459.7488493784795, 2432.8733615470655, 2422.492170722703, 2416.754202622553, 2353.0982925991534, 2324.369782651505, 4861.137947291005, 3709.459589134729, 4168.421920634965, 4660.646643612389, 3700.6056192245856, 4120.553590140849, 3205.44112933021, 5018.198128387803, 3667.504128204601, 4394.625295165086, 3041.6737993406377, 8419.438620288262, 5979.524277694674, 5440.292419889513, 5434.232968194788, 5144.007970384596, 4727.205768238073, 4321.476034547585, 4305.774810108707, 3728.203538775952, 3673.49720132629, 3218.288310638204, 3092.167930086673, 2929.8867888616187, 2494.03723821906, 2464.746460958761, 2414.003180008752, 2410.2282879040604, 2407.8892326149394, 2365.000089212613, 2326.477946171098, 2311.1708240520334, 2246.0371532147738, 2146.231291554528, 2137.8396883384908, 2111.882255820469, 2107.618518199437, 2078.394869064429, 2020.8121575459675, 2016.9000714171584, 1972.6864328162637, 8283.198197460966, 7379.6383546265215, 3723.478423821139, 3583.6794759100558, 3182.8631684580196, 3003.7612172996332, 3125.1077158556595, 2595.6001822310045, 4537.99346945659, 2317.1143805807756, 13382.418108022961, 12157.760768036695, 10649.706356649684, 9242.513833537227, 6797.855525557416, 5516.047483033461, 4044.902483623997, 3266.6889985974376, 2848.4234205469743, 2759.952102638408, 2696.3751966739683, 2575.509812370746, 2467.3573087921527, 2419.2598016345823, 2417.91980069435, 2115.6616972126753, 1884.0449476454144, 1780.5705701334011, 1772.8188684823212, 1753.676658745616, 1741.7718043390244, 1699.7720641023293, 1693.5073909251364, 1606.3220638423984, 1525.5378104804054, 1446.0086671612366, 1364.5945458446915, 1326.1617235800832, 1309.3108179329129, 1296.5080453743576, 18230.07792296767, 11075.23704522794, 5324.4591045271545, 2103.6221925903133, 2048.510121824545, 2054.08454073872, 24777.563507239138, 20083.772509097493, 17913.553417023355, 17865.419753540773, 13935.84279069494, 13904.487228254278, 11039.404090431779, 10838.601170119318, 7861.308619995761, 6508.282802151968, 5554.266202779863, 5140.730204881416, 3844.230179852549, 3646.976892231867, 3525.94526433157, 2087.5868733931807, 2059.7108414774457, 1808.893222343836, 1634.766308003073, 1623.4324928110711, 1595.1939900630196, 1388.7722389784465, 1368.3739294146064, 1265.3013635528644, 1187.5834015008377, 1174.9124348424775, 1104.2550162000873, 1080.1294502108935, 988.9336360867832, 984.4131712751913, 6652.966095920279, 3593.3416296413316, 1187.5941773406746], \"Total\": [24778.0, 20084.0, 22768.0, 17914.0, 17866.0, 13936.0, 13905.0, 17729.0, 13383.0, 12158.0, 15186.0, 30771.0, 11040.0, 10839.0, 10650.0, 14718.0, 13393.0, 13312.0, 11715.0, 9243.0, 11563.0, 17063.0, 11094.0, 12610.0, 11611.0, 12398.0, 11621.0, 13316.0, 7862.0, 10069.0, 14718.147536639164, 12610.098932006418, 11621.185749617884, 11302.7713825217, 8729.692134014525, 7678.842286400326, 5912.806290399402, 4817.495146484064, 4407.228969780133, 4347.381808581459, 4288.40051857199, 4264.208685382203, 3845.7310344104008, 3507.1345899328094, 3429.556104755808, 3295.265380957925, 3252.323548062677, 3135.522529210906, 2960.230555698868, 2947.919403190544, 2861.3249994357643, 2519.802933950953, 2431.541124366372, 2339.116766950492, 2325.7150957432395, 2318.1863006410003, 2270.7393728954626, 2184.2764910454043, 2149.8259779890122, 2126.3668092555145, 17063.534606431807, 10847.43790080472, 4083.7185738416997, 6403.954998391277, 5217.123669184744, 5177.787233459536, 4345.477625787005, 8133.2726135053845, 8137.4849480402145, 4825.560094090571, 4738.816918608671, 9757.192426463569, 4407.955188318644, 22885.860278522276, 9948.007306809273, 8583.515618748948, 7696.799099989419, 7400.736537283012, 6969.999323826795, 5148.669101310885, 4955.438659904204, 4805.614220994076, 4795.118554433884, 4504.776828496703, 4455.469796138994, 4361.25223957424, 4213.093016025669, 4155.222241519904, 4118.924525903837, 3442.8102158997362, 3407.939736937035, 3185.4663413732046, 3153.014426611196, 3108.4068752020935, 3051.514552650872, 2770.4773497833185, 2631.174261746448, 2510.3665377008556, 2476.9420882236827, 2407.874769719239, 2352.6118066724175, 2277.439472090795, 2232.473140043391, 2129.0586751768355, 2127.335941676027, 4767.455167155329, 10106.254318265192, 11738.704231612024, 9818.9944435556, 13908.58885098807, 30771.061473654052, 18242.890032613956, 3830.1055360963646, 4608.5312297995615, 9757.192426463569, 6312.4802433928135, 28049.552750613904, 11788.8790303203, 22885.860278522276, 14953.30407239634, 15802.719001246312, 13947.657955309374, 13312.70247646606, 7256.942265623923, 6681.9101546598, 6011.607196157901, 5424.168920839987, 5376.456067868399, 5306.738767714717, 4925.973516848471, 4889.788634273716, 3987.165045394968, 3611.6186222185165, 3555.783853566795, 3281.7354950564836, 3233.0693659879944, 3144.645674101336, 3138.374400259571, 2935.4449157649415, 2698.286024230277, 2662.773914311347, 2570.2684845415783, 2555.34460585291, 2499.0073902255253, 2481.88358864097, 2425.7961664819863, 2412.0813797963706, 2406.342515969005, 2353.0689323694114, 2285.164342031577, 2250.2786683665677, 2185.4807361043313, 13316.4676197835, 7743.2084212955215, 15802.719001246312, 8154.1964554413435, 6726.482707132217, 2719.5839866591086, 3521.807490417002, 5580.036662322895, 4167.501450855487, 22885.860278522276, 5266.455003702737, 4414.07698832576, 30771.061473654052, 13908.58885098807, 11788.8790303203, 11611.295574902106, 13393.22080412997, 4910.980920571152, 4419.269449905457, 4382.820684182827, 3739.110285052613, 3600.9157029369176, 3475.9456011167126, 3412.947115129912, 3025.548935908419, 2936.9263833282234, 2873.5952999262213, 2823.6195062501824, 2725.7598628408473, 2695.9567729471496, 2682.6856035085434, 2679.717835896257, 2651.4543747451057, 2584.5473140425725, 2571.495443310409, 2453.5944725610975, 2217.8091567982806, 2183.262476094841, 2060.363433965345, 2058.307777000382, 2042.5013535462467, 2025.7627460128558, 1866.3351866995179, 1784.0928797085946, 1746.2788258794085, 1733.0747316512304, 2738.8035543736237, 11617.722977052192, 7871.476621457977, 3927.311425587414, 14461.408548326299, 5473.3729202697605, 7200.043302603118, 4067.0399841003086, 6712.407083251489, 4119.699400528795, 30771.061473654052, 28049.552750613904, 10410.660487999005, 22885.860278522276, 13199.739946506363, 18242.890032613956, 8053.6089607654985, 18501.781090018114, 13947.657955309374, 10224.734086135359, 8079.653654193925, 11563.862397249017, 10069.357533414743, 8192.443737104206, 8160.81383426968, 7944.860242824882, 6180.214365467845, 6083.937116267176, 5113.209580391839, 4779.474260615707, 4707.1767478259935, 4442.7906555286945, 4110.242512645844, 4081.16606963423, 4009.6567098913583, 3841.6630628577213, 3538.8577281606135, 3523.8833642765844, 3490.6715458210983, 3152.0306386859675, 3088.6299263779597, 3011.1320250912877, 2830.805538497993, 2822.80968631667, 2800.256859872001, 2646.6748918621815, 2534.9228134063337, 2531.296432956923, 2513.8138975827505, 2400.566911127995, 2378.632807221032, 10946.897671149853, 8156.130361954667, 8657.288717774201, 5294.667455220874, 28049.552750613904, 6032.700659658132, 18501.781090018114, 8298.534280327704, 9999.861676712591, 11617.722977052192, 11715.704263735413, 11094.381382731566, 4956.763021695261, 4086.724295086194, 4075.48343107033, 3804.3895869048924, 3746.5879259978574, 3360.2838992074435, 3359.263847995711, 2971.291841415, 2962.8267842348996, 2958.7197680938957, 2783.033137205243, 2747.3547273023373, 2654.299371057375, 2625.800937606151, 2581.9470641939015, 2570.676675355882, 2516.0890415587965, 2512.1104907149215, 2361.1716785715093, 2349.80611726118, 2271.7060144985076, 2130.643770584815, 2086.230210664377, 2032.579583355051, 2021.3083101272036, 1981.2555890184442, 1954.715805803419, 1809.8727480254176, 13199.739946506363, 3686.8124694250123, 13947.657955309374, 4191.79726955322, 7076.722932145868, 4586.729873125888, 6843.118902939511, 3637.767818977897, 6173.56596839152, 28049.552750613904, 18501.781090018114, 5038.551945078133, 18242.890032613956, 9948.007306809273, 8657.288717774201, 15186.9335543397, 7368.9701928418535, 5142.463755085875, 4797.968402730239, 4647.437542649537, 4094.34802553406, 4091.9571676438973, 3618.207312950586, 3550.3000872840075, 3497.3219647319524, 3449.64659436678, 3399.137918941146, 3374.65801513017, 3367.6709008468583, 3108.309371137835, 2996.2924423037, 2983.513888962645, 2811.0346107883583, 2755.0538545932445, 2668.5266363709866, 2560.1092071090475, 2529.538234581018, 2501.90180072342, 2485.635911630359, 2460.6999211091056, 2433.824435123503, 2423.4431627162753, 2417.705226234621, 2354.049391362834, 2325.3208266637403, 5998.858624498692, 4308.82422058701, 5310.195431870421, 7103.441281489041, 4855.50771535075, 7062.952595607676, 4337.073478697584, 12398.671639608632, 7025.965846909741, 14953.30407239634, 9999.861676712591, 8420.382218032953, 5980.467934724956, 5441.235995336356, 5435.176513460241, 5144.9515697579245, 4728.1493936995, 4322.419560962746, 4306.718385925074, 3729.147045564926, 3674.4408227190647, 3219.231939612887, 3093.111607991344, 2930.8303653389426, 2494.9808475018594, 2465.690087878039, 2414.94678556148, 2411.1719057693267, 2408.832916239343, 2365.943710298708, 2327.4215743571435, 2312.1145140407834, 2246.980734631944, 2147.175017182675, 2138.7832841822556, 2112.8258538760074, 2108.562109139456, 2079.338441975476, 2021.7558131465537, 2017.843700849497, 1973.630056552413, 11611.295574902106, 12398.671639608632, 5084.521758017931, 5287.943500590941, 4755.005794011483, 4656.434879198632, 5540.31142136919, 3574.1975841921744, 22768.90885253457, 13316.4676197835, 13383.371461264187, 12158.714114952416, 10650.65976965249, 9243.467203455222, 6798.808939303635, 5517.000867961626, 4045.855834527664, 3267.6424395566205, 2849.3769172623765, 2760.905556026881, 2697.32867187215, 2576.46325101054, 2468.310739355042, 2420.2132131155868, 2418.8732458566765, 2116.6151364989396, 1884.998389850201, 1781.5240198177307, 1773.7722855313261, 1754.6301112191359, 1742.7252593590229, 1700.7254958463632, 1694.4608219290214, 1607.275649839531, 1526.491225724885, 1446.9621173565417, 1365.547999328632, 1327.115162299665, 1310.2642458572582, 1297.4615218565502, 22768.90885253457, 17729.05132813398, 8918.648964919357, 3317.7710629107764, 3519.7289228057175, 5087.399646587972, 24778.51778973361, 20084.72682829768, 17914.507742263675, 17866.374018238985, 13936.797135794377, 13905.441479114654, 11040.358337749618, 10839.555466043012, 7862.2629268897335, 6509.2370392926, 5555.220495110554, 5141.684479614437, 3845.1844373474173, 3647.9311462647656, 3526.899510354059, 2088.5412182743607, 2060.6651991094413, 1809.8475477454356, 1635.720707300993, 1624.3869151679098, 1596.1483297690945, 1389.7265828745167, 1369.3283057480771, 1266.2556850882945, 1188.5377740634979, 1175.8668441155833, 1105.2093975495795, 1081.0838283618873, 989.8880635303639, 985.367562687919, 17729.05132813398, 8918.648964919357, 2359.510310010556], \"Category\": [\"Default\", \"Default\", \"Default\", \"Default\", \"Default\", \"Default\", \"Default\", \"Default\", \"Default\", \"Default\", \"Default\", \"Default\", \"Default\", \"Default\", \"Default\", \"Default\", \"Default\", \"Default\", \"Default\", \"Default\", \"Default\", \"Default\", \"Default\", \"Default\", \"Default\", \"Default\", \"Default\", \"Default\", \"Default\", \"Default\", \"Topic1\", \"Topic1\", \"Topic1\", \"Topic1\", \"Topic1\", \"Topic1\", \"Topic1\", \"Topic1\", \"Topic1\", \"Topic1\", \"Topic1\", \"Topic1\", \"Topic1\", \"Topic1\", \"Topic1\", \"Topic1\", \"Topic1\", \"Topic1\", \"Topic1\", \"Topic1\", \"Topic1\", \"Topic1\", \"Topic1\", \"Topic1\", \"Topic1\", \"Topic1\", \"Topic1\", \"Topic1\", \"Topic1\", \"Topic1\", \"Topic1\", \"Topic1\", \"Topic1\", \"Topic1\", \"Topic1\", \"Topic1\", \"Topic1\", \"Topic1\", \"Topic1\", \"Topic1\", \"Topic1\", \"Topic1\", \"Topic1\", \"Topic1\", \"Topic1\", \"Topic2\", \"Topic2\", \"Topic2\", \"Topic2\", \"Topic2\", \"Topic2\", \"Topic2\", \"Topic2\", \"Topic2\", \"Topic2\", \"Topic2\", \"Topic2\", \"Topic2\", \"Topic2\", \"Topic2\", \"Topic2\", \"Topic2\", \"Topic2\", \"Topic2\", \"Topic2\", \"Topic2\", \"Topic2\", \"Topic2\", \"Topic2\", \"Topic2\", \"Topic2\", \"Topic2\", \"Topic2\", \"Topic2\", \"Topic2\", \"Topic2\", \"Topic2\", \"Topic2\", \"Topic2\", \"Topic2\", \"Topic2\", \"Topic2\", \"Topic2\", \"Topic2\", \"Topic2\", \"Topic2\", \"Topic2\", \"Topic2\", \"Topic2\", \"Topic2\", \"Topic2\", \"Topic2\", \"Topic3\", \"Topic3\", \"Topic3\", \"Topic3\", \"Topic3\", \"Topic3\", \"Topic3\", \"Topic3\", \"Topic3\", \"Topic3\", \"Topic3\", \"Topic3\", \"Topic3\", \"Topic3\", \"Topic3\", \"Topic3\", \"Topic3\", \"Topic3\", \"Topic3\", \"Topic3\", \"Topic3\", \"Topic3\", \"Topic3\", \"Topic3\", \"Topic3\", \"Topic3\", \"Topic3\", \"Topic3\", \"Topic3\", \"Topic3\", \"Topic3\", \"Topic3\", \"Topic3\", \"Topic3\", \"Topic3\", \"Topic3\", \"Topic3\", \"Topic3\", \"Topic3\", \"Topic3\", \"Topic3\", \"Topic3\", \"Topic3\", \"Topic3\", \"Topic3\", \"Topic3\", \"Topic4\", \"Topic4\", \"Topic4\", \"Topic4\", \"Topic4\", \"Topic4\", \"Topic4\", \"Topic4\", \"Topic4\", \"Topic4\", \"Topic4\", \"Topic4\", \"Topic4\", \"Topic4\", \"Topic4\", \"Topic4\", \"Topic4\", \"Topic4\", \"Topic4\", \"Topic4\", \"Topic4\", \"Topic4\", \"Topic4\", \"Topic4\", \"Topic4\", \"Topic4\", \"Topic4\", \"Topic4\", \"Topic4\", \"Topic4\", \"Topic4\", \"Topic4\", \"Topic4\", \"Topic4\", \"Topic4\", \"Topic4\", \"Topic4\", \"Topic4\", \"Topic4\", \"Topic4\", \"Topic4\", \"Topic4\", \"Topic4\", \"Topic4\", \"Topic4\", \"Topic4\", \"Topic4\", \"Topic4\", \"Topic4\", \"Topic4\", \"Topic4\", \"Topic5\", \"Topic5\", \"Topic5\", \"Topic5\", \"Topic5\", \"Topic5\", \"Topic5\", \"Topic5\", \"Topic5\", \"Topic5\", \"Topic5\", \"Topic5\", \"Topic5\", \"Topic5\", \"Topic5\", \"Topic5\", \"Topic5\", \"Topic5\", \"Topic5\", \"Topic5\", \"Topic5\", \"Topic5\", \"Topic5\", \"Topic5\", \"Topic5\", \"Topic5\", \"Topic5\", \"Topic5\", \"Topic5\", \"Topic5\", \"Topic5\", \"Topic5\", \"Topic5\", \"Topic5\", \"Topic5\", \"Topic5\", \"Topic5\", \"Topic5\", \"Topic5\", \"Topic5\", \"Topic6\", \"Topic6\", \"Topic6\", \"Topic6\", \"Topic6\", \"Topic6\", \"Topic6\", \"Topic6\", \"Topic6\", \"Topic6\", \"Topic6\", \"Topic6\", \"Topic6\", \"Topic6\", \"Topic6\", \"Topic6\", \"Topic6\", \"Topic6\", \"Topic6\", \"Topic6\", \"Topic6\", \"Topic6\", \"Topic6\", \"Topic6\", \"Topic6\", \"Topic6\", \"Topic6\", \"Topic6\", \"Topic6\", \"Topic6\", \"Topic6\", \"Topic6\", \"Topic6\", \"Topic6\", \"Topic6\", \"Topic6\", \"Topic6\", \"Topic6\", \"Topic6\", \"Topic6\", \"Topic6\", \"Topic6\", \"Topic6\", \"Topic6\", \"Topic6\", \"Topic7\", \"Topic7\", \"Topic7\", \"Topic7\", \"Topic7\", \"Topic7\", \"Topic7\", \"Topic7\", \"Topic7\", \"Topic7\", \"Topic7\", \"Topic7\", \"Topic7\", \"Topic7\", \"Topic7\", \"Topic7\", \"Topic7\", \"Topic7\", \"Topic7\", \"Topic7\", \"Topic7\", \"Topic7\", \"Topic7\", \"Topic7\", \"Topic7\", \"Topic7\", \"Topic7\", \"Topic7\", \"Topic7\", \"Topic7\", \"Topic7\", \"Topic7\", \"Topic7\", \"Topic7\", \"Topic7\", \"Topic7\", \"Topic7\", \"Topic7\", \"Topic7\", \"Topic7\", \"Topic7\", \"Topic8\", \"Topic8\", \"Topic8\", \"Topic8\", \"Topic8\", \"Topic8\", \"Topic8\", \"Topic8\", \"Topic8\", \"Topic8\", \"Topic8\", \"Topic8\", \"Topic8\", \"Topic8\", \"Topic8\", \"Topic8\", \"Topic8\", \"Topic8\", \"Topic8\", \"Topic8\", \"Topic8\", \"Topic8\", \"Topic8\", \"Topic8\", \"Topic8\", \"Topic8\", \"Topic8\", \"Topic8\", \"Topic8\", \"Topic8\", \"Topic8\", \"Topic8\", \"Topic8\", \"Topic8\", \"Topic8\", \"Topic8\", \"Topic8\", \"Topic8\", \"Topic8\", \"Topic8\", \"Topic9\", \"Topic9\", \"Topic9\", \"Topic9\", \"Topic9\", \"Topic9\", \"Topic9\", \"Topic9\", \"Topic9\", \"Topic9\", \"Topic9\", \"Topic9\", \"Topic9\", \"Topic9\", \"Topic9\", \"Topic9\", \"Topic9\", \"Topic9\", \"Topic9\", \"Topic9\", \"Topic9\", \"Topic9\", \"Topic9\", \"Topic9\", \"Topic9\", \"Topic9\", \"Topic9\", \"Topic9\", \"Topic9\", \"Topic9\", \"Topic9\", \"Topic9\", \"Topic9\", \"Topic9\", \"Topic9\", \"Topic9\", \"Topic10\", \"Topic10\", \"Topic10\", \"Topic10\", \"Topic10\", \"Topic10\", \"Topic10\", \"Topic10\", \"Topic10\", \"Topic10\", \"Topic10\", \"Topic10\", \"Topic10\", \"Topic10\", \"Topic10\", \"Topic10\", \"Topic10\", \"Topic10\", \"Topic10\", \"Topic10\", \"Topic10\", \"Topic10\", \"Topic10\", \"Topic10\", \"Topic10\", \"Topic10\", \"Topic10\", \"Topic10\", \"Topic10\", \"Topic10\", \"Topic10\", \"Topic10\", \"Topic10\"], \"logprob\": [30.0, 29.0, 28.0, 27.0, 26.0, 25.0, 24.0, 23.0, 22.0, 21.0, 20.0, 19.0, 18.0, 17.0, 16.0, 15.0, 14.0, 13.0, 12.0, 11.0, 10.0, 9.0, 8.0, 7.0, 6.0, 5.0, 4.0, 3.0, 2.0, 1.0, -3.7706, -3.9252, -4.0068, -4.0346, -4.293, -4.4212, -4.6826, -4.8875, -4.9765, -4.9902, -5.0039, -5.0095, -5.1129, -5.2051, -5.2274, -5.2674, -5.2805, -5.3171, -5.3746, -5.3788, -5.4086, -5.5358, -5.5714, -5.6102, -5.616, -5.6192, -5.6399, -5.6787, -5.6946, -5.7056, -3.8068, -4.2842, -5.1883, -4.8594, -5.0444, -5.0586, -5.1953, -4.7966, -4.884, -5.2046, -5.2204, -5.0583, -5.2901, -5.1757, -5.256, -4.1902, -4.2993, -4.3385, -4.3985, -4.7014, -4.7397, -4.7704, -4.7726, -4.835, -4.846, -4.8674, -4.902, -4.9158, -4.9246, -5.1039, -5.1141, -5.1817, -5.1919, -5.2061, -5.2246, -5.3213, -5.3729, -5.4199, -5.4333, -5.4616, -5.4848, -5.5173, -5.5373, -5.5847, -5.5855, -4.8509, -4.2015, -4.1407, -4.3291, -4.0723, -3.4891, -3.9526, -5.1707, -5.124, -4.8492, -5.0164, -4.555, -4.8261, -4.7635, -5.0436, -5.0408, -5.0678, -3.6934, -4.3002, -4.3828, -4.4885, -4.5913, -4.6002, -4.6132, -4.6877, -4.6951, -4.8992, -4.9981, -5.0137, -5.0939, -5.1089, -5.1366, -5.1386, -5.2055, -5.2898, -5.303, -5.3384, -5.3442, -5.3665, -5.3734, -5.3963, -5.4019, -5.4043, -5.4267, -5.456, -5.4714, -5.5006, -3.8843, -4.5275, -3.9996, -4.506, -4.7005, -5.3256, -5.169, -4.9267, -5.0876, -4.2048, -5.0004, -5.102, -4.4721, -4.8349, -4.9041, -5.0799, -3.6861, -4.6895, -4.795, -4.8033, -4.9622, -4.9999, -5.0352, -5.0535, -5.174, -5.2038, -5.2256, -5.2431, -5.2784, -5.2894, -5.2943, -5.2954, -5.306, -5.3316, -5.3367, -5.3836, -5.4847, -5.5004, -5.5584, -5.5594, -5.5671, -5.5753, -5.6573, -5.7024, -5.7239, -5.7315, -5.36, -4.1951, -4.5763, -5.1184, -4.2653, -4.9629, -4.8791, -5.1889, -4.943, -5.1967, -4.2851, -4.4334, -4.8355, -4.6899, -4.8599, -4.7967, -5.0506, -4.9362, -4.9902, -5.1357, -5.1891, -3.7289, -3.8673, -4.0736, -4.0775, -4.1043, -4.3555, -4.3712, -4.5451, -4.6126, -4.6278, -4.6856, -4.7635, -4.7706, -4.7882, -4.8311, -4.9132, -4.9174, -4.9269, -5.029, -5.0493, -5.0747, -5.1365, -5.1393, -5.1473, -5.2038, -5.2469, -5.2484, -5.2553, -5.3014, -5.3106, -4.2016, -4.4232, -4.3971, -4.7694, -3.89, -4.7636, -4.6441, -4.8836, -4.857, -4.9052, -3.7076, -3.7621, -4.5678, -4.7609, -4.7636, -4.8325, -4.8478, -4.9567, -4.957, -5.0797, -5.0826, -5.084, -5.1452, -5.1581, -5.1926, -5.2034, -5.2202, -5.2246, -5.2461, -5.2477, -5.3097, -5.3145, -5.3483, -5.4124, -5.4335, -5.4596, -5.4651, -5.4852, -5.4986, -5.5757, -3.9648, -5.0698, -4.2599, -5.0138, -4.7289, -4.9927, -4.8971, -5.1989, -5.0414, -4.7617, -4.9088, -5.1537, -5.088, -5.1561, -5.1645, -3.4477, -4.1709, -4.5307, -4.6001, -4.6319, -4.7587, -4.7593, -4.8823, -4.9013, -4.9163, -4.9301, -4.9448, -4.952, -4.9541, -5.0343, -5.071, -5.0753, -5.1348, -5.155, -5.1869, -5.2284, -5.2404, -5.2514, -5.2579, -5.268, -5.279, -5.2832, -5.2856, -5.3123, -5.3246, -4.5868, -4.8572, -4.7405, -4.6289, -4.8596, -4.7521, -5.0032, -4.555, -4.8685, -4.6877, -5.0556, -3.6234, -3.9656, -4.0601, -4.0613, -4.1161, -4.2006, -4.2904, -4.294, -4.438, -4.4528, -4.5851, -4.6251, -4.679, -4.8401, -4.8519, -4.8727, -4.8743, -4.8752, -4.8932, -4.9096, -4.9162, -4.9448, -4.9903, -4.9942, -5.0064, -5.0084, -5.0224, -5.0505, -5.0524, -5.0746, -3.6397, -3.7552, -4.4393, -4.4776, -4.5962, -4.6541, -4.6145, -4.8002, -4.2415, -4.9136, -2.9989, -3.0948, -3.2273, -3.369, -3.6762, -3.8851, -4.1953, -4.409, -4.546, -4.5776, -4.6009, -4.6468, -4.6897, -4.7093, -4.7099, -4.8434, -4.9594, -5.0159, -5.0202, -5.0311, -5.0379, -5.0623, -5.066, -5.1189, -5.1705, -5.224, -5.2819, -5.3105, -5.3233, -5.3331, -2.6897, -3.1881, -3.9205, -4.8491, -4.8757, -4.873, -2.3286, -2.5386, -2.6529, -2.6556, -2.904, -2.9063, -3.137, -3.1554, -3.4765, -3.6654, -3.8239, -3.9013, -4.1919, -4.2446, -4.2784, -4.8025, -4.8159, -4.9458, -5.047, -5.054, -5.0715, -5.2101, -5.2249, -5.3032, -5.3666, -5.3773, -5.4393, -5.4614, -5.5496, -5.5542, -3.6434, -4.2594, -5.3666], \"loglift\": [30.0, 29.0, 28.0, 27.0, 26.0, 25.0, 24.0, 23.0, 22.0, 21.0, 20.0, 19.0, 18.0, 17.0, 16.0, 15.0, 14.0, 13.0, 12.0, 11.0, 10.0, 9.0, 8.0, 7.0, 6.0, 5.0, 4.0, 3.0, 2.0, 1.0, 1.963, 1.963, 1.963, 1.963, 1.963, 1.963, 1.9629, 1.9629, 1.9629, 1.9629, 1.9629, 1.9628, 1.9628, 1.9628, 1.9628, 1.9628, 1.9628, 1.9628, 1.9628, 1.9627, 1.9627, 1.9627, 1.9627, 1.9627, 1.9627, 1.9627, 1.9627, 1.9626, 1.9626, 1.9626, 1.779, 1.7545, 1.8273, 1.7063, 1.7263, 1.7197, 1.7582, 1.5301, 1.4422, 1.6441, 1.6465, 1.0863, 1.6492, 0.1164, 0.8693, 2.0826, 2.0826, 2.0826, 2.0826, 2.0825, 2.0825, 2.0825, 2.0825, 2.0825, 2.0825, 2.0825, 2.0825, 2.0825, 2.0825, 2.0824, 2.0824, 2.0824, 2.0824, 2.0824, 2.0824, 2.0824, 2.0823, 2.0823, 2.0823, 2.0823, 2.0823, 2.0823, 2.0823, 2.0823, 2.0823, 2.0099, 1.908, 1.8191, 1.8092, 1.7178, 1.507, 1.5663, 1.909, 1.7708, 1.2954, 1.5638, 0.5337, 1.1294, 0.5286, 0.6741, 0.6217, 0.7196, 2.1405, 2.1405, 2.1405, 2.1405, 2.1404, 2.1404, 2.1404, 2.1404, 2.1404, 2.1404, 2.1404, 2.1404, 2.1403, 2.1403, 2.1403, 2.1403, 2.1403, 2.1403, 2.1403, 2.1403, 2.1402, 2.1402, 2.1402, 2.1402, 2.1402, 2.1402, 2.1402, 2.1402, 2.1402, 2.1402, 1.9494, 1.8484, 1.6628, 1.8181, 1.8161, 2.0965, 1.9947, 1.7767, 1.9077, 1.0873, 1.7609, 1.8358, 0.5239, 0.9553, 1.0514, 0.8908, 2.1418, 2.1417, 2.1416, 2.1416, 2.1416, 2.1416, 2.1416, 2.1416, 2.1415, 2.1415, 2.1415, 2.1415, 2.1415, 2.1415, 2.1415, 2.1415, 2.1415, 2.1415, 2.1415, 2.1415, 2.1414, 2.1414, 2.1414, 2.1414, 2.1414, 2.1414, 2.1413, 2.1413, 2.1413, 2.1413, 2.0552, 1.7751, 1.7831, 1.9363, 1.4859, 1.7598, 1.5695, 1.8308, 1.5756, 1.8101, 0.711, 0.6553, 1.2443, 0.6022, 0.9826, 0.7222, 1.2859, 0.5686, 0.7972, 0.9622, 1.1443, 2.2459, 2.2458, 2.2458, 2.2458, 2.2458, 2.2458, 2.2458, 2.2458, 2.2457, 2.2457, 2.2457, 2.2457, 2.2457, 2.2457, 2.2457, 2.2457, 2.2457, 2.2457, 2.2456, 2.2456, 2.2456, 2.2456, 2.2456, 2.2456, 2.2456, 2.2456, 2.2456, 2.2456, 2.2455, 2.2455, 1.828, 1.9007, 1.8671, 1.9866, 1.1986, 1.8618, 0.8606, 1.4229, 1.2631, 1.065, 2.2542, 2.2542, 2.2541, 2.254, 2.254, 2.254, 2.254, 2.254, 2.254, 2.2539, 2.2539, 2.2539, 2.2539, 2.2539, 2.2539, 2.2539, 2.2539, 2.2539, 2.2539, 2.2539, 2.2538, 2.2538, 2.2538, 2.2538, 2.2538, 2.2538, 2.2538, 2.2538, 2.2538, 2.2537, 1.8777, 2.0481, 1.5275, 1.9757, 1.737, 1.9068, 1.6024, 1.9324, 1.561, 0.3269, 0.596, 1.6518, 0.4309, 0.9691, 1.0997, 2.2545, 2.2545, 2.2544, 2.2544, 2.2544, 2.2544, 2.2544, 2.2543, 2.2543, 2.2543, 2.2543, 2.2543, 2.2543, 2.2543, 2.2543, 2.2543, 2.2543, 2.2543, 2.2543, 2.2542, 2.2542, 2.2542, 2.2542, 2.2542, 2.2542, 2.2542, 2.2542, 2.2542, 2.2542, 2.2542, 2.0443, 2.1048, 2.0125, 1.8332, 1.983, 1.7157, 1.9523, 1.3501, 1.6045, 1.0301, 1.0644, 2.6686, 2.6685, 2.6685, 2.6685, 2.6685, 2.6685, 2.6685, 2.6685, 2.6684, 2.6684, 2.6684, 2.6684, 2.6684, 2.6683, 2.6683, 2.6683, 2.6683, 2.6683, 2.6683, 2.6683, 2.6683, 2.6683, 2.6682, 2.6682, 2.6682, 2.6682, 2.6682, 2.6682, 2.6682, 2.6682, 2.3309, 2.1498, 2.3571, 2.2796, 2.2673, 2.2303, 2.0961, 2.3488, 1.0558, 0.92, 2.8298, 2.8298, 2.8298, 2.8298, 2.8297, 2.8297, 2.8296, 2.8296, 2.8295, 2.8295, 2.8295, 2.8295, 2.8295, 2.8295, 2.8295, 2.8294, 2.8293, 2.8293, 2.8293, 2.8293, 2.8293, 2.8293, 2.8293, 2.8293, 2.8292, 2.8292, 2.8292, 2.8291, 2.8291, 2.8291, 2.6075, 2.3594, 2.314, 2.3742, 2.2886, 1.9229, 2.8841, 2.8841, 2.8841, 2.8841, 2.8841, 2.8841, 2.8841, 2.8841, 2.884, 2.884, 2.884, 2.884, 2.8839, 2.8839, 2.8839, 2.8837, 2.8837, 2.8836, 2.8836, 2.8836, 2.8836, 2.8835, 2.8835, 2.8834, 2.8834, 2.8833, 2.8833, 2.8833, 2.8832, 2.8832, 1.904, 1.9751, 2.1976]}, \"token.table\": {\"Topic\": [7, 9, 3, 9, 10, 3, 6, 1, 2, 3, 4, 7, 4, 6, 5, 3, 5, 9, 1, 7, 4, 4, 3, 1, 3, 4, 2, 9, 3, 7, 7, 6, 2, 9, 3, 3, 5, 9, 2, 5, 2, 9, 1, 4, 6, 7, 2, 6, 2, 5, 6, 10, 7, 1, 7, 2, 6, 3, 4, 6, 8, 9, 2, 3, 7, 8, 4, 5, 3, 7, 7, 2, 3, 9, 9, 5, 3, 4, 6, 5, 1, 2, 3, 4, 5, 6, 1, 2, 1, 2, 6, 5, 4, 2, 1, 9, 8, 8, 9, 1, 9, 10, 7, 1, 2, 2, 4, 1, 2, 5, 6, 7, 9, 2, 7, 4, 6, 7, 2, 10, 9, 9, 3, 1, 6, 7, 9, 1, 7, 4, 8, 3, 10, 7, 8, 10, 4, 7, 3, 7, 8, 1, 8, 10, 2, 5, 3, 4, 7, 4, 5, 2, 8, 9, 10, 8, 5, 1, 3, 2, 3, 6, 2, 4, 1, 6, 5, 1, 6, 9, 2, 3, 4, 4, 5, 2, 3, 1, 8, 6, 3, 8, 2, 7, 7, 3, 6, 7, 8, 4, 2, 4, 1, 1, 5, 4, 5, 9, 5, 4, 6, 1, 4, 4, 5, 6, 4, 5, 1, 8, 3, 6, 2, 3, 4, 7, 2, 4, 1, 5, 7, 4, 2, 3, 5, 6, 3, 3, 10, 8, 3, 6, 10, 5, 1, 4, 5, 7, 8, 3, 3, 6, 4, 3, 3, 4, 3, 4, 3, 3, 2, 4, 7, 6, 7, 7, 3, 2, 4, 6, 3, 4, 6, 4, 1, 1, 5, 8, 9, 1, 2, 3, 5, 7, 3, 4, 2, 5, 10, 2, 4, 7, 6, 4, 5, 2, 10, 2, 1, 2, 4, 6, 7, 4, 5, 5, 6, 3, 2, 4, 6, 4, 1, 5, 4, 4, 2, 1, 4, 7, 1, 9, 4, 6, 1, 4, 8, 7, 10, 10, 1, 3, 4, 5, 6, 3, 10, 9, 3, 2, 8, 1, 2, 8, 6, 2, 8, 2, 3, 4, 5, 9, 10, 6, 3, 8, 3, 9, 1, 2, 4, 7, 10, 5, 5, 3, 10, 1, 7, 8, 5, 6, 5, 1, 7, 1, 1, 9, 8, 10, 2, 4, 1, 8, 1, 5, 8, 1, 2, 4, 9, 1, 5, 7, 8, 1, 1, 6, 10, 2, 8, 4, 8, 5, 6, 4, 10, 10, 6, 9, 2, 5, 5, 7, 8, 7, 1, 5, 3, 7, 6, 1, 6, 7, 10, 6, 2, 7, 3, 2, 5, 5, 3, 5, 2, 1, 7, 6, 5, 8, 8, 2, 10, 3, 6, 7, 7, 1, 9, 9, 8, 4, 10, 7, 1, 3, 4, 2, 1, 2, 1, 5, 1, 2, 3, 4, 5, 6, 2, 6, 9, 3, 8, 8, 10, 7, 1, 8, 1, 2, 4, 8, 2, 2, 5, 2, 4, 6, 7, 3, 5, 6, 10, 1, 2, 3, 4, 7, 5, 4, 6, 1, 2, 4, 5, 6, 8, 1, 2, 9, 10, 9, 1, 6, 7, 8, 10, 4, 2, 7, 10, 3, 10, 9, 1, 9, 1, 6, 3, 10, 2, 6, 9, 6, 5, 4, 7, 9, 6, 3, 8, 8, 2, 4, 6, 6, 6, 4, 8, 4, 2, 3, 4, 10], \"Freq\": [0.9995667344557149, 0.9997280421458805, 0.9999151731433044, 0.5969514016014577, 0.40286370885688155, 0.8643289016457777, 0.13544181540244282, 0.092176359968357, 0.2309595216011346, 0.1578684394656857, 0.5189674280288967, 0.9995686528172442, 0.7177708159047833, 0.2820594142987346, 0.999673023899794, 0.31293000562040096, 0.28305226639031245, 0.40374260775395954, 0.8729788636356196, 0.1268451756979666, 0.9993874311584198, 0.9993646348641368, 0.9997078010612294, 0.24998483840273542, 0.18219991499794125, 0.567605622356628, 0.9996782676911864, 0.9992063279004704, 0.7465897449048359, 0.2532541930043908, 0.999670759416236, 0.9993527409348447, 0.9998536034215312, 0.9997093772560103, 0.9995064778060317, 0.6841414191266809, 0.31577218429299764, 0.9998033935571274, 0.9997399457612675, 0.9997638428133926, 0.36560690204338575, 0.6341606940637128, 0.9995843041020913, 0.9992845943702754, 0.9996978516100614, 0.9998050127961945, 0.9996367046450091, 0.9998227687913606, 0.10525965663212351, 0.681121148191174, 0.21350305156248045, 0.9998963370478514, 0.9996338091845633, 0.9998972191005889, 0.9996652330772443, 0.9997058541158903, 0.9995671689114302, 0.7242896381358204, 0.2755636330665744, 0.999410318833421, 0.9997334158965394, 0.9996442885983318, 0.1086589010523031, 0.10621078023136733, 0.7849051985892536, 0.9996078797322967, 0.9996451082017522, 0.9999254230792973, 0.34377703752738026, 0.6561608402600816, 0.9997981640042297, 0.6943191795703965, 0.30563848320946, 0.9998185847735791, 0.9993350777155802, 0.9994878383503236, 0.2177561584331696, 0.18596178098510782, 0.5961799042372112, 0.999803507549086, 0.13317636761626972, 0.14198633024672913, 0.07669531885044105, 0.20738543934400444, 0.2502461777854419, 0.19046814913950263, 0.999488263458087, 0.9997405668421011, 0.594041037355675, 0.2359451368893041, 0.16995423141557686, 0.999635959958444, 0.9996351549023953, 0.999367942767114, 0.9998099101565191, 0.9995167654886109, 0.9997835372122088, 0.1993068719011031, 0.8006532117137748, 0.9993572090903765, 0.999938053635478, 0.999809956330499, 0.999631946620512, 0.726962245127966, 0.2729216866686235, 0.9998275544990843, 0.9994217479077004, 0.3349414508088763, 0.1273621903285853, 0.08504215707812404, 0.27663831711465414, 0.1759146275256703, 0.9994689731182773, 0.9997646643733092, 0.99986834078352, 0.9997444338957772, 0.9995068975662755, 0.9996395539092865, 0.9998313779462645, 0.9997408630149958, 0.9995734197857709, 0.9994987164316713, 0.9994420927361355, 0.8117124136149052, 0.18815502966360267, 0.8103208133874334, 0.18953605530168932, 0.7735844491793717, 0.22626642447737377, 0.9998073326119641, 0.9996542241540591, 0.9998637882523509, 0.9998393685251337, 0.9996906805876691, 0.9995635322471491, 0.9991461916154585, 0.9996234771251683, 0.9996612594106603, 0.999562066189599, 0.7622271896096964, 0.23766824555784644, 0.9999317527980003, 0.9993563135522062, 0.9998769661538092, 0.999502749647448, 0.9997142802781523, 0.7923212598575532, 0.2075584160438472, 0.9998007819449669, 0.6825772799372617, 0.31735458652329324, 0.9997755419168225, 0.9996337711314426, 0.6246809146761981, 0.37525978558381456, 0.999833194125852, 0.9997339617871615, 0.7304974443781099, 0.2692858591542909, 0.7682278914324088, 0.23171211628921623, 0.9996237723343866, 0.3013411732093351, 0.698598276339854, 0.9996157930932694, 0.9998430769517571, 0.9997576257011441, 0.9995930453895138, 0.9998754880796042, 0.9995074119494574, 0.23198539439389346, 0.6201464443699279, 0.14782266265797467, 0.999754539430108, 0.9996977033247987, 0.3048367068061335, 0.6949775126362056, 0.9996734170313794, 0.999680762587537, 0.9997367715036399, 0.2865313330918328, 0.7133570880672232, 0.26077492243447936, 0.7389775653426228, 0.9996174831241547, 0.3292074072659115, 0.14859167020562541, 0.5220634543239789, 0.9996011273241201, 0.999712746660993, 0.929846185138875, 0.07005834104136797, 0.9997165510716335, 0.9996925265074177, 0.9998651817248283, 0.8142975316814022, 0.18562317091799319, 0.9996389865164815, 0.9999002753541243, 0.3137183017833634, 0.6862256405587311, 0.8318323446684848, 0.16813632498618308, 0.2095535705778859, 0.2693216391736707, 0.5211074147006564, 0.9997882360134795, 0.9996240533188666, 0.2674784502309143, 0.732222257507128, 0.9998701566597289, 0.9998813806807201, 0.9998700438311885, 0.7228146137720282, 0.13171817108227415, 0.14539545295537712, 0.7607703663487363, 0.23912835611604186, 0.3215044471552047, 0.3743051775122648, 0.3042042078526074, 0.9996845738682855, 0.38544801319218736, 0.3365035801790069, 0.17338374537078147, 0.10459009688951738, 0.9998387181261399, 0.9996692412481947, 0.9994771756664438, 0.9997166791538799, 0.9995457284082473, 0.4962894186271901, 0.503494303440736, 0.999715438419546, 0.03540658576334479, 0.7327196220469963, 0.23161808186854715, 0.2736278498775393, 0.7263168694090921, 0.9995077694160835, 0.9994317733245475, 0.9996569430748952, 0.9997457027566153, 0.9998287133046909, 0.9997758822861893, 0.9997805985371573, 0.9996717916810212, 0.9993798699896764, 0.999643984655439, 0.9998607868698547, 0.31474121402221233, 0.36870392315067657, 0.3163501938815473, 0.9997209474953788, 0.9997155601529868, 0.9997441654156253, 0.999802370669444, 0.255885254100414, 0.2606172313407131, 0.4834503413838867, 0.7371869608541259, 0.262569049671153, 0.9996287729414963, 0.9992676851712015, 0.9999207149571944, 0.9996813504976383, 0.999763440091234, 0.9994527613383761, 0.9996720076045685, 0.1946058199519819, 0.24449445970599512, 0.16136901840004547, 0.10559539165092076, 0.29391497549448814, 0.9997795553388295, 0.9998286318823987, 0.228342952645279, 0.7715309855715176, 0.9995593946461788, 0.8396780580380923, 0.16019782889036902, 0.9998125621425001, 0.9998460645199455, 0.9997928379385098, 0.9998076170122903, 0.9999399291884759, 0.9997449571921688, 0.999856624975073, 0.18308156357583277, 0.21660489289795534, 0.40756299803371376, 0.11795601262913046, 0.07482714481929367, 0.6929068644432901, 0.3069448296403444, 0.6847409383297194, 0.3152257119942315, 0.9997093578590402, 0.9997128715548995, 0.9997577136043688, 0.9996347411659218, 0.9993382555995372, 0.9996764909062611, 0.9999007713840798, 0.9997030616997173, 0.9998002597470818, 0.9998277012503438, 0.9995369280190032, 0.9997279585973933, 0.9997083076021971, 0.9999128530226176, 0.9998810174972033, 0.27489384967976593, 0.7248950816055427, 0.7286628834383857, 0.2711647278361789, 0.9997569041069151, 0.9997660856151023, 0.9990083479165529, 0.9999638118903038, 0.19267004729945017, 0.16919755422743593, 0.30739185718891976, 0.23521394099247597, 0.09545480515952455, 0.9998989960358207, 0.9989057299437908, 0.9997884663807445, 0.9997946750864004, 0.9998945574405192, 0.9996261600230656, 0.9999220325359351, 0.84070790469179, 0.15926454095092918, 0.9993662660055554, 0.9995473967023696, 0.9996173187778962, 0.562314043498782, 0.19856318590866082, 0.2391207728176639, 0.9997131629806306, 0.9998201988674366, 0.999744746754412, 0.9996949739812032, 0.9994738064487153, 0.9996068717309627, 0.9997800318729012, 0.999598696399613, 0.6485704157070559, 0.14434533991281207, 0.09553350009561752, 0.11151722598034117, 0.9999791032805915, 0.9998237721062805, 0.9998917233533895, 0.9999472326173215, 0.9999487556436468, 0.9997211468275053, 0.4047207754070657, 0.5952250543053298, 0.18606859060205663, 0.8137110376183234, 0.9997450038672083, 0.41653967801363656, 0.5834670336825957, 0.9996160002877955, 0.9998903107566335, 0.999035121456412, 0.9997201238381775, 0.999691968651513, 0.9997667305987983, 0.9997224934644567, 0.9994156000622461, 0.9995818799795336, 0.9995225689601003, 0.9997960499014207, 0.999835848540225, 0.37014461647224733, 0.2048770939883288, 0.42490267613821886, 0.999678199444185, 0.9996821515472297, 0.9998362179261535, 0.9997872202231776, 0.9996406182083853, 0.9998378493487723, 0.24285525623916993, 0.7569545462150159, 0.9998668763870769, 0.9997242507175671, 0.9996079476503829, 0.3303886615613672, 0.6693998152449597, 0.9998459687782324, 0.9996179194240861, 0.9997321225814744, 0.9995317021334248, 0.9989974613129404, 0.9996338056911936, 0.9999412672305916, 0.29180504655759554, 0.7080563629706362, 0.252512881244185, 0.18320269797201413, 0.564047715431078, 0.9999385291088317, 0.789132146572892, 0.21065247245169014, 0.9994904777699526, 0.9998026490109528, 0.9996331976720069, 0.7839256070180353, 0.2159223524627158, 0.9994044990456232, 0.9996771920495727, 0.9995037723931119, 0.13901704254679378, 0.8607916707947549, 0.9995233921760968, 0.9999004778403743, 0.9997500098489955, 0.9996762299772735, 0.9995516818771422, 0.9997493207960457, 0.9997096806149889, 0.999863636594909, 0.9998277571408177, 0.9997567298864672, 0.9995511626486799, 0.9995179676291917, 0.9998150478687656, 0.9998961776214972, 0.9991028646944214, 0.9567639803602626, 0.042653582521825696, 0.999431980891155, 0.9999098185017995, 0.999833351791914, 0.9996408865805352, 0.9998975249795496, 0.9996924107440895, 0.9998127497696201, 0.9992805619956006, 0.9995542186299556, 0.22847084814132484, 0.20722097594337793, 0.5641632736474538, 0.9995537119059273, 0.9996743911237511, 0.9998721867869891, 0.8146400246069324, 0.18501993779208295, 0.005422644346565618, 0.14448334603404836, 0.07543500802111282, 0.12604635525572525, 0.4391136888641136, 0.20955507819283575, 0.29323723812045055, 0.7063856145057694, 0.9997058586850912, 0.32205336532239526, 0.6777682098153052, 0.9997728465853319, 0.9986121293822698, 0.9996663228924819, 0.9997774562145179, 0.9993892063333922, 0.4161033033425088, 0.45504893271939384, 0.12872555394044113, 0.9995139683875204, 0.9993720118906212, 0.7321204591569503, 0.2677642698872782, 0.18012280190952976, 0.31975036957680913, 0.49987317148633886, 0.9995787513463128, 0.14670823170591557, 0.6583600410364467, 0.19484972492448188, 0.9997802976296569, 0.15778301344384332, 0.21139690363924507, 0.34877430443333074, 0.21445556078160705, 0.06759632284619928, 0.9998274021310896, 0.9999088491000169, 0.9995579451146651, 0.0649564724328848, 0.21244545511940752, 0.2261355129757345, 0.3508790349530473, 0.14552816710814256, 0.9999217561685703, 0.9996881179351278, 0.9994556421620776, 0.9994703497596725, 0.999547533048395, 0.9995838360894077, 0.2324080435736862, 0.5475779609050386, 0.2199044511354776, 0.9996715818668862, 0.9990299581608726, 0.9997212289860137, 0.9996196567420119, 0.9996220065680874, 0.9999428035160008, 0.9997844977070136, 0.999923094734411, 0.9999494558216155, 0.41764579950327646, 0.5821471042055875, 0.9998979665549256, 0.9995652256715434, 0.9995968838549796, 0.9999716574816914, 0.999788064619948, 0.9995177848683727, 0.9995646084124633, 0.9996892139678278, 0.9998220362852995, 0.9168236969716788, 0.08288290689469179, 0.9991597094725883, 0.9997148533027699, 0.8259697927443932, 0.17399509135273744, 0.9996091235467929, 0.5966708115073985, 0.24179282954149148, 0.1614875710336055, 0.9995104655218837, 0.9999398872044258, 0.3547778596410453, 0.6451287471923124, 0.9998185665080792, 0.5951701795712391, 0.2598027933182944, 0.14495094871112157, 0.999262804185762], \"Term\": [\".from\", \"absolutely\", \"abuse\", \"accept\", \"accept\", \"accuse\", \"accuse\", \"add\", \"add\", \"add\", \"add\", \"affect\", \"agree\", \"agree\", \"ahead\", \"allow\", \"allow\", \"allow\", \"announce\", \"announce\", \"answer\", \"appeal\", \"arrest\", \"ask\", \"ask\", \"ask\", \"assist\", \"athlete\", \"attack\", \"attack\", \"attempt\", \"attend\", \"authority\", \"available\", \"award\", \"away\", \"away\", \"baby\", \"bad\", \"ball\", \"bear\", \"bear\", \"beat\", \"birth\", \"black\", \"block\", \"board\", \"body\", \"break\", \"break\", \"break\", \"browser\", \"building\", \"business\", \"candidate\", \"care\", \"career\", \"case\", \"case\", \"cash\", \"catch\", \"celebrate\", \"centre\", \"centre\", \"centre\", \"champion\", \"chancellor\", \"change\", \"charge\", \"charge\", \"chief\", \"child\", \"child\", \"choose\", \"clearly\", \"climate\", \"close\", \"close\", \"close\", \"club\", \"come\", \"come\", \"come\", \"come\", \"come\", \"come\", \"comment\", \"community\", \"company\", \"company\", \"company\", \"competition\", \"complete\", \"confidence\", \"conservative\", \"conservatives\", \"contain\", \"content\", \"content\", \"contest\", \"continue\", \"cookie\", \"corner\", \"cost\", \"cost\", \"council\", \"count\", \"country\", \"country\", \"country\", \"country\", \"country\", \"couple\", \"course\", \"court\", \"crime\", \"cross\", \"currently\", \"customer\", \"date\", \"datum\", \"daughter\", \"dead\", \"deal\", \"deal\", \"death\", \"death\", \"decision\", \"decision\", \"detail\", \"develop\", \"die\", \"different\", \"display\", \"doctor\", \"domestic\", \"door\", \"drop\", \"drug\", \"early\", \"early\", \"election\", \"email\", \"enable\", \"english\", \"european\", \"evidence\", \"evidence\", \"executive\", \"expect\", \"expect\", \"experience\", \"explain\", \"external\", \"external\", \"facebook\", \"fact\", \"fall\", \"fall\", \"family\", \"family\", \"fan\", \"feel\", \"feel\", \"female\", \"fight\", \"figure\", \"film\", \"final\", \"financial\", \"find\", \"find\", \"find\", \"fine\", \"finish\", \"fire\", \"fire\", \"firm\", \"flight\", \"focus\", \"follow\", \"follow\", \"football\", \"football\", \"footed\", \"force\", \"force\", \"force\", \"foreign\", \"forward\", \"friend\", \"friend\", \"future\", \"gain\", \"game\", \"general\", \"general\", \"girl\", \"goal\", \"good\", \"good\", \"government\", \"government\", \"great\", \"great\", \"great\", \"ground\", \"half\", \"hand\", \"hand\", \"happen\", \"hard\", \"health\", \"hear\", \"hear\", \"hear\", \"help\", \"help\", \"high\", \"high\", \"high\", \"history\", \"home\", \"home\", \"home\", \"home\", \"hospital\", \"house\", \"husband\", \"idea\", \"identify\", \"image\", \"image\", \"impact\", \"important\", \"important\", \"important\", \"incident\", \"incident\", \"independent\", \"individual\", \"industry\", \"information\", \"injury\", \"inquiry\", \"interest\", \"interview\", \"introduce\", \"investigate\", \"investigation\", \"issue\", \"issue\", \"issue\", \"join\", \"judge\", \"kick\", \"kill\", \"know\", \"know\", \"know\", \"later\", \"later\", \"launch\", \"lawyer\", \"leader\", \"leadership\", \"league\", \"leak\", \"learn\", \"leave\", \"leave\", \"leave\", \"leave\", \"leave\", \"left\", \"letter\", \"level\", \"level\", \"liberal\", \"life\", \"life\", \"like\", \"line\", \"list\", \"little\", \"live\", \"load\", \"local\", \"long\", \"long\", \"long\", \"long\", \"long\", \"look\", \"look\", \"lose\", \"lose\", \"loss\", \"love\", \"manage\", \"manager\", \"mark\", \"market\", \"match\", \"matter\", \"medium\", \"meet\", \"meeting\", \"message\", \"military\", \"minister\", \"miss\", \"moment\", \"moment\", \"money\", \"money\", \"mother\", \"murder\", \"music\", \"need\", \"number\", \"number\", \"number\", \"number\", \"number\", \"officer\", \"oppose\", \"original\", \"page\", \"parent\", \"particularly\", \"party\", \"pass\", \"pass\", \"past\", \"patient\", \"penalty\", \"people\", \"people\", \"people\", \"performance\", \"period\", \"permission\", \"person\", \"phone\", \"pick\", \"picture\", \"pilot\", \"plan\", \"plan\", \"plan\", \"plan\", \"play\", \"player\", \"point\", \"police\", \"policy\", \"political\", \"post\", \"post\", \"power\", \"power\", \"premier\", \"president\", \"president\", \"price\", \"prime\", \"prince\", \"prison\", \"privacy\", \"problem\", \"process\", \"product\", \"project\", \"promise\", \"protest\", \"provide\", \"public\", \"public\", \"public\", \"queen\", \"question\", \"race\", \"range\", \"rape\", \"rate\", \"reach\", \"reach\", \"read\", \"real\", \"reason\", \"receive\", \"receive\", \"record\", \"referendum\", \"relationship\", \"remember\", \"researcher\", \"respond\", \"responsible\", \"result\", \"result\", \"return\", \"return\", \"return\", \"right\", \"rise\", \"rise\", \"room\", \"round\", \"royal\", \"rule\", \"rule\", \"russian\", \"safe\", \"sale\", \"save\", \"save\", \"scene\", \"school\", \"score\", \"scottish\", \"search\", \"season\", \"seat\", \"secretary\", \"section\", \"seek\", \"sell\", \"semi\", \"send\", \"service\", \"severe\", \"sexual\", \"sexual\", \"shoot\", \"shot\", \"sign\", \"simply\", \"site\", \"skip\", \"social\", \"song\", \"source\", \"speak\", \"speak\", \"speak\", \"sport\", \"stab\", \"staff\", \"stand\", \"stand\", \"start\", \"start\", \"start\", \"start\", \"start\", \"start\", \"state\", \"state\", \"station\", \"stop\", \"stop\", \"story\", \"stress\", \"strike\", \"student\", \"success\", \"support\", \"support\", \"support\", \"supporter\", \"sure\", \"system\", \"system\", \"talk\", \"talk\", \"talk\", \"target\", \"team\", \"team\", \"team\", \"technology\", \"tell\", \"tell\", \"tell\", \"tell\", \"tell\", \"test\", \"think\", \"thousand\", \"time\", \"time\", \"time\", \"time\", \"time\", \"title\", \"tory\", \"town\", \"train\", \"tribute\", \"trust\", \"turn\", \"turn\", \"turn\", \"twitter\", \"type\", \"understand\", \"union\", \"update\", \"use\", \"victim\", \"video\", \"view\", \"visit\", \"visit\", \"vote\", \"voter\", \"walk\", \"want\", \"water\", \"wear\", \"west\", \"wide\", \"win\", \"winner\", \"winner\", \"wish\", \"withdrawal\", \"woman\", \"woman\", \"word\", \"work\", \"work\", \"work\", \"worker\", \"world\", \"write\", \"write\", \"year\", \"young\", \"young\", \"young\", \"youth\"]}, \"R\": 30, \"lambda.step\": 0.01, \"plot.opts\": {\"xlab\": \"PC1\", \"ylab\": \"PC2\"}, \"topic.order\": [3, 6, 8, 4, 9, 7, 10, 2, 1, 5]};\n",
       "\n",
       "function LDAvis_load_lib(url, callback){\n",
       "  var s = document.createElement('script');\n",
       "  s.src = url;\n",
       "  s.async = true;\n",
       "  s.onreadystatechange = s.onload = callback;\n",
       "  s.onerror = function(){console.warn(\"failed to load library \" + url);};\n",
       "  document.getElementsByTagName(\"head\")[0].appendChild(s);\n",
       "}\n",
       "\n",
       "if(typeof(LDAvis) !== \"undefined\"){\n",
       "   // already loaded: just create the visualization\n",
       "   !function(LDAvis){\n",
       "       new LDAvis(\"#\" + \"ldavis_el181220704385118889326967551\", ldavis_el181220704385118889326967551_data);\n",
       "   }(LDAvis);\n",
       "}else if(typeof define === \"function\" && define.amd){\n",
       "   // require.js is available: use it to load d3/LDAvis\n",
       "   require.config({paths: {d3: \"https://d3js.org/d3.v5\"}});\n",
       "   require([\"d3\"], function(d3){\n",
       "      window.d3 = d3;\n",
       "      LDAvis_load_lib(\"https://cdn.jsdelivr.net/gh/bmabey/pyLDAvis@3.4.0/pyLDAvis/js/ldavis.v3.0.0.js\", function(){\n",
       "        new LDAvis(\"#\" + \"ldavis_el181220704385118889326967551\", ldavis_el181220704385118889326967551_data);\n",
       "      });\n",
       "    });\n",
       "}else{\n",
       "    // require.js not available: dynamically load d3 & LDAvis\n",
       "    LDAvis_load_lib(\"https://d3js.org/d3.v5.js\", function(){\n",
       "         LDAvis_load_lib(\"https://cdn.jsdelivr.net/gh/bmabey/pyLDAvis@3.4.0/pyLDAvis/js/ldavis.v3.0.0.js\", function(){\n",
       "                 new LDAvis(\"#\" + \"ldavis_el181220704385118889326967551\", ldavis_el181220704385118889326967551_data);\n",
       "            })\n",
       "         });\n",
       "}\n",
       "</script>"
      ],
      "text/plain": [
       "PreparedData(topic_coordinates=              x         y  topics  cluster       Freq\n",
       "topic                                                \n",
       "2     -0.138478  0.008984       1        1  14.042584\n",
       "5     -0.160570  0.006284       2        1  12.459313\n",
       "7     -0.084029 -0.118386       3        1  11.758184\n",
       "3     -0.178690  0.042465       4        1  11.743679\n",
       "8     -0.091099  0.154486       5        1  10.582812\n",
       "6     -0.122314  0.125100       6        1  10.495226\n",
       "9     -0.022225 -0.184324       7        1  10.491487\n",
       "1      0.191601 -0.323006       8        1   6.934364\n",
       "0      0.304814  0.066805       9        1   5.902142\n",
       "4      0.300989  0.221592      10        1   5.590209, topic_info=          Term          Freq         Total Category  logprob  loglift\n",
       "175       play  24778.000000  24778.000000  Default  30.0000  30.0000\n",
       "320       need  20084.000000  20084.000000  Default  29.0000  29.0000\n",
       "837    content  22768.000000  22768.000000  Default  28.0000  28.0000\n",
       "53        want  17914.000000  17914.000000  Default  27.0000  27.0000\n",
       "330      video  17866.000000  17866.000000  Default  26.0000  26.0000\n",
       "...        ...           ...           ...      ...      ...      ...\n",
       "1503    severe    988.933636    989.888064  Topic10  -5.5496   2.8832\n",
       "2979    stress    984.413171    985.367563  Topic10  -5.5542   2.8832\n",
       "838   external   6652.966096  17729.051328  Topic10  -3.6434   1.9040\n",
       "951     accept   3593.341630   8918.648965  Topic10  -4.2594   1.9751\n",
       "1440     image   1187.594177   2359.510310  Topic10  -5.3666   2.1976\n",
       "\n",
       "[454 rows x 6 columns], token_table=      Topic      Freq        Term\n",
       "term                             \n",
       "2484      7  0.999567       .from\n",
       "941       9  0.999728  absolutely\n",
       "331       3  0.999915       abuse\n",
       "951       9  0.596951      accept\n",
       "951      10  0.402864      accept\n",
       "...     ...       ...         ...\n",
       "682       4  0.999819        year\n",
       "638       2  0.595170       young\n",
       "638       3  0.259803       young\n",
       "638       4  0.144951       young\n",
       "4804     10  0.999263       youth\n",
       "\n",
       "[544 rows x 3 columns], R=30, lambda_step=0.01, plot_opts={'xlab': 'PC1', 'ylab': 'PC2'}, topic_order=[3, 6, 8, 4, 9, 7, 10, 2, 1, 5])"
      ]
     },
     "execution_count": 8,
     "metadata": {},
     "output_type": "execute_result"
    }
   ],
   "source": [
    "def show_top_words(model, dictionary, n_words=30):\n",
    "    print(\"Most frequent words per topic:\\n\")\n",
    "    for tid, topic in model.show_topics(num_topics=model.num_topics, num_words=n_words, formatted=False):\n",
    "        words = \", \".join([w for w, p in topic])\n",
    "        print(f\"Topic {tid:>2}  {words}\")\n",
    "\n",
    "show_top_words(lda_model, dictionary, n_words=30)\n",
    "\n",
    "pyLDAvis.enable_notebook()\n",
    "vis = gensimvis.prepare(lda_model, bow_dict, dictionary)\n",
    "vis"
   ]
  },
  {
   "cell_type": "code",
   "execution_count": 24,
   "id": "57d25b9a",
   "metadata": {},
   "outputs": [],
   "source": [
    "lda_topics = {0: \"book\", 1: \"politics\", 2: \"book\", 3: \"movie\", 5: \"sports\", 6: \"movie\", 7: \"book\", 8: \"book\", 9: \"movie\"}\n",
    "name_to_id = {name: i for i, name in lda_topics.items()}"
   ]
  },
  {
   "cell_type": "markdown",
   "id": "86b523a8",
   "metadata": {},
   "source": [
    "### Analysis of LDA model's results\n",
    "\n",
    "FRom the pyLDAvis bubbles we can notice that topic 1-4-2-6 are very close to each other, because they share vocabulary (“people”, “government”, “decision”). Sports (5) and multimedia (9/10) are the most isolated clusters, sicne their terms appear to be the most subject-related ones. \n",
    "\n",
    "Here in order there is a list of the linked topics to our personal point of view, also accordign to the test set we will sue to evaluate the LDA model. \n",
    "\n",
    "- topic 0: tech news \n",
    "- topic 1: politics \n",
    "- topic 2: social community \n",
    "- topic 3: crime \n",
    "- topic 4: opinion\n",
    "- topic 5: sports \n",
    "- topic 6: world news \n",
    "- topic 7: court news \n",
    "- topic 8: social media --> book \n",
    "- topic 9: multimedia --> movie \n",
    "\n",
    "The corpus doesn't show a clear \"book\" cluster, but topic 8 is the one that gets closer than all of them. \n"
   ]
  },
  {
   "cell_type": "markdown",
   "id": "8e557832",
   "metadata": {},
   "source": [
    "### Evaluation on test set (sentiment-topic-test.tsv)"
   ]
  },
  {
   "cell_type": "code",
   "execution_count": 25,
   "id": "a979f0b9",
   "metadata": {},
   "outputs": [],
   "source": [
    "# Loading the tsv file and choosing the right columns to extract the sentences and truth labels \n",
    "df_test = pd.read_csv(\"sentiment-topic-test.tsv\", sep=\"\\t\")\n",
    "test_sentences = df_test[\"sentence\"].tolist()\n",
    "true_topics = df_test[\"topic\"].tolist()"
   ]
  },
  {
   "cell_type": "code",
   "execution_count": 26,
   "id": "fce28c4a",
   "metadata": {},
   "outputs": [
    {
     "name": "stdout",
     "output_type": "stream",
     "text": [
      "Accuracy: 0.167\n",
      "\n",
      "Classification Report:\n",
      "\n",
      "              precision    recall  f1-score   support\n",
      "\n",
      "        book       0.17      0.17      0.17         6\n",
      "       movie       0.29      0.33      0.31         6\n",
      "    politics       0.00      0.00      0.00         0\n",
      "      sports       0.00      0.00      0.00         6\n",
      "\n",
      "    accuracy                           0.17        18\n",
      "   macro avg       0.11      0.12      0.12        18\n",
      "weighted avg       0.15      0.17      0.16        18\n",
      "\n",
      "Average probability assigned to correct topic: 0.071\n"
     ]
    },
    {
     "name": "stderr",
     "output_type": "stream",
     "text": [
      "c:\\Users\\felix\\Anaconda\\envs\\ML_VU\\lib\\site-packages\\sklearn\\metrics\\_classification.py:1565: UndefinedMetricWarning: Recall is ill-defined and being set to 0.0 in labels with no true samples. Use `zero_division` parameter to control this behavior.\n",
      "  _warn_prf(average, modifier, f\"{metric.capitalize()} is\", len(result))\n",
      "c:\\Users\\felix\\Anaconda\\envs\\ML_VU\\lib\\site-packages\\sklearn\\metrics\\_classification.py:1565: UndefinedMetricWarning: Recall is ill-defined and being set to 0.0 in labels with no true samples. Use `zero_division` parameter to control this behavior.\n",
      "  _warn_prf(average, modifier, f\"{metric.capitalize()} is\", len(result))\n",
      "c:\\Users\\felix\\Anaconda\\envs\\ML_VU\\lib\\site-packages\\sklearn\\metrics\\_classification.py:1565: UndefinedMetricWarning: Recall is ill-defined and being set to 0.0 in labels with no true samples. Use `zero_division` parameter to control this behavior.\n",
      "  _warn_prf(average, modifier, f\"{metric.capitalize()} is\", len(result))\n"
     ]
    }
   ],
   "source": [
    "predicted = []\n",
    "true_probs = []\n",
    "\n",
    "for text, true_topic in zip(test_sentences, true_topics):\n",
    "    tokens = simple_preprocess(text)\n",
    "    bow = dictionary.doc2bow(tokens)\n",
    "    topic_dist = lda_model.get_document_topics(bow, minimum_probability=0.0)\n",
    "\n",
    "    probs = np.zeros(lda_model.num_topics)\n",
    "    for topic_id, prob in topic_dist:\n",
    "        probs[topic_id] = prob\n",
    "\n",
    "    best_topic_id = int(np.argmax(probs))\n",
    "    predicted_topic = lda_topics[best_topic_id]\n",
    "    predicted.append(predicted_topic)\n",
    "\n",
    "    true_topic_id = name_to_id.get(true_topic, None)\n",
    "    if true_topic_id is not None:\n",
    "        true_probs.append(probs[true_topic_id])\n",
    "    else:\n",
    "        true_probs.append(0.0)\n",
    "\n",
    "print(\"Accuracy:\", round(accuracy_score(true_topics, predicted), 3))\n",
    "print(\"\\nClassification Report:\\n\")\n",
    "print(classification_report(true_topics, predicted))\n",
    "\n",
    "print(\"Average probability assigned to correct topic:\", round(float(np.mean(true_probs)), 3))"
   ]
  },
  {
   "cell_type": "code",
   "execution_count": 27,
   "id": "d44f3c58",
   "metadata": {},
   "outputs": [
    {
     "name": "stdout",
     "output_type": "stream",
     "text": [
      "First 10 pairs:\n",
      "'movie' vs 'sports'\n",
      "'book' vs 'sports'\n",
      "'movie' vs 'book'\n",
      "'politics' vs 'book'\n",
      "'movie' vs 'book'\n",
      "'book' vs 'movie'\n",
      "'book' vs 'movie'\n",
      "'book' vs 'sports'\n",
      "'politics' vs 'sports'\n",
      "'movie' vs 'movie'\n"
     ]
    }
   ],
   "source": [
    "print(\"First 10 pairs:\")\n",
    "for p, t in zip(predicted[:10], true_topics[:10]):\n",
    "    print(repr(p), \"vs\", repr(t))"
   ]
  },
  {
   "cell_type": "markdown",
   "id": "0ec903cc",
   "metadata": {},
   "source": []
  }
 ],
 "metadata": {
  "kernelspec": {
   "display_name": "ML_VU",
   "language": "python",
   "name": "python3"
  },
  "language_info": {
   "codemirror_mode": {
    "name": "ipython",
    "version": 3
   },
   "file_extension": ".py",
   "mimetype": "text/x-python",
   "name": "python",
   "nbconvert_exporter": "python",
   "pygments_lexer": "ipython3",
   "version": "3.10.16"
  }
 },
 "nbformat": 4,
 "nbformat_minor": 5
}
