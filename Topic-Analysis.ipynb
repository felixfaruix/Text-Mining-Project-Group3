{
 "cells": [
  {
   "cell_type": "markdown",
   "id": "eb683c59",
   "metadata": {},
   "source": [
    "# Topic Analysis - Project Assignment Group 3 "
   ]
  },
  {
   "cell_type": "code",
   "execution_count": 42,
   "id": "e0c1508f",
   "metadata": {},
   "outputs": [],
   "source": [
    "from datasets import load_dataset, get_dataset_config_names\n",
    "import pyLDAvis\n",
    "import pandas as pd \n",
    "import spacy\n",
    "from tqdm.auto import tqdm\n",
    "import random\n",
    "from sklearn.model_selection import train_test_split\n",
    "import pycountry\n",
    "import numpy as np\n",
    "from sklearn.metrics import classification_report, confusion_matrix\n",
    "import pickle \n",
    "import gensim\n",
    "from gensim import corpora, models\n",
    "from gensim.utils import simple_preprocess\n",
    "from gensim.parsing.preprocessing import STOPWORDS \n",
    "from gensim.models import CoherenceModel\n",
    "import pyLDAvis.gensim_models as gensimvis\n",
    "\n",
    "from sklearn.metrics import classification_report, confusion_matrix"
   ]
  },
  {
   "cell_type": "markdown",
   "id": "ca9289e0",
   "metadata": {},
   "source": [
    "### Dataset Inspection and Content Extraction \n"
   ]
  },
  {
   "cell_type": "markdown",
   "id": "39c987e2",
   "metadata": {},
   "source": [
    "In the first part of our Topic Analysis section of the project, we will extract all the sections in the database and count them to see what each news article is assigned to. In this way, we can choose our topics and see what we are first counting.\n",
    "\n",
    "We will notice that the _section_ column in the dataset is not helpful, since it groups the articles in a sparse way and does not provide useful labels for our topic classification.\n",
    "\n",
    "Thus, we will have to preprocess each article by first extracting the _content_ column from each (ignoring all the others) In this way we will feed our LDA model for topic analysis. "
   ]
  },
  {
   "cell_type": "code",
   "execution_count": null,
   "id": "4ce6931e",
   "metadata": {},
   "outputs": [],
   "source": [
    "subfolders = get_dataset_config_names(\"RealTimeData/bbc_news_alltime\")\n",
    "\n",
    "all_sections = []\n",
    "\n",
    "for month in subfolders:\n",
    "    dataset = load_dataset(\"RealTimeData/bbc_news_alltime\", month, split=\"train\")\n",
    "    if \"section\" in dataset.column_names:\n",
    "        all_sections.extend(dataset[\"section\"])\n",
    "\n",
    "section_df = pd.DataFrame(all_sections, columns=[\"section\"])\n",
    "section_counts = section_df[\"section\"].value_counts(dropna=False).reset_index()\n",
    "section_counts.columns = [\"Topic\", \"Count\"]\n"
   ]
  },
  {
   "cell_type": "code",
   "execution_count": null,
   "id": "10c3b177",
   "metadata": {},
   "outputs": [],
   "source": [
    "section_counts = section_df['section'].value_counts(dropna=False).reset_index()\n",
    "section_counts.columns = ['Topic', 'Count']\n",
    "\n",
    "\n",
    "pd.set_option('display.max_rows', None)\n",
    "print(section_counts)"
   ]
  },
  {
   "cell_type": "markdown",
   "id": "f841ac7d",
   "metadata": {},
   "source": [
    "Loading SpaCy, getting the dataset and splitting between test and train folders (70/30)"
   ]
  },
  {
   "cell_type": "code",
   "execution_count": null,
   "id": "dfe29be3",
   "metadata": {},
   "outputs": [],
   "source": [
    "subfolders = get_dataset_config_names(\"RealTimeData/bbc_news_alltime\")\n",
    "preprocessing = spacy.load(\"en_core_web_sm\", disable=[\"ner\", \"parser\"])\n",
    "preprocessing.add_pipe(\"sentencizer\")\n",
    "random.seed(42)\n",
    "selected_months = random.sample(subfolders, k=20)\n",
    "\n",
    "#Splitting the folders in train and test sets based on months folders \n",
    "train_months, test_months = train_test_split(selected_months, test_size=0.3, random_state=42)"
   ]
  },
  {
   "cell_type": "code",
   "execution_count": null,
   "id": "0014f292",
   "metadata": {},
   "outputs": [],
   "source": [
    "train_sentences = []\n",
    "\n",
    "# Looping over the months folders\n",
    "for month in tqdm(train_months, desc=\"Month\"): \n",
    "    dataset = load_dataset(\"RealTimeData/bbc_news_alltime\", month, split=\"train\")\n",
    "    # Looping over the various articles\n",
    "    content = [article[\"content\"] for article in dataset] \n",
    "    # Getting the Doc object of the article and looping over them splittin the sentences\n",
    "    for doc in preprocessing.pipe(content, batch_size=32):\n",
    "        for sent in doc.sents:\n",
    "            text = sent.text.strip()\n",
    "            if text:\n",
    "                print(text)\n",
    "                train_sentences.append(text)\n",
    "\n",
    "print(train_sentences[:5])"
   ]
  },
  {
   "cell_type": "code",
   "execution_count": 6,
   "id": "682644b5",
   "metadata": {},
   "outputs": [
    {
     "name": "stdout",
     "output_type": "stream",
     "text": [
      "Theresa May was in Poland to sign a defence treaty with the country\n",
      "\n",
      "Theresa May has sought to reassure Polish people living in the UK that they are still welcome after Brexit.\n",
      "Speaking on a trip to Warsaw to sign a new defence treaty with the country, the PM said the one million Polish residents were a \"strong part of [UK] society\".\n",
      "She promised a \"simple\" and \"easy\" process to get \"settled status\" to remain after the UK leaves the EU.\n",
      "The trip comes after Mrs May sacked one of her closest allies, Damian Green.\n",
      "She asked him to leave after he made \"misleading\" statements about claims pornography was found on his parliamentary computer.\n"
     ]
    }
   ],
   "source": [
    "for x in train_sentences[:5]:\n",
    "    print(x)"
   ]
  },
  {
   "cell_type": "code",
   "execution_count": null,
   "id": "c0805123",
   "metadata": {},
   "outputs": [
    {
     "data": {
      "application/vnd.jupyter.widget-view+json": {
       "model_id": "273a167b60814c8fba2e419746141f78",
       "version_major": 2,
       "version_minor": 0
      },
      "text/plain": [
       "Months Analyzed:   0%|          | 0/6 [00:00<?, ?it/s]"
      ]
     },
     "metadata": {},
     "output_type": "display_data"
    }
   ],
   "source": [
    "# Now we are applying the same procedure for the test set in the test_months folder \n",
    "test_sentences = []\n",
    "\n",
    "for month in tqdm(test_months, desc=\"Months Analyzed\"): \n",
    "    dataset = load_dataset(\"RealTimeData/bbc_news_alltime\", month, split=\"train\")\n",
    "    # Looping over the various articles\n",
    "    content = [article[\"content\"] for article in dataset] \n",
    "    # Getting the Doc object of the article and looping over them splittin the sentences\n",
    "    for doc in preprocessing.pipe(content, batch_size=32):\n",
    "        for sent in doc.sents:\n",
    "            text = sent.text.strip()\n",
    "            if text:\n",
    "                test_sentences.append(text)"
   ]
  },
  {
   "cell_type": "code",
   "execution_count": 11,
   "id": "dc18c1b5",
   "metadata": {},
   "outputs": [
    {
     "name": "stdout",
     "output_type": "stream",
     "text": [
      "Amiram Cooper, Guy Gilboa-Dalal and Tsachi Idan are being held in Gaza\n",
      "\n",
      "Israel says 129 people remain unaccounted for after they were abducted and taken to Gaza during the October 7 attacks by Hamas.\n",
      "Of these, Israel says that 22 are believed to be dead.\n",
      "A group representing the families of hostages says that Gadi Haggai, 73, is now believed to have died in Gaza.\n",
      "An estimated 240 people were taken prisoner, but 105 were later released by Hamas during a six-day ceasefire at the end of November.\n",
      "These are the stories of those hostages who are still being held, which have either been confirmed by the BBC or credibly reported.\n"
     ]
    }
   ],
   "source": [
    "for x in test_sentences[:5]:\n",
    "    print(x)"
   ]
  },
  {
   "cell_type": "markdown",
   "id": "3f987783",
   "metadata": {},
   "source": [
    "### Data Preprocessing using SpaCy"
   ]
  },
  {
   "cell_type": "markdown",
   "id": "72950a4c",
   "metadata": {},
   "source": [
    "In this **preprocessing** stage, we transform raw sentences into clean, *lemmatized* tokens optimized for topic modeling. Specifically, we use **SpaCy** to tokenize and lemmatize each sentence, removing stopwords, punctuation, short words, and numbers. \n",
    "\n",
    "We also exclude tokens based on their linguistic roles (pronouns, determiners, prepositions, auxiliaries) and named entities (people, organizations, locations, dates, times). Then, we filter out domain-specific noise such as media sources (\"BBC\", \"Reuters\"), common journalistic fillers (\"said\", \"today\"), possessive pronouns, and country names using a custom exclusion list. \n",
    "\n",
    "The resulting cleaned tokens are then structured into a **Gensim-compatible dictionary and corpus**, ready for training the LDA model. \n",
    "This also takes into account the labels in the test set provided for the project. In fact, our goal is to align as closely as possible to the topics shown in that test set. Thus, we cut out all the noise we think we may encounter."
   ]
  },
  {
   "cell_type": "code",
   "execution_count": 23,
   "id": "5a2dc132",
   "metadata": {},
   "outputs": [],
   "source": [
    "token_pos_ner = spacy.load(\"en_core_web_sm\", disable=[\"parser\"])\n",
    "stopwords = token_pos_ner.Defaults.stop_words\n",
    "\n",
    "countries_list= {country.name.lower() for country in pycountry.countries}\n",
    "\n",
    "# Excluding some words that are indeed part of newspapers articles but not necessary\n",
    "custom_stop = {\n",
    "    \"bbc\",\"reuters\",\"cnn\",\"guardian\",\"nytimes\",\"telegraph\",\"aljazeera\",\n",
    "    \"news\",\"press\",\"article\",\"media\",\"coverage\",\"broadcast\",\"report\",\"headline\",\n",
    "    \"says\",\"said\",\"told\",\"claim\",\"claimed\",\"statement\",\n",
    "    \"thing\",\"stuff\",\"someone\",\"anyone\",\"everyone\",\"something\",\"everything\",\n",
    "    \"kind\",\"sort\",\"part\",\"place\",\"area\",\"around\"\n",
    "}\n",
    "\n",
    "# Unifying the various exclusions we listed above (costumized)\n",
    "all_exclusions = stopwords.union(custom_stop).union(countries_list)\n",
    "pos_exclusions  = {\"PRON\",\"DET\",\"ADP\",\"AUX\",\"INTJ\"}\n",
    "entities_excl   = {\"PERSON\",\"ORG\",\"GPE\",\"LOC\",\"DATE\",\"TIME\"}\n",
    "\n",
    "\n",
    "def preprocessing(sentence):\n",
    "    \"\"\"\n",
    "    This function preprocesses sentences coming from test/train lists. \n",
    "    It removes the PoS tags adn entity labels listed above. It also removes unecessary words \n",
    "    that are not helpful for our topic analysis\n",
    "    \"\"\"\n",
    "\n",
    "    token_lists, cleaned_strings = [], []\n",
    "\n",
    "    for i in tqdm(range(0, len(train_sentences), 500), desc=\"Sentence batches\"):\n",
    "\n",
    "        batch_sents = train_sentences[i : i + 500]\n",
    "\n",
    "        for article in token_pos_ner.pipe(batch_sents, batch_size=16): \n",
    "            tokens = [token.lemma_.lower() for token in article if token.lemma_.lower() not in all_exclusions\n",
    "                and len(token) > 3\n",
    "                and not token.is_punct\n",
    "                and not token.like_num\n",
    "                and token.pos_ not in pos_exclusions\n",
    "                and token.ent_type_ not in entities_excl]\n",
    "            token_lists.append(tokens)\n",
    "            cleaned_strings.append(\" \".join(tokens))\n",
    "\n",
    "    return token_lists, cleaned_strings\n",
    "\n",
    "def preprocessing_test(sentence):\n",
    "    \"\"\"\n",
    "    This function preprocesses sentences coming from test/train lists. \n",
    "    It removes the PoS tags adn entity labels listed above. It also removes unecessary words \n",
    "    that are not helpful for our topic analysis\n",
    "    \"\"\"\n",
    "\n",
    "    token_lists, cleaned_strings = [], []\n",
    "\n",
    "    for i in tqdm(range(0, len(test_sentences), 500), desc=\"Sentence batches\"):\n",
    "\n",
    "        batch_sents = test_sentences[i : i + 500]\n",
    "\n",
    "        for article in token_pos_ner.pipe(batch_sents, batch_size=16): \n",
    "            tokens = [token.lemma_.lower() for token in article if token.lemma_.lower() not in all_exclusions\n",
    "                and len(token) > 3\n",
    "                and not token.is_punct\n",
    "                and not token.like_num\n",
    "                and token.pos_ not in pos_exclusions\n",
    "                and token.ent_type_ not in entities_excl]\n",
    "            token_lists.append(tokens)\n",
    "            cleaned_strings.append(\" \".join(tokens))\n",
    "\n",
    "    return token_lists, cleaned_strings"
   ]
  },
  {
   "cell_type": "code",
   "execution_count": null,
   "id": "304aec5c",
   "metadata": {},
   "outputs": [],
   "source": [
    "train_tokens, train_tokens_string = preprocessing(train_sentences)\n"
   ]
  },
  {
   "cell_type": "code",
   "execution_count": 24,
   "id": "c4a1e8d6",
   "metadata": {},
   "outputs": [
    {
     "data": {
      "application/vnd.jupyter.widget-view+json": {
       "model_id": "6ed69877cfcb413d86f97188ed00b3a5",
       "version_major": 2,
       "version_minor": 0
      },
      "text/plain": [
       "Sentence batches:   0%|          | 0/443 [00:00<?, ?it/s]"
      ]
     },
     "metadata": {},
     "output_type": "display_data"
    }
   ],
   "source": [
    "test_tokens, test_tokens_string = preprocessing_test(test_sentences)"
   ]
  },
  {
   "cell_type": "markdown",
   "id": "21ce6d94",
   "metadata": {},
   "source": [
    "### Checkpoint \n",
    "\n",
    "(The Variable is too heavy to reload the process every time, so we saved the variables in a pkl file we can use it again)"
   ]
  },
  {
   "cell_type": "code",
   "execution_count": null,
   "id": "4739d9f6",
   "metadata": {},
   "outputs": [],
   "source": [
    "# Saving the variables for later usage, in order to not loose the preprocessing \n",
    "with open(\"train_processed.pkl\", \"wb\") as f: \n",
    "    pickle.dump({\"tokens\": train_tokens, \n",
    "                 \"strings\": train_tokens_string}, f) \n",
    "    \n",
    "# Saving the variables for later usage, in order to not loose the preprocessing \n",
    "with open(\"test_processed.pkl\", \"wb\") as f: \n",
    "    pickle.dump({\"tokens\": test_tokens, \n",
    "                 \"strings\": test_tokens_string}, f)"
   ]
  },
  {
   "cell_type": "code",
   "execution_count": null,
   "id": "c06d2ebb",
   "metadata": {},
   "outputs": [],
   "source": [
    "with open(\"train_processed.pkl\", \"rb\") as f:\n",
    "    data = pickle.load(f)\n",
    "\n",
    "train_tokens = data[\"tokens\"]\n",
    "train_token_strings = data[\"strings\"]\n",
    "\n",
    "with open(\"test_processed.pkl\", \"rb\") as f:\n",
    "    data = pickle.load(f)\n",
    "\n",
    "train_tokens = data[\"tokens\"]\n",
    "train_token_strings = data[\"strings\"]"
   ]
  },
  {
   "cell_type": "code",
   "execution_count": 19,
   "id": "d338caeb",
   "metadata": {},
   "outputs": [
    {
     "name": "stdout",
     "output_type": "stream",
     "text": [
      "['theresa', 'sign', 'defence', 'treaty', 'country', 'theresa', 'seek', 'reassure', 'polish', 'people', 'live', 'welcome']\n",
      "['speak', 'trip', 'sign', 'defence', 'treaty', 'country', 'polish', 'resident', 'strong', 'society']\n",
      "['promise', 'simple', 'easy', 'process', 'settle', 'status', 'remain', 'leave']\n",
      "['trip', 'come', 'sack', 'close', 'ally']\n",
      "['ask', 'leave', 'misleading', 'pornography', 'find', 'parliamentary', 'computer']\n"
     ]
    }
   ],
   "source": [
    "for sentence in (train_tokens[:5]): \n",
    "    print(sentence)"
   ]
  },
  {
   "cell_type": "markdown",
   "id": "851ca1fd",
   "metadata": {},
   "source": [
    "### Training LDA model"
   ]
  },
  {
   "cell_type": "code",
   "execution_count": null,
   "id": "c49746ea",
   "metadata": {},
   "outputs": [],
   "source": [
    "dictionary = corpora.Dictionary(train_tokens)\n",
    "dictionary.filter_extremes(no_below=10, no_above=0.5)\n",
    "bow_dict = [dictionary.doc2bow(doc) for doc in train_tokens]\n",
    "\n",
    "lda_model = models.LdaModel(corpus = bow_dict, id2word = dictionary, num_topics = 10, passes = 10, random_state = 42, eval_every = 1, per_word_topics = True)\n"
   ]
  },
  {
   "cell_type": "code",
   "execution_count": null,
   "id": "84c1b41d",
   "metadata": {},
   "outputs": [],
   "source": [
    "lda_model.save(\"lda_bbc_news.model\")"
   ]
  },
  {
   "cell_type": "code",
   "execution_count": null,
   "id": "0724b965",
   "metadata": {},
   "outputs": [],
   "source": [
    "lda_model = models.LdaModel.load(\"lda_bbc_news.model\")"
   ]
  },
  {
   "cell_type": "code",
   "execution_count": 44,
   "id": "c8066e7f",
   "metadata": {},
   "outputs": [
    {
     "name": "stdout",
     "output_type": "stream",
     "text": [
      "TOP WORDS PER TOPIC\n",
      "------------------------------\n",
      "Topic  0  content, site, responsible, external, continue, view, miss, choose, accept, original, baby, conservatives, learn, financial, period, couple, daughter, girl, available, bear, allow, visit, train, station, west, simply, trust, datum, absolutely, athlete\n",
      "Topic  1  provide, follow, post, title, story, contain, send, mother, content, twitter, facebook, skip, hand, champion, stop, penalty, receive, return, rape, write, idea, incident, pick, prison, reason, supporter, develop, foreign, success, woman\n",
      "Topic  2  party, government, minister, vote, election, deal, leader, prime, secretary, plan, decision, company, business, political, question, firm, future, rise, support, rule, conservative, tell, announce, stand, cost, market, money, rate, country, price\n",
      "Topic  3  think, look, add, people, time, feel, medium, tell, forward, work, social, long, good, speak, come, ask, matter, expect, know, information, message, public, process, general, number, year, important, issue, agree, history\n",
      "Topic  4  play, need, want, video, use, browser, enable, policy, different, external, cookie, technology, read, privacy, permission, accept, load, date, safe, remember, liberal, domestic, song, husband, type, music, image, tribute, youth, oppose\n",
      "Topic  5  people, work, child, family, live, life, service, help, school, local, time, health, seat, tell, staff, problem, home, council, parent, support, friend, love, community, care, experience, young, find, leave, know, course\n",
      "Topic  6  world, final, good, know, line, close, body, time, hard, manager, fight, great, come, referendum, fan, state, reach, talk, power, voter, join, seek, work, launch, turn, country, cross, lose, worker, moment\n",
      "Topic  7  police, woman, find, tell, happen, die, people, officer, case, attack, victim, abuse, investigation, kill, hospital, hear, child, arrest, home, fire, injury, away, left, follow, evidence, inquiry, later, house, page, drug\n",
      "Topic  8  change, game, time, player, goal, point, team, club, record, lose, result, league, match, score, come, win, finish, break, level, european, race, test, high, start, look, figure, season, little, ahead, protest\n",
      "Topic  9  right, court, shot, post, death, chief, charge, display, leave, centre, president, attempt, murder, save, early, force, strike, building, update, like, candidate, block, executive, football, target, high, affect, section, corner, footed\n"
     ]
    },
    {
     "data": {
      "text/html": [
       "\n",
       "<link rel=\"stylesheet\" type=\"text/css\" href=\"https://cdn.jsdelivr.net/gh/bmabey/pyLDAvis@3.4.0/pyLDAvis/js/ldavis.v1.0.0.css\">\n",
       "\n",
       "\n",
       "<div id=\"ldavis_el488421089283996646498844377\" style=\"background-color:white;\"></div>\n",
       "<script type=\"text/javascript\">\n",
       "\n",
       "var ldavis_el488421089283996646498844377_data = {\"mdsDat\": {\"x\": [-0.1384777892456044, -0.16056952360287557, -0.0840286765761156, -0.17869026621148976, -0.09109869255462955, -0.12231377917788255, -0.02222508496914381, 0.19160107951688982, 0.3048141364724718, 0.3009885963483788], \"y\": [0.008983892735996883, 0.006284136972420837, -0.11838579345845875, 0.04246477514154422, 0.1544855761129951, 0.125099700182431, -0.18432381273619075, -0.3230056031339317, 0.06680496218390262, 0.22159216599929069], \"topics\": [1, 2, 3, 4, 5, 6, 7, 8, 9, 10], \"cluster\": [1, 1, 1, 1, 1, 1, 1, 1, 1, 1], \"Freq\": [14.043572636024763, 12.458511766247272, 11.757813688499091, 11.747047889939477, 10.581951591694057, 10.494703251226923, 10.48967589626583, 6.934542382911635, 5.901773821338872, 5.590407075852074]}, \"tinfo\": {\"Term\": [\"play\", \"need\", \"content\", \"want\", \"video\", \"use\", \"browser\", \"external\", \"site\", \"responsible\", \"right\", \"people\", \"enable\", \"policy\", \"continue\", \"party\", \"think\", \"police\", \"world\", \"view\", \"change\", \"government\", \"final\", \"minister\", \"follow\", \"post\", \"vote\", \"woman\", \"different\", \"game\", \"party\", \"minister\", \"vote\", \"election\", \"leader\", \"prime\", \"secretary\", \"business\", \"political\", \"question\", \"firm\", \"future\", \"conservative\", \"market\", \"rate\", \"price\", \"film\", \"sign\", \"beat\", \"tory\", \"meeting\", \"leadership\", \"student\", \"promise\", \"gain\", \"comment\", \"stab\", \"product\", \"female\", \"contest\", \"government\", \"deal\", \"announce\", \"decision\", \"rise\", \"rule\", \"stand\", \"plan\", \"company\", \"cost\", \"money\", \"support\", \"fall\", \"tell\", \"country\", \"live\", \"service\", \"school\", \"local\", \"health\", \"seat\", \"staff\", \"problem\", \"council\", \"parent\", \"love\", \"community\", \"care\", \"experience\", \"course\", \"real\", \"authority\", \"assist\", \"patient\", \"customer\", \"meet\", \"sport\", \"town\", \"union\", \"board\", \"bad\", \"confidence\", \"water\", \"english\", \"sure\", \"friend\", \"life\", \"family\", \"help\", \"child\", \"people\", \"work\", \"pass\", \"system\", \"support\", \"young\", \"time\", \"home\", \"tell\", \"leave\", \"find\", \"know\", \"police\", \"happen\", \"die\", \"officer\", \"victim\", \"abuse\", \"investigation\", \"kill\", \"hospital\", \"arrest\", \"injury\", \"left\", \"inquiry\", \"house\", \"page\", \"drug\", \"independent\", \"scene\", \"loss\", \"award\", \"phone\", \"walk\", \"investigate\", \"interview\", \"search\", \"dead\", \"identify\", \"room\", \"individual\", \"picture\", \"woman\", \"attack\", \"find\", \"case\", \"hear\", \"sexual\", \"accuse\", \"fire\", \"evidence\", \"tell\", \"away\", \"later\", \"people\", \"child\", \"home\", \"follow\", \"think\", \"medium\", \"forward\", \"social\", \"matter\", \"information\", \"message\", \"process\", \"year\", \"history\", \"list\", \"interest\", \"understand\", \"chancellor\", \"crime\", \"relationship\", \"letter\", \"ground\", \"detail\", \"manage\", \"complete\", \"count\", \"mark\", \"appeal\", \"fine\", \"door\", \"birth\", \"answer\", \"lawyer\", \"introduce\", \"winner\", \"look\", \"feel\", \"general\", \"add\", \"expect\", \"speak\", \"important\", \"ask\", \"agree\", \"people\", \"time\", \"long\", \"tell\", \"good\", \"work\", \"public\", \"come\", \"know\", \"number\", \"issue\", \"change\", \"game\", \"player\", \"goal\", \"point\", \"club\", \"record\", \"league\", \"match\", \"score\", \"win\", \"finish\", \"european\", \"race\", \"test\", \"figure\", \"season\", \"little\", \"ahead\", \"protest\", \"half\", \"impact\", \"performance\", \"sell\", \"premier\", \"competition\", \"climate\", \"scottish\", \"ball\", \"fact\", \"team\", \"result\", \"lose\", \"level\", \"time\", \"break\", \"come\", \"start\", \"high\", \"look\", \"world\", \"final\", \"line\", \"body\", \"hard\", \"manager\", \"fight\", \"referendum\", \"fan\", \"voter\", \"join\", \"seek\", \"launch\", \"cross\", \"worker\", \"person\", \"royal\", \"focus\", \"career\", \"thousand\", \"sale\", \"industry\", \"wide\", \"black\", \"cash\", \"withdrawal\", \"attend\", \"past\", \"respond\", \"wear\", \"good\", \"power\", \"know\", \"reach\", \"close\", \"state\", \"great\", \"moment\", \"talk\", \"time\", \"come\", \"turn\", \"work\", \"country\", \"lose\", \"right\", \"court\", \"shot\", \"chief\", \"display\", \"attempt\", \"murder\", \"strike\", \"building\", \"update\", \"like\", \"candidate\", \"block\", \"executive\", \"target\", \"affect\", \"section\", \"corner\", \"footed\", \"round\", \".from\", \"range\", \"currently\", \"kick\", \"judge\", \"drop\", \"russian\", \"military\", \"source\", \"shoot\", \"death\", \"save\", \"centre\", \"charge\", \"early\", \"president\", \"football\", \"post\", \"force\", \"leave\", \"high\", \"provide\", \"title\", \"story\", \"contain\", \"send\", \"mother\", \"twitter\", \"facebook\", \"skip\", \"champion\", \"penalty\", \"rape\", \"idea\", \"pick\", \"prison\", \"reason\", \"supporter\", \"develop\", \"foreign\", \"success\", \"semi\", \"doctor\", \"leak\", \"explain\", \"word\", \"catch\", \"email\", \"particularly\", \"project\", \"flight\", \"follow\", \"post\", \"hand\", \"stop\", \"receive\", \"write\", \"return\", \"incident\", \"content\", \"woman\", \"site\", \"responsible\", \"continue\", \"view\", \"miss\", \"choose\", \"original\", \"baby\", \"conservatives\", \"learn\", \"financial\", \"period\", \"couple\", \"daughter\", \"girl\", \"available\", \"train\", \"station\", \"west\", \"simply\", \"trust\", \"datum\", \"absolutely\", \"athlete\", \"queen\", \"clearly\", \"pilot\", \"wish\", \"prince\", \"celebrate\", \"content\", \"external\", \"accept\", \"bear\", \"visit\", \"allow\", \"play\", \"need\", \"want\", \"video\", \"use\", \"browser\", \"enable\", \"policy\", \"different\", \"cookie\", \"technology\", \"read\", \"privacy\", \"permission\", \"load\", \"date\", \"safe\", \"remember\", \"liberal\", \"domestic\", \"song\", \"husband\", \"type\", \"music\", \"tribute\", \"youth\", \"oppose\", \"researcher\", \"severe\", \"stress\", \"external\", \"accept\", \"image\"], \"Freq\": [24779.0, 20085.0, 22767.0, 17915.0, 17867.0, 13937.0, 13905.0, 17728.0, 13382.0, 12157.0, 15184.0, 30771.0, 11040.0, 10839.0, 10649.0, 14719.0, 13397.0, 13312.0, 11715.0, 9242.0, 11562.0, 17065.0, 11093.0, 12610.0, 11611.0, 12397.0, 11622.0, 13316.0, 7862.0, 10068.0, 14718.220547102923, 12610.023608403626, 11621.040763126115, 11302.603972526846, 8729.343625240199, 7678.419873511722, 5912.259490996648, 4816.871248747533, 4406.576181340906, 4346.72478169008, 4287.739349336408, 4263.545811602667, 3845.038780184384, 3506.418496222942, 3428.834549469388, 3294.534355708328, 3251.5893983219617, 3134.780197062018, 2959.4758121964983, 2947.1639645402624, 2860.5633675714116, 2519.017357616322, 2430.7492306975587, 2338.3184516355204, 2324.915741018562, 2317.386495985597, 2269.9358908209097, 2183.467226691732, 2149.014162972336, 2125.5534697719295, 14195.035888572833, 8805.709982111495, 3565.4833560133507, 4954.074857424505, 4117.402302817804, 4059.5327218319176, 3540.667785432358, 5275.3002352596095, 4833.928811378518, 3507.8755583395546, 3453.1393451107683, 4060.6690993912193, 3220.5888995117953, 3610.7685967135985, 3332.2249055475877, 8582.013036121189, 7695.353521810561, 7399.31001462483, 6968.600465136909, 5147.387404021688, 4954.16925626898, 4804.354531159578, 4793.859551579123, 4503.53645219328, 4454.232638445069, 4360.021142759432, 4211.8713951739965, 4154.00438746515, 4117.708985844272, 3441.638119461496, 3406.769916834058, 3184.310815739619, 3151.8610398089045, 3107.256320971416, 3050.367609614026, 2769.3484859148884, 2630.054339184455, 2509.254400712387, 2475.83213434328, 2406.7692150039466, 2351.5098539767155, 2276.3422809546455, 2231.3789150328216, 2127.970985004751, 2126.2484761604132, 4432.529607597719, 8485.617461502543, 9017.731505153391, 7469.298713192895, 9656.042032486928, 17301.78877744934, 10884.462396888146, 3219.296456154055, 3373.310703745446, 4440.004984574081, 3756.6788381011356, 5959.024493136872, 4543.835822587911, 4837.375925622058, 3655.77787494403, 3666.0028795669605, 3568.398355505093, 13311.331909264078, 7255.762500204277, 6680.748535811877, 6010.466690051809, 5423.046925042102, 5375.335525936424, 5305.620455653541, 4924.86723199352, 4888.683439307667, 3986.088344569606, 3610.553726417202, 3554.7206498907303, 3280.6809724722666, 3232.01641137176, 3143.5955058075506, 3137.324362387692, 2934.401229656319, 2697.2499425937826, 2661.738867584447, 2569.236326595294, 2554.313002736876, 2497.97756724945, 2480.8542747732313, 2424.768648922809, 2411.0542741950158, 2405.315626292519, 2352.0436589358474, 2284.141265161552, 2249.256582213098, 2184.4607443733476, 10998.171381843444, 5780.706580245229, 9799.794454081852, 5906.276395487704, 4862.06962218735, 2602.2263914892237, 3043.5199719741936, 3877.8607476965967, 3301.521023884685, 7981.9578696620565, 3602.411625875536, 3254.2198306335886, 6109.540245650204, 4250.949572593389, 3966.7140256734065, 3327.157270890106, 13396.11044855849, 4911.43716605525, 4419.584619775657, 4383.125403373118, 3739.2303103622735, 3600.9960821992, 3475.9901396160844, 3412.973574121313, 3025.4642594527236, 2936.8162576710292, 2873.4670005824128, 2823.476915968565, 2725.5891952170437, 2695.777589831388, 2682.5025233840834, 2679.5339289827575, 2651.2623597035404, 2584.3361081036865, 2571.280513597871, 2453.34569818177, 2217.4927392544205, 2182.936110680258, 2060.0018389008505, 2057.945595829991, 2042.1346580043196, 2025.3912132617188, 1865.9178492371213, 1783.6520765838773, 1745.8271325726473, 1732.6192514135537, 2512.0850491615042, 8052.771413066387, 5500.322189250876, 3198.483297335476, 7506.987991767767, 3736.588933197975, 4063.4373976439942, 2980.755684995468, 3811.5530336118804, 2957.4901661911777, 7359.802941374174, 6345.233425079628, 4244.2240501815495, 4909.499741410763, 4142.103905107131, 4412.3211436168385, 3422.75749392565, 3837.897629291444, 3636.094672098265, 3143.7036481753817, 2980.326196819719, 11561.963253434742, 10067.579931287542, 8190.818629657575, 8159.191327080178, 7943.255232820241, 6178.752743656869, 6082.48331960278, 5111.834732664684, 4778.126521987698, 4705.834904226518, 4441.470231397049, 4108.949142923738, 4079.874960040425, 4008.3714694824416, 3840.3914361173115, 3537.610717685419, 3522.6376457516644, 3489.428484905509, 3150.8151014220552, 3087.4195030901237, 3009.9279493620106, 2829.616056473609, 2821.6209139583666, 2799.069851023917, 2645.5004859654605, 2533.7574529910603, 2530.131305731077, 2512.650169156663, 2399.4124740119246, 2377.4800774827145, 7206.642767276229, 5774.46007584997, 5927.063110881983, 4084.7754256025037, 9841.438531195095, 4108.3555818219, 4629.670345106744, 3643.687349189515, 3742.225440883974, 3566.118910469736, 11714.163917709662, 11092.871946655412, 4955.559510781428, 4085.564102904369, 4074.3238498588635, 3803.2435016983977, 3745.4447431283397, 3359.1599154327673, 3358.1399739555163, 2970.187181808371, 2961.722645695071, 2957.6157584128696, 2781.9379527591414, 2746.261342463763, 2653.2105787032856, 2624.713573889448, 2580.8618703324223, 2569.592050544006, 2515.0071746977105, 2511.028780478685, 2360.097449415886, 2348.732482514945, 2270.636266089841, 2129.5811163845756, 2085.169645469285, 2031.5217908362881, 2020.2510818225212, 1980.2003720270566, 1953.6618860481326, 1808.826083611203, 9057.523152216056, 2999.8581863914683, 6742.901576460246, 3172.6546796025955, 4218.585546178748, 3240.2649283859237, 3565.4839835729717, 2636.466020736956, 3086.2110825041464, 4082.1316930506723, 3523.783538445624, 2758.4283906310343, 2945.7846151218246, 2751.699177789623, 2728.7513837768197, 15183.361561066282, 7366.747433411386, 5140.625402363899, 4796.189423600961, 4645.684580837192, 4092.690494702578, 4090.300068774015, 3616.6319937729445, 3548.7363870470163, 3495.7674992840043, 3448.100299813938, 3397.600274524644, 3373.124739438466, 3366.138776323202, 3106.8220030430803, 2994.824393354223, 2982.048124487666, 2809.598602868089, 2753.62757300424, 2667.1151744955737, 2558.7165356902387, 2528.1507250625123, 2500.5190633831658, 2484.2560345546262, 2459.324323187416, 2432.4534737760937, 2422.074074633593, 2416.3370968450117, 2352.6921731469142, 2323.968621431041, 4860.298967174186, 3708.819376313539, 4167.70249585257, 4659.842266137833, 3699.966934503357, 4119.842426917362, 3204.8879046732877, 5017.332041373275, 3666.871156444639, 4393.866830113591, 3041.148839163172, 8419.655157479343, 5979.678063410027, 5440.4323372512745, 5434.372729715203, 5144.140267689327, 4727.327345923341, 4321.587177383118, 4305.885549128831, 3728.299423401813, 3673.5916789751327, 3218.371080896686, 3092.247456690302, 2929.962141801887, 2494.1013816664286, 2464.8098510848076, 2414.0652650825245, 2410.2902758924365, 2407.9511604458057, 2365.060913989575, 2326.537780207819, 2311.230264409154, 2246.0949184172005, 2146.2864898778657, 2137.8946708405283, 2111.936570730547, 2107.672723451638, 2078.448322721757, 2020.8641302496158, 2016.951943506956, 1972.737167787835, 8283.411230722651, 7379.828149484893, 3723.574186923088, 3583.7716435618963, 3182.945027627161, 3003.8384701957, 3125.188089628441, 2595.666937747373, 4538.110180843577, 2317.1739737985677, 13381.582835318924, 12157.001933151267, 10649.041648003315, 9241.936955766743, 6797.431232793533, 5515.7031951880535, 4044.650018291664, 3266.4851059876655, 2848.2456342669825, 2759.779838355737, 2696.20690058701, 2575.3490601787366, 2467.2033070120183, 2419.1088018929836, 2417.768884589819, 2115.529646752707, 1883.9273537019847, 1780.4594346134347, 1772.7082167900717, 1753.567201827372, 1741.6630904703436, 1699.6659716759257, 1693.4016895125587, 1606.2218041611518, 1525.4425930031314, 1445.9184135493908, 1364.5093737504542, 1326.078950296518, 1309.2290964100541, 1296.4271229452327, 18228.940080287925, 11074.54577679499, 5324.126774800354, 2103.4908935841927, 2048.3822626757055, 2053.956333658743, 24778.440912458373, 20084.483701173187, 17914.187758864857, 17866.05239090768, 13936.33627671488, 13904.979603933643, 11039.79500985222, 10838.984978851484, 7861.586998990176, 6508.513268771384, 5554.462886451117, 5140.91224471399, 3844.3663089607544, 3647.106036348832, 3526.0701225637667, 2087.660797514807, 2059.783778473123, 1808.9572775667743, 1634.8241971692314, 1623.4899806323353, 1595.2504779227788, 1388.8214171799452, 1368.4223852858702, 1265.3461694927203, 1187.6254553482408, 1174.9540399947425, 1104.2941192827732, 1080.1676989764264, 988.9686554918802, 984.4480306048468, 6653.201685960206, 3593.4688744650375, 1187.636231569664], \"Total\": [24779.0, 20085.0, 22767.0, 17915.0, 17867.0, 13937.0, 13905.0, 17728.0, 13382.0, 12157.0, 15184.0, 30771.0, 11040.0, 10839.0, 10649.0, 14719.0, 13397.0, 13312.0, 11715.0, 9242.0, 11562.0, 17065.0, 11093.0, 12610.0, 11611.0, 12397.0, 11622.0, 13316.0, 7862.0, 10068.0, 14719.183457196066, 12610.986468530968, 11622.003677244033, 11303.566897187173, 8730.3065314689, 7679.382715290115, 5913.222409269552, 4817.8341671839835, 4407.539112136753, 4347.687738338875, 4288.702296677515, 4264.5087606416155, 3846.001653331509, 3507.381375291973, 3429.7974294205474, 3295.4972529934053, 3252.552397445001, 3135.7431570546137, 2960.438844854396, 2948.126825793753, 2861.5263267147184, 2519.9802217407037, 2431.712199459461, 2339.281336367442, 2325.878721819241, 2318.349396777197, 2270.8991292381247, 2184.4301613649104, 2149.977223346525, 2126.5164033511446, 17065.356630396745, 10847.955929866695, 4083.880197504448, 6404.053548379521, 5217.324147089184, 5178.017248917669, 4345.661479095552, 8133.63482514544, 8137.63279086493, 4825.722305519369, 4739.428583552894, 9757.552960119905, 4408.144463125122, 22886.692899369456, 9947.652394841452, 8582.963791976625, 7696.304286000117, 7400.260759081574, 6969.551240529217, 5148.338123193742, 4955.120105838432, 4805.305300111476, 4794.810308386559, 4504.48725041403, 4455.1833883226045, 4360.971889617812, 4212.822192192129, 4154.955138574153, 4118.659756775638, 3442.588918565119, 3407.7206816487055, 3185.261590351829, 3152.8117621278716, 3108.2070788362535, 3051.3184142670057, 2770.299281108636, 2631.005149776157, 2510.205193240323, 2476.7828928411095, 2407.720015126112, 2352.460605291468, 2277.293104035524, 2232.32966315895, 2128.921847484221, 2127.199224748354, 4767.265884024169, 10106.173190002028, 11738.038693853376, 9819.187836938954, 13907.834008373966, 30771.86718497183, 18243.308751835313, 3829.9142149233508, 4608.214044051885, 9757.552960119905, 6312.4493981721735, 28050.114317105075, 11788.234310376885, 22886.692899369456, 14952.311072928516, 15802.844483393372, 13948.135222443821, 13312.283000359133, 7256.713616290218, 6681.699625511791, 6011.417789339303, 5423.998025150374, 5376.286675689566, 5306.571572438853, 4925.818320095791, 4889.634577767273, 3987.039432011868, 3611.5048429067406, 3555.6718336914896, 3281.6321109005303, 3232.9675153774356, 3144.5466098677375, 3138.2755336436226, 2935.3524437844367, 2698.201025505445, 2662.690034630873, 2570.187519861366, 2555.26411144582, 2498.9286710910847, 2481.80540910831, 2425.719754353318, 2412.0053998418243, 2406.2667168527546, 2352.994811995701, 2285.09236143734, 2250.20778708094, 2185.411896701753, 13316.180627628923, 7742.687743700585, 15802.844483393372, 8154.654890633897, 6726.4147319270505, 2719.4961847236336, 3521.6877939750975, 5579.805084509314, 4167.645540351411, 22886.692899369456, 5266.206343571817, 4414.306876420721, 30771.86718497183, 13907.834008373966, 11788.234310376885, 11611.403756436239, 13397.062752524002, 4912.389477699905, 4420.536944477999, 4384.077722309492, 3740.1826550539877, 3601.9484275749946, 3476.942474243496, 3413.9259152014115, 3026.4165989038297, 2937.7686222091374, 2874.4193703393553, 2824.4292395867574, 2726.5415221289522, 2696.729882315506, 2683.454905601855, 2680.486286603126, 2652.214717211512, 2585.2884621593694, 2572.2328471054134, 2454.2980528293187, 2218.445094800043, 2183.888503305904, 2060.9542038195145, 2058.8979571267528, 2043.0869991198674, 2026.3435895923806, 1866.8702935618348, 1784.6043928786578, 1746.7794909100603, 1733.5716086831383, 2739.4848918546904, 11619.742657724859, 7872.901572749819, 3928.1694868101613, 14463.368620448518, 5474.30338805387, 7201.277409774437, 4067.8284051303176, 6713.579733018177, 4120.489648904587, 30771.86718497183, 28050.114317105075, 10411.67124276297, 22886.692899369456, 13200.476412277854, 18243.308751835313, 8054.69426481721, 18502.289702676284, 13948.135222443821, 10225.475782978625, 8079.903692993534, 11562.922773035862, 10068.539356029107, 8191.778081970714, 8160.150749447751, 7944.21470688781, 6179.7122286367185, 6083.442803143824, 5112.794150770492, 4779.0859510805385, 4706.7943133483095, 4442.429705666219, 4109.908586394015, 4080.8345062086614, 4009.33095747411, 3841.3509619842393, 3538.57023393303, 3523.59708689192, 3490.3879673103866, 3151.774578898002, 3088.379018675716, 3010.8874150411325, 2830.5755821897365, 2822.580379764073, 2800.0293860205543, 2646.459898414572, 2534.7169011893106, 2531.090815431165, 2513.609700731191, 2400.3719169747746, 2378.4395954909132, 10946.155093199757, 8155.508040304904, 8656.671031823475, 5294.257784744067, 28050.114317105075, 6032.261751380069, 18502.289702676284, 8298.357836321911, 9999.258900207898, 11619.742657724859, 11715.12039662714, 11093.82848259196, 4956.5160227849165, 4086.5206592388467, 4075.2803554707075, 3804.2000227235444, 3746.401242674116, 3360.116469428304, 3359.0964690495916, 2971.143799152929, 2962.6791638641635, 2958.572352423582, 2782.8944778171485, 2747.2178461394146, 2654.1671278127633, 2625.6701147346994, 2581.8184270159663, 2570.5485998986833, 2515.9636867667828, 2511.9853342173346, 2361.054044925724, 2349.68905007617, 2271.592839845494, 2130.537626530414, 2086.1262802057086, 2032.4783268613446, 2021.2076153944345, 1981.1568905305926, 1954.618430067845, 1809.782591320659, 13200.476412277854, 3686.607214695617, 13948.135222443821, 4191.710793983182, 7076.841745573908, 4586.481868297556, 6843.202738795592, 3637.9233524172864, 6173.907014958604, 28050.114317105075, 18502.289702676284, 5038.305625530323, 18243.308751835313, 9947.652394841452, 8656.671031823475, 15184.312631074243, 7367.69856596326, 5141.5763992398815, 4797.140503093733, 4646.635623012676, 4093.6415632018857, 4091.251117944716, 3617.583027376747, 3549.6875217869765, 3496.718542671843, 3449.0514005761215, 3398.5514424181993, 3374.0757635448026, 3367.0898551728847, 3107.773088474501, 2995.775492558921, 2982.999144643452, 2810.5496345391452, 2754.5785400091763, 2668.06625547518, 2559.6675378799014, 2529.1018415959966, 2501.4701774880873, 2485.207095702003, 2460.2754088717106, 2433.40456130375, 2423.025080578874, 2417.2881344079574, 2353.6432858655676, 2324.91967939291, 5997.9487060889, 4308.145545809492, 5309.42115726548, 7102.559971537625, 4854.898722725946, 7062.448492759312, 4336.447569131635, 12397.995358424922, 7025.207946688402, 14952.311072928516, 9999.258900207898, 8420.598747478401, 5980.621712689515, 5441.375904953219, 5435.316267234777, 5145.083859317042, 4728.2709636369445, 4322.530696052358, 4306.829117199484, 3729.2429224445964, 3674.535292619069, 3219.3147021179702, 3093.191126845847, 2930.905710533755, 2495.044983201601, 2465.753470256525, 2415.008862888936, 2411.2338860108293, 2408.894836323008, 2366.0045273299993, 2327.481400646085, 2312.173946643867, 2247.0384920880165, 2147.230207760123, 2138.8382589387397, 2112.8801610409564, 2108.616306645939, 2079.3918878905547, 2021.8077781061388, 2017.8955651951521, 1973.6807837752383, 11611.403756436239, 12397.995358424922, 5084.713249813882, 5287.981986122874, 4755.538392153734, 4656.985973880775, 5540.102893550861, 3574.095599444812, 22767.887720115432, 13316.180627628923, 13382.53619041381, 12157.955281920878, 10649.995062860038, 9242.890327539159, 6798.3846483911175, 5516.656581970307, 4045.603371049501, 3267.438548800567, 2849.1991328383842, 2760.733293599161, 2697.160377639761, 2576.302500673101, 2468.156739428737, 2420.062215228018, 2418.7223316052186, 2116.4830878949447, 1884.8807977603167, 1781.4128861511372, 1773.6616356899751, 1754.5206561588186, 1742.6165473466285, 1700.6194052761196, 1694.3551223725494, 1607.175392014776, 1526.3960101021544, 1446.8718656015326, 1365.4628290879914, 1327.0323908709477, 1310.1825261916817, 1297.3806012783593, 22767.887720115432, 17728.595647871378, 8918.443878146856, 3317.561761522121, 3519.7045564394357, 5087.1042319323515, 24779.39518646285, 20085.438011884435, 17915.142075616706, 17867.006647116854, 13937.290613324523, 13905.933846303147, 11040.74924868123, 10839.93926628688, 7862.5412973946795, 6509.4674974229765, 5555.417170292764, 5141.866510958302, 3845.3205579667756, 3648.0602818926795, 3527.0243600971808, 2088.6151339084254, 2060.7381276167657, 1809.9115944788616, 1635.7785879779947, 1624.4443944981033, 1596.2048091402899, 1389.7757525859072, 1369.376753129747, 1266.300482539808, 1188.5798194201834, 1175.9084407754106, 1105.2484921454125, 1081.12206863596, 989.9230744424046, 985.4024135274747, 17728.595647871378, 8918.443878146856, 2359.4939945757533], \"Category\": [\"Default\", \"Default\", \"Default\", \"Default\", \"Default\", \"Default\", \"Default\", \"Default\", \"Default\", \"Default\", \"Default\", \"Default\", \"Default\", \"Default\", \"Default\", \"Default\", \"Default\", \"Default\", \"Default\", \"Default\", \"Default\", \"Default\", \"Default\", \"Default\", \"Default\", \"Default\", \"Default\", \"Default\", \"Default\", \"Default\", \"Topic1\", \"Topic1\", \"Topic1\", \"Topic1\", \"Topic1\", \"Topic1\", \"Topic1\", \"Topic1\", \"Topic1\", \"Topic1\", \"Topic1\", \"Topic1\", \"Topic1\", \"Topic1\", \"Topic1\", \"Topic1\", \"Topic1\", \"Topic1\", \"Topic1\", \"Topic1\", \"Topic1\", \"Topic1\", \"Topic1\", \"Topic1\", \"Topic1\", \"Topic1\", \"Topic1\", \"Topic1\", \"Topic1\", \"Topic1\", \"Topic1\", \"Topic1\", \"Topic1\", \"Topic1\", \"Topic1\", \"Topic1\", \"Topic1\", \"Topic1\", \"Topic1\", \"Topic1\", \"Topic1\", \"Topic1\", \"Topic1\", \"Topic1\", \"Topic1\", \"Topic2\", \"Topic2\", \"Topic2\", \"Topic2\", \"Topic2\", \"Topic2\", \"Topic2\", \"Topic2\", \"Topic2\", \"Topic2\", \"Topic2\", \"Topic2\", \"Topic2\", \"Topic2\", \"Topic2\", \"Topic2\", \"Topic2\", \"Topic2\", \"Topic2\", \"Topic2\", \"Topic2\", \"Topic2\", \"Topic2\", \"Topic2\", \"Topic2\", \"Topic2\", \"Topic2\", \"Topic2\", \"Topic2\", \"Topic2\", \"Topic2\", \"Topic2\", \"Topic2\", \"Topic2\", \"Topic2\", \"Topic2\", \"Topic2\", \"Topic2\", \"Topic2\", \"Topic2\", \"Topic2\", \"Topic2\", \"Topic2\", \"Topic2\", \"Topic2\", \"Topic2\", \"Topic2\", \"Topic3\", \"Topic3\", \"Topic3\", \"Topic3\", \"Topic3\", \"Topic3\", \"Topic3\", \"Topic3\", \"Topic3\", \"Topic3\", \"Topic3\", \"Topic3\", \"Topic3\", \"Topic3\", \"Topic3\", \"Topic3\", \"Topic3\", \"Topic3\", \"Topic3\", \"Topic3\", \"Topic3\", \"Topic3\", \"Topic3\", \"Topic3\", \"Topic3\", \"Topic3\", \"Topic3\", \"Topic3\", \"Topic3\", \"Topic3\", \"Topic3\", \"Topic3\", \"Topic3\", \"Topic3\", \"Topic3\", \"Topic3\", \"Topic3\", \"Topic3\", \"Topic3\", \"Topic3\", \"Topic3\", \"Topic3\", \"Topic3\", \"Topic3\", \"Topic3\", \"Topic3\", \"Topic4\", \"Topic4\", \"Topic4\", \"Topic4\", \"Topic4\", \"Topic4\", \"Topic4\", \"Topic4\", \"Topic4\", \"Topic4\", \"Topic4\", \"Topic4\", \"Topic4\", \"Topic4\", \"Topic4\", \"Topic4\", \"Topic4\", \"Topic4\", \"Topic4\", \"Topic4\", \"Topic4\", \"Topic4\", \"Topic4\", \"Topic4\", \"Topic4\", \"Topic4\", \"Topic4\", \"Topic4\", \"Topic4\", \"Topic4\", \"Topic4\", \"Topic4\", \"Topic4\", \"Topic4\", \"Topic4\", \"Topic4\", \"Topic4\", \"Topic4\", \"Topic4\", \"Topic4\", \"Topic4\", \"Topic4\", \"Topic4\", \"Topic4\", \"Topic4\", \"Topic4\", \"Topic4\", \"Topic4\", \"Topic4\", \"Topic4\", \"Topic4\", \"Topic5\", \"Topic5\", \"Topic5\", \"Topic5\", \"Topic5\", \"Topic5\", \"Topic5\", \"Topic5\", \"Topic5\", \"Topic5\", \"Topic5\", \"Topic5\", \"Topic5\", \"Topic5\", \"Topic5\", \"Topic5\", \"Topic5\", \"Topic5\", \"Topic5\", \"Topic5\", \"Topic5\", \"Topic5\", \"Topic5\", \"Topic5\", \"Topic5\", \"Topic5\", \"Topic5\", \"Topic5\", \"Topic5\", \"Topic5\", \"Topic5\", \"Topic5\", \"Topic5\", \"Topic5\", \"Topic5\", \"Topic5\", \"Topic5\", \"Topic5\", \"Topic5\", \"Topic5\", \"Topic6\", \"Topic6\", \"Topic6\", \"Topic6\", \"Topic6\", \"Topic6\", \"Topic6\", \"Topic6\", \"Topic6\", \"Topic6\", \"Topic6\", \"Topic6\", \"Topic6\", \"Topic6\", \"Topic6\", \"Topic6\", \"Topic6\", \"Topic6\", \"Topic6\", \"Topic6\", \"Topic6\", \"Topic6\", \"Topic6\", \"Topic6\", \"Topic6\", \"Topic6\", \"Topic6\", \"Topic6\", \"Topic6\", \"Topic6\", \"Topic6\", \"Topic6\", \"Topic6\", \"Topic6\", \"Topic6\", \"Topic6\", \"Topic6\", \"Topic6\", \"Topic6\", \"Topic6\", \"Topic6\", \"Topic6\", \"Topic6\", \"Topic6\", \"Topic6\", \"Topic7\", \"Topic7\", \"Topic7\", \"Topic7\", \"Topic7\", \"Topic7\", \"Topic7\", \"Topic7\", \"Topic7\", \"Topic7\", \"Topic7\", \"Topic7\", \"Topic7\", \"Topic7\", \"Topic7\", \"Topic7\", \"Topic7\", \"Topic7\", \"Topic7\", \"Topic7\", \"Topic7\", \"Topic7\", \"Topic7\", \"Topic7\", \"Topic7\", \"Topic7\", \"Topic7\", \"Topic7\", \"Topic7\", \"Topic7\", \"Topic7\", \"Topic7\", \"Topic7\", \"Topic7\", \"Topic7\", \"Topic7\", \"Topic7\", \"Topic7\", \"Topic7\", \"Topic7\", \"Topic7\", \"Topic8\", \"Topic8\", \"Topic8\", \"Topic8\", \"Topic8\", \"Topic8\", \"Topic8\", \"Topic8\", \"Topic8\", \"Topic8\", \"Topic8\", \"Topic8\", \"Topic8\", \"Topic8\", \"Topic8\", \"Topic8\", \"Topic8\", \"Topic8\", \"Topic8\", \"Topic8\", \"Topic8\", \"Topic8\", \"Topic8\", \"Topic8\", \"Topic8\", \"Topic8\", \"Topic8\", \"Topic8\", \"Topic8\", \"Topic8\", \"Topic8\", \"Topic8\", \"Topic8\", \"Topic8\", \"Topic8\", \"Topic8\", \"Topic8\", \"Topic8\", \"Topic8\", \"Topic8\", \"Topic9\", \"Topic9\", \"Topic9\", \"Topic9\", \"Topic9\", \"Topic9\", \"Topic9\", \"Topic9\", \"Topic9\", \"Topic9\", \"Topic9\", \"Topic9\", \"Topic9\", \"Topic9\", \"Topic9\", \"Topic9\", \"Topic9\", \"Topic9\", \"Topic9\", \"Topic9\", \"Topic9\", \"Topic9\", \"Topic9\", \"Topic9\", \"Topic9\", \"Topic9\", \"Topic9\", \"Topic9\", \"Topic9\", \"Topic9\", \"Topic9\", \"Topic9\", \"Topic9\", \"Topic9\", \"Topic9\", \"Topic9\", \"Topic10\", \"Topic10\", \"Topic10\", \"Topic10\", \"Topic10\", \"Topic10\", \"Topic10\", \"Topic10\", \"Topic10\", \"Topic10\", \"Topic10\", \"Topic10\", \"Topic10\", \"Topic10\", \"Topic10\", \"Topic10\", \"Topic10\", \"Topic10\", \"Topic10\", \"Topic10\", \"Topic10\", \"Topic10\", \"Topic10\", \"Topic10\", \"Topic10\", \"Topic10\", \"Topic10\", \"Topic10\", \"Topic10\", \"Topic10\", \"Topic10\", \"Topic10\", \"Topic10\"], \"logprob\": [30.0, 29.0, 28.0, 27.0, 26.0, 25.0, 24.0, 23.0, 22.0, 21.0, 20.0, 19.0, 18.0, 17.0, 16.0, 15.0, 14.0, 13.0, 12.0, 11.0, 10.0, 9.0, 8.0, 7.0, 6.0, 5.0, 4.0, 3.0, 2.0, 1.0, -3.7706, -3.9252, -4.0068, -4.0346, -4.293, -4.4212, -4.6826, -4.8875, -4.9765, -4.9902, -5.0039, -5.0095, -5.1129, -5.2051, -5.2274, -5.2674, -5.2805, -5.3171, -5.3746, -5.3788, -5.4086, -5.5358, -5.5714, -5.6102, -5.616, -5.6192, -5.6399, -5.6787, -5.6946, -5.7056, -3.8068, -4.2842, -5.1883, -4.8594, -5.0444, -5.0586, -5.1953, -4.7966, -4.884, -5.2046, -5.2204, -5.0583, -5.2901, -5.1757, -5.256, -4.1902, -4.2993, -4.3385, -4.3985, -4.7014, -4.7397, -4.7704, -4.7726, -4.835, -4.846, -4.8674, -4.902, -4.9158, -4.9246, -5.1039, -5.1141, -5.1817, -5.1919, -5.2061, -5.2246, -5.3213, -5.3729, -5.4199, -5.4333, -5.4616, -5.4848, -5.5173, -5.5373, -5.5847, -5.5855, -4.8509, -4.2015, -4.1407, -4.3291, -4.0723, -3.4891, -3.9526, -5.1707, -5.124, -4.8492, -5.0164, -4.555, -4.8261, -4.7635, -5.0436, -5.0408, -5.0678, -3.6934, -4.3002, -4.3828, -4.4885, -4.5913, -4.6002, -4.6132, -4.6877, -4.6951, -4.8992, -4.9981, -5.0137, -5.0939, -5.1089, -5.1366, -5.1386, -5.2055, -5.2898, -5.303, -5.3384, -5.3442, -5.3665, -5.3734, -5.3963, -5.4019, -5.4043, -5.4267, -5.456, -5.4714, -5.5006, -3.8843, -4.5275, -3.9996, -4.506, -4.7005, -5.3256, -5.169, -4.9267, -5.0876, -4.2048, -5.0004, -5.102, -4.4721, -4.8349, -4.9041, -5.0799, -3.6861, -4.6895, -4.795, -4.8033, -4.9622, -4.9999, -5.0352, -5.0535, -5.174, -5.2038, -5.2256, -5.2431, -5.2784, -5.2894, -5.2943, -5.2954, -5.306, -5.3316, -5.3367, -5.3836, -5.4847, -5.5004, -5.5584, -5.5594, -5.5671, -5.5753, -5.6573, -5.7024, -5.7239, -5.7315, -5.36, -4.1951, -4.5763, -5.1184, -4.2653, -4.9629, -4.8791, -5.1889, -4.943, -5.1967, -4.2851, -4.4334, -4.8355, -4.6899, -4.8599, -4.7967, -5.0506, -4.9362, -4.9902, -5.1357, -5.1891, -3.7289, -3.8673, -4.0736, -4.0775, -4.1043, -4.3555, -4.3712, -4.5451, -4.6126, -4.6278, -4.6856, -4.7635, -4.7706, -4.7882, -4.8311, -4.9132, -4.9174, -4.9269, -5.029, -5.0493, -5.0747, -5.1365, -5.1393, -5.1473, -5.2038, -5.2469, -5.2484, -5.2553, -5.3014, -5.3106, -4.2016, -4.4232, -4.3971, -4.7694, -3.89, -4.7636, -4.6441, -4.8836, -4.857, -4.9052, -3.7076, -3.7621, -4.5678, -4.7609, -4.7636, -4.8325, -4.8478, -4.9567, -4.957, -5.0797, -5.0826, -5.084, -5.1452, -5.1581, -5.1926, -5.2034, -5.2202, -5.2246, -5.2461, -5.2477, -5.3097, -5.3145, -5.3483, -5.4124, -5.4335, -5.4596, -5.4651, -5.4852, -5.4986, -5.5757, -3.9648, -5.0698, -4.2599, -5.0138, -4.7289, -4.9927, -4.8971, -5.1989, -5.0414, -4.7617, -4.9088, -5.1537, -5.088, -5.1561, -5.1645, -3.4477, -4.1709, -4.5307, -4.6001, -4.6319, -4.7587, -4.7593, -4.8823, -4.9013, -4.9163, -4.9301, -4.9448, -4.952, -4.9541, -5.0343, -5.071, -5.0753, -5.1348, -5.155, -5.1869, -5.2284, -5.2404, -5.2514, -5.2579, -5.268, -5.279, -5.2832, -5.2856, -5.3123, -5.3246, -4.5868, -4.8572, -4.7405, -4.6289, -4.8596, -4.7521, -5.0032, -4.555, -4.8685, -4.6877, -5.0556, -3.6234, -3.9656, -4.0601, -4.0613, -4.1161, -4.2006, -4.2904, -4.294, -4.438, -4.4528, -4.5851, -4.6251, -4.679, -4.8401, -4.8519, -4.8727, -4.8743, -4.8752, -4.8932, -4.9096, -4.9162, -4.9448, -4.9903, -4.9942, -5.0064, -5.0084, -5.0224, -5.0505, -5.0524, -5.0746, -3.6397, -3.7552, -4.4393, -4.4776, -4.5962, -4.6541, -4.6145, -4.8002, -4.2415, -4.9136, -2.9989, -3.0948, -3.2273, -3.369, -3.6762, -3.8851, -4.1953, -4.409, -4.546, -4.5776, -4.6009, -4.6468, -4.6897, -4.7093, -4.7099, -4.8434, -4.9594, -5.0159, -5.0202, -5.0311, -5.0379, -5.0623, -5.066, -5.1189, -5.1705, -5.224, -5.2819, -5.3105, -5.3233, -5.3331, -2.6897, -3.1881, -3.9205, -4.8491, -4.8757, -4.873, -2.3286, -2.5386, -2.6529, -2.6556, -2.904, -2.9063, -3.137, -3.1554, -3.4765, -3.6654, -3.8239, -3.9013, -4.1919, -4.2446, -4.2784, -4.8025, -4.8159, -4.9458, -5.047, -5.054, -5.0715, -5.2101, -5.2249, -5.3032, -5.3666, -5.3773, -5.4393, -5.4614, -5.5496, -5.5542, -3.6434, -4.2594, -5.3666], \"loglift\": [30.0, 29.0, 28.0, 27.0, 26.0, 25.0, 24.0, 23.0, 22.0, 21.0, 20.0, 19.0, 18.0, 17.0, 16.0, 15.0, 14.0, 13.0, 12.0, 11.0, 10.0, 9.0, 8.0, 7.0, 6.0, 5.0, 4.0, 3.0, 2.0, 1.0, 1.9629, 1.9629, 1.9629, 1.9629, 1.9629, 1.9629, 1.9628, 1.9628, 1.9628, 1.9628, 1.9628, 1.9628, 1.9628, 1.9627, 1.9627, 1.9627, 1.9627, 1.9627, 1.9627, 1.9627, 1.9627, 1.9626, 1.9626, 1.9626, 1.9626, 1.9626, 1.9626, 1.9626, 1.9626, 1.9626, 1.7788, 1.7544, 1.8273, 1.7063, 1.7262, 1.7197, 1.7581, 1.53, 1.4422, 1.6441, 1.6464, 1.0863, 1.6491, 0.1164, 0.8693, 2.0827, 2.0826, 2.0826, 2.0826, 2.0826, 2.0826, 2.0826, 2.0826, 2.0826, 2.0826, 2.0825, 2.0825, 2.0825, 2.0825, 2.0825, 2.0825, 2.0825, 2.0825, 2.0825, 2.0825, 2.0824, 2.0824, 2.0824, 2.0824, 2.0824, 2.0824, 2.0823, 2.0823, 2.0823, 2.0823, 2.01, 1.908, 1.8191, 1.8092, 1.7179, 1.507, 1.5663, 1.9091, 1.7708, 1.2954, 1.5638, 0.5337, 1.1294, 0.5286, 0.6742, 0.6217, 0.7195, 2.1406, 2.1405, 2.1405, 2.1405, 2.1405, 2.1405, 2.1405, 2.1405, 2.1405, 2.1404, 2.1404, 2.1404, 2.1404, 2.1404, 2.1403, 2.1403, 2.1403, 2.1403, 2.1403, 2.1403, 2.1403, 2.1403, 2.1403, 2.1403, 2.1403, 2.1403, 2.1402, 2.1402, 2.1402, 2.1402, 1.9494, 1.8484, 1.6628, 1.8181, 1.8161, 2.0966, 1.9947, 1.7768, 1.9077, 1.0873, 1.7609, 1.8358, 0.5239, 0.9553, 1.0515, 0.8908, 2.1415, 2.1414, 2.1414, 2.1414, 2.1413, 2.1413, 2.1413, 2.1413, 2.1413, 2.1412, 2.1412, 2.1412, 2.1412, 2.1412, 2.1412, 2.1412, 2.1412, 2.1412, 2.1412, 2.1412, 2.1411, 2.1411, 2.1411, 2.1411, 2.1411, 2.1411, 2.1411, 2.141, 2.141, 2.141, 2.0549, 1.7749, 1.7829, 1.9361, 1.4858, 1.7597, 1.5693, 1.8306, 1.5755, 1.8099, 0.711, 0.6553, 1.2442, 0.6022, 0.9825, 0.7222, 1.2858, 0.5686, 0.7971, 0.9621, 1.1442, 2.2459, 2.2459, 2.2459, 2.2459, 2.2459, 2.2459, 2.2459, 2.2458, 2.2458, 2.2458, 2.2458, 2.2458, 2.2458, 2.2458, 2.2458, 2.2457, 2.2457, 2.2457, 2.2457, 2.2457, 2.2457, 2.2457, 2.2457, 2.2457, 2.2457, 2.2456, 2.2456, 2.2456, 2.2456, 2.2456, 1.828, 1.9008, 1.8672, 1.9867, 1.1986, 1.8619, 0.8606, 1.423, 1.2632, 1.0648, 2.2542, 2.2542, 2.2541, 2.2541, 2.2541, 2.254, 2.254, 2.254, 2.254, 2.254, 2.254, 2.254, 2.254, 2.254, 2.2539, 2.2539, 2.2539, 2.2539, 2.2539, 2.2539, 2.2539, 2.2539, 2.2539, 2.2539, 2.2538, 2.2538, 2.2538, 2.2538, 2.2538, 2.2538, 1.8776, 2.0482, 1.5274, 1.9758, 1.737, 1.9068, 1.6023, 1.9323, 1.5609, 0.3269, 0.5959, 1.6519, 0.4309, 0.9692, 1.0998, 2.2547, 2.2546, 2.2546, 2.2546, 2.2546, 2.2545, 2.2545, 2.2545, 2.2545, 2.2545, 2.2545, 2.2545, 2.2545, 2.2545, 2.2545, 2.2545, 2.2545, 2.2544, 2.2544, 2.2544, 2.2544, 2.2544, 2.2544, 2.2544, 2.2544, 2.2544, 2.2544, 2.2544, 2.2544, 2.2544, 2.0445, 2.105, 2.0127, 1.8333, 1.9831, 1.7158, 1.9524, 1.3501, 1.6046, 1.0301, 1.0645, 2.6685, 2.6685, 2.6685, 2.6685, 2.6685, 2.6685, 2.6684, 2.6684, 2.6684, 2.6684, 2.6684, 2.6684, 2.6683, 2.6683, 2.6683, 2.6683, 2.6683, 2.6683, 2.6683, 2.6682, 2.6682, 2.6682, 2.6682, 2.6682, 2.6682, 2.6682, 2.6682, 2.6682, 2.6682, 2.6682, 2.3309, 2.1499, 2.3571, 2.2796, 2.2672, 2.2302, 2.0961, 2.3488, 1.0558, 0.92, 2.8298, 2.8298, 2.8298, 2.8298, 2.8298, 2.8297, 2.8297, 2.8296, 2.8296, 2.8296, 2.8296, 2.8295, 2.8295, 2.8295, 2.8295, 2.8295, 2.8294, 2.8294, 2.8294, 2.8294, 2.8294, 2.8294, 2.8294, 2.8293, 2.8293, 2.8293, 2.8292, 2.8292, 2.8292, 2.8292, 2.6076, 2.3594, 2.314, 2.3743, 2.2886, 1.923, 2.8841, 2.8841, 2.8841, 2.8841, 2.884, 2.884, 2.884, 2.884, 2.884, 2.884, 2.8839, 2.8839, 2.8839, 2.8839, 2.8838, 2.8837, 2.8837, 2.8836, 2.8835, 2.8835, 2.8835, 2.8834, 2.8834, 2.8834, 2.8833, 2.8833, 2.8833, 2.8832, 2.8832, 2.8831, 1.904, 1.9751, 2.1976]}, \"token.table\": {\"Topic\": [7, 9, 3, 9, 10, 3, 6, 1, 2, 3, 4, 7, 4, 6, 5, 3, 5, 9, 1, 7, 4, 4, 3, 1, 3, 4, 2, 9, 3, 7, 7, 6, 2, 9, 3, 3, 5, 9, 2, 5, 2, 9, 1, 4, 6, 7, 2, 6, 2, 5, 6, 10, 7, 1, 7, 2, 6, 3, 4, 6, 8, 9, 2, 3, 7, 8, 4, 5, 3, 7, 7, 2, 3, 9, 9, 5, 3, 4, 6, 5, 1, 2, 3, 4, 5, 6, 1, 2, 1, 2, 6, 5, 4, 2, 1, 9, 8, 8, 9, 1, 9, 10, 7, 1, 2, 2, 4, 1, 2, 5, 6, 7, 9, 2, 7, 4, 6, 7, 2, 10, 9, 9, 3, 1, 6, 7, 9, 1, 7, 4, 8, 3, 10, 7, 8, 10, 4, 7, 3, 7, 8, 1, 8, 10, 2, 5, 3, 4, 7, 4, 5, 2, 8, 9, 10, 8, 5, 1, 3, 2, 3, 6, 2, 4, 1, 6, 5, 1, 6, 9, 2, 3, 4, 4, 5, 2, 3, 1, 8, 6, 3, 8, 2, 7, 7, 3, 6, 7, 8, 4, 2, 4, 1, 1, 5, 4, 5, 9, 5, 4, 6, 1, 4, 4, 5, 6, 4, 5, 1, 8, 3, 6, 2, 3, 4, 7, 2, 4, 1, 5, 7, 4, 2, 3, 5, 6, 3, 3, 10, 8, 3, 6, 10, 5, 1, 4, 5, 7, 8, 3, 3, 6, 4, 3, 3, 4, 3, 4, 3, 3, 2, 4, 7, 6, 7, 7, 3, 2, 4, 6, 3, 4, 6, 4, 1, 1, 5, 8, 9, 1, 2, 3, 5, 7, 3, 4, 2, 5, 10, 2, 4, 7, 6, 4, 5, 2, 10, 2, 1, 2, 4, 6, 7, 4, 5, 5, 6, 3, 2, 4, 6, 4, 1, 5, 4, 4, 2, 1, 4, 7, 1, 9, 4, 6, 1, 4, 8, 7, 10, 10, 1, 3, 4, 5, 6, 3, 10, 9, 3, 2, 8, 1, 2, 8, 6, 2, 8, 2, 3, 4, 5, 9, 10, 6, 3, 8, 3, 9, 1, 2, 4, 7, 10, 5, 5, 3, 10, 1, 7, 8, 5, 6, 5, 1, 7, 1, 1, 9, 8, 10, 2, 4, 1, 8, 1, 5, 8, 1, 2, 4, 9, 1, 5, 7, 8, 1, 1, 6, 10, 2, 8, 4, 8, 5, 6, 4, 10, 10, 6, 9, 2, 5, 5, 7, 8, 7, 1, 5, 3, 7, 6, 1, 6, 7, 10, 6, 2, 7, 3, 2, 5, 5, 3, 5, 2, 1, 7, 6, 5, 8, 8, 2, 10, 3, 6, 7, 7, 1, 9, 9, 8, 4, 10, 7, 1, 3, 4, 2, 1, 2, 1, 5, 1, 2, 3, 4, 5, 6, 2, 6, 9, 3, 8, 8, 10, 7, 1, 8, 1, 2, 4, 8, 2, 2, 5, 2, 4, 6, 7, 3, 5, 6, 10, 1, 2, 3, 4, 7, 5, 4, 6, 1, 2, 4, 5, 6, 8, 1, 2, 9, 10, 9, 1, 6, 7, 8, 10, 4, 2, 7, 10, 3, 10, 9, 1, 9, 1, 6, 3, 10, 2, 6, 9, 6, 5, 4, 7, 9, 6, 3, 8, 8, 2, 4, 6, 6, 6, 4, 8, 4, 2, 3, 4, 10], \"Freq\": [0.999739209147273, 0.9992002134885088, 0.9997606757661595, 0.5969651289778887, 0.4028729730310958, 0.8643582787797585, 0.13544641884952194, 0.09216386825095403, 0.2309282220241459, 0.15784704517398954, 0.51903537806445, 0.9997411379588199, 0.7176331581820876, 0.28200531951558533, 0.9997542403878793, 0.31294817786646256, 0.28306870359780534, 0.4037660536040918, 0.872944314619826, 0.12684015567267037, 0.9996613294906873, 0.9995638651621153, 0.9997392972832115, 0.249941173968248, 0.18216809044288873, 0.5678043832937791, 0.9997425275629764, 0.9992686597737771, 0.7466399513145024, 0.2532712237550146, 0.9998432781199866, 0.9994025277832733, 0.9996039288089712, 0.9997717497022737, 0.9995379637274754, 0.6839838329534453, 0.31578709444796765, 0.9995597319493292, 0.9998042027609594, 0.9994284564966484, 0.3656299677879899, 0.6338992763875867, 0.9995139758225721, 0.9995338221595597, 0.9997476568713365, 0.9996811679345124, 0.9997009556254097, 0.9998725910665177, 0.10526731534067199, 0.6810049313692607, 0.2135185860768276, 0.9999328454806797, 0.9998063148424314, 0.999826858468964, 0.9998377419240102, 0.9997701206048446, 0.999616971114547, 0.7242489203048176, 0.27567077088473246, 0.999460109286578, 0.9997077198710849, 0.9989358548470673, 0.10867474681499428, 0.10622626898380723, 0.7850196615682775, 0.999854323723562, 0.9997293454119033, 0.9999201955202872, 0.34381969455885275, 0.6561014646372866, 0.9997622535564682, 0.6942849615681408, 0.3056550716265707, 0.999880981902616, 0.9993974133976473, 0.9995690334678966, 0.21775250251481074, 0.1860999648358246, 0.5961698949448322, 0.9998847472810436, 0.13317270670794826, 0.14198242715981335, 0.07669321055948806, 0.20743378585434474, 0.2502392987247567, 0.190462913327439, 0.9994179493483283, 0.9998048357716942, 0.5940302449413185, 0.23594085028699455, 0.16995114372235076, 0.9997171671562318, 0.9993486001508758, 0.9994321749654305, 0.9997395598281552, 0.9995791333695973, 0.9997578306081816, 0.19931581075000981, 0.8006451992423819, 0.999757159949328, 0.9999065668242881, 0.9999281819253016, 0.9998044387715518, 0.726937809079433, 0.2729125127017141, 0.99989182999375, 0.9995931553719162, 0.33495340083735464, 0.1273667343520193, 0.08504519120900421, 0.2766481870061225, 0.17592090380113165, 0.999531334695946, 0.9998289314875956, 0.9999051853225256, 0.9998304776424953, 0.9995566983735469, 0.9998120395388606, 0.9995679198012107, 0.9997054824038959, 0.9996357766621986, 0.9995610793717062, 0.9994735758742441, 0.811765834681835, 0.18814604458160633, 0.8102770193860285, 0.18956480885636098, 0.7735725447288863, 0.22626294253374166, 0.9995207093685936, 0.9996285282738312, 0.9998952922832508, 0.9999311549060024, 0.9998632079069149, 0.9995378396535382, 0.9991108378329259, 0.999336938908445, 0.9994227999215233, 0.9995935558780775, 0.7621168249463525, 0.23769805837515967, 0.9999498479380599, 0.9993306274307117, 0.999932137877208, 0.9995669885743761, 0.9997955059908967, 0.792293866652004, 0.20755124005269032, 0.9996763213279829, 0.6826439338665361, 0.3173006457388743, 0.9998398127510891, 0.9996080774526842, 0.6246969709261626, 0.3752694309319874, 0.9998074877881332, 0.9993947311112535, 0.7306929314463746, 0.26927429668638514, 0.7682714493625137, 0.23164006107969337, 0.9996735821493385, 0.3012866321370148, 0.6985988519197224, 0.9995454726980764, 0.9996259763481404, 0.9998388518821636, 0.9998301649358716, 0.9999253204073544, 0.9995697780341944, 0.23198355231885404, 0.6201415201104118, 0.14782148887529814, 0.9994679623920393, 0.9997789278338153, 0.3048493583982576, 0.695006356183682, 0.9998362449456893, 0.9996550689550029, 0.9997865825611292, 0.2865286635266501, 0.7133504418368628, 0.2608125618884124, 0.7390842271019997, 0.9997899714962658, 0.32924292313515363, 0.14860770071469967, 0.5219774315333369, 0.9995754330482483, 0.999878534104625, 0.9298831044552508, 0.07006112269074075, 0.9998806988869829, 0.9996221979198667, 0.9999464315517838, 0.8141196582118229, 0.18558262377624105, 0.9997013581940432, 0.9998589793886065, 0.3137765540149367, 0.6861873554484058, 0.8318021303296951, 0.16811837350587497, 0.2095510033438502, 0.26931833972295394, 0.520954900223728, 0.9995016176421979, 0.9997052646217526, 0.26746837691383696, 0.73239134972583, 0.9999016612301447, 0.9996858239534395, 0.9997400863809404, 0.7228219183278171, 0.1317195021880802, 0.14539692227984474, 0.7606535412126707, 0.2392254877906766, 0.32152382812421787, 0.3742277340095873, 0.3041225385150067, 0.9997383653010224, 0.385469094044053, 0.33652198417094153, 0.17339322804270343, 0.10459581711186562, 0.9998702197971687, 0.9997007345812063, 0.999441814562915, 0.999690979300187, 0.9995772145392631, 0.4962928503704671, 0.5034977850043679, 0.999796655424657, 0.03539972330651612, 0.7328234387272539, 0.2315731899634596, 0.27363565768971576, 0.7263375944401862, 0.999539256763766, 0.9994632553100766, 0.999706748398837, 0.9997366904068549, 0.999860212590402, 0.9998073791091845, 0.9994939722451796, 0.9997032821487205, 0.9996702710864235, 0.9996754745132902, 0.9998922896957008, 0.3147314741146179, 0.3688162771771771, 0.3163404041828405, 0.9997707602387571, 0.999481599146538, 0.9995142876808575, 0.9998338712387234, 0.2558048042335267, 0.26068000790165446, 0.48343379903213857, 0.7371485696613962, 0.2625553756108046, 0.9996785800452448, 0.9995537554029478, 0.9998503452926665, 0.9996110200658533, 0.9998446738227527, 0.9994270722553749, 0.9997343844836947, 0.19468562323254687, 0.24451069685269372, 0.16137973509451584, 0.10560240435733134, 0.2938676154186915, 0.9998110529534464, 0.9995419989174975, 0.2283606218578654, 0.7715906867571383, 0.9995240260609126, 0.8396847986332894, 0.16029806431604157, 0.9996951623927826, 0.9998958900198155, 0.9995062062432498, 0.9996023458356533, 0.9998877087216044, 0.9997095681819582, 0.9999209073138008, 0.183063790198412, 0.2165838651088243, 0.4076194782801997, 0.11794456157589189, 0.07481988067395748, 0.6930446084058779, 0.30689147815414886, 0.6846742793172208, 0.31524820453124613, 0.9997408505601859, 0.9997771392151997, 0.9994711103536009, 0.9996845532000482, 0.9995370087225878, 0.9996061519566408, 0.9997727701297582, 0.9996837975139022, 0.9997171483030382, 0.9995309961210703, 0.999816067841206, 0.9997289359112274, 0.9994671159016495, 0.9999217770526176, 0.9997963268536968, 0.2751569791416487, 0.7245892078095764, 0.7285688430843432, 0.27112973164302956, 0.9997311990690214, 0.9996941967362433, 0.99897300636165, 0.9999284052514272, 0.19275386708958187, 0.16918528161591914, 0.30746735572280337, 0.2351968799342691, 0.09544788142031045, 0.9997641505899294, 0.9988703968797198, 0.9998508575868265, 0.9998261721209595, 0.9997343794363872, 0.9996004674060086, 0.999919597632606, 0.8404887993201233, 0.1592724969199364, 0.9994160530465194, 0.9996116478710597, 0.9995916205032378, 0.5622668230041575, 0.19855798685443315, 0.2391795062600046, 0.9997943797213947, 0.999494430225969, 0.9997093573541144, 0.9997447833484722, 0.9995052912768752, 0.9995811766085836, 0.9993539448083523, 0.9996610459998384, 0.6485415332013846, 0.1443389118442513, 0.09552924574359732, 0.11138931356975441, 0.9999436957015152, 0.9999050167176249, 0.9998470954106066, 0.9999036228151776, 0.9999133513330835, 0.9998776840946758, 0.4046621937626999, 0.5952575224175255, 0.18607895011582873, 0.8137563416144113, 0.9998262212796621, 0.41656940974737716, 0.5833670863899367, 0.9998491113919292, 0.9998199444745264, 0.9990974340078256, 0.9996944259571714, 0.9996565805251165, 0.9998310030356902, 0.9997287828662923, 0.9993452931614821, 0.9995561885309632, 0.9994522521308055, 0.9995534813999911, 0.999928894904465, 0.3700947425181568, 0.20484948847868462, 0.42496957518941664, 0.9990854207604611, 0.999841815148588, 0.999668035019252, 0.9995643348251642, 0.9996149197391945, 0.9997674995573479, 0.24286026637649857, 0.756970162291385, 0.9998314792971668, 0.9997885150468504, 0.9995822529248488, 0.3305619407034284, 0.6693248455846137, 0.9997628311483296, 0.9996677289497368, 0.9998185826931643, 0.9994963320409448, 0.998962125861166, 0.9996836057317726, 0.9999214274194363, 0.29182731330015593, 0.7079877760483615, 0.25252238575362057, 0.18320959366685122, 0.5640689460186307, 0.9999135534741588, 0.7891018238337616, 0.21064437804063735, 0.9995219618008556, 0.9996003639441143, 0.9996830036506819, 0.7840839079569768, 0.21591276086105912, 0.999576941820747, 0.9996418139661348, 0.9995535701827793, 0.1388068238738292, 0.8609272738261413, 0.9995548791605621, 0.9998296331544767, 0.9998312411175359, 0.9997574401741791, 0.9995831684946103, 0.9998305462068461, 0.9997739498105984, 0.9997932752761615, 0.9996650536607609, 0.9998065443885079, 0.9996323659938379, 0.9994922758101434, 0.9997893407869185, 0.9998305308688886, 0.9990675291179322, 0.9567948705412234, 0.04265495963980857, 0.9996044253050711, 0.9998878944519881, 0.9997630044881253, 0.9997032487722552, 0.9999599335726665, 0.9996667091765152, 0.9997541735393951, 0.9992452039153179, 0.9997266850633523, 0.22843169432234464, 0.2071854637865886, 0.5642054553384112, 0.999617959783833, 0.9996040646515082, 0.9997283627095566, 0.8148356739321942, 0.18501211009361315, 0.005422759645653626, 0.1444864181141933, 0.07543661195953712, 0.12604903531897096, 0.43912302552804033, 0.2095595338620368, 0.293253094337261, 0.7064238108942197, 0.9992068732846152, 0.32205102144242215, 0.6777632770696659, 0.999747140249589, 0.9985768113531868, 0.9998388351083211, 0.9997071201684068, 0.9997931667054561, 0.4161904133749223, 0.4550321190309419, 0.12872079763577995, 0.9994882760988106, 0.9994362423912148, 0.7319538475765347, 0.2677827002399774, 0.18011285192759838, 0.3198946785584594, 0.4998455584969142, 0.999751240372932, 0.14671818426889632, 0.6584047036276064, 0.19486294336585047, 0.9997449029930024, 0.15777727327741115, 0.21134551948015445, 0.3487616159790351, 0.21449145237297462, 0.06759386368323318, 0.9996483107121403, 0.9999206727218023, 0.9996077468272156, 0.06495517199689047, 0.21244120193714067, 0.22620228667413284, 0.35083635983611366, 0.14552525361762178, 0.9998960454749719, 0.9996177824563399, 0.9995198825802893, 0.999532703733115, 0.9995121746047596, 0.9996461944840549, 0.2324194058546702, 0.5474062522179166, 0.21991520212380405, 0.9998772256139575, 0.9989946133329631, 0.9998013886366457, 0.9996839073608864, 0.9997945094341811, 0.9999073985496658, 0.9998159982459901, 0.9999436588827253, 0.9999036743369651, 0.4176486908000781, 0.5818670195636463, 0.9999136399134, 0.9996150306985292, 0.9996283723093708, 0.999936250820011, 0.9994043607533, 0.9995675771640128, 0.9996269662281342, 0.9997390201997932, 0.9996781703344917, 0.9169607058133187, 0.08286229308106025, 0.999222030390479, 0.99976465832131, 0.825912497550606, 0.17399884131885382, 0.999583430685192, 0.5966023021402326, 0.24184209454637137, 0.16148386458150726, 0.9995602658926286, 0.9999043631999324, 0.35473587622239494, 0.6450524044625148, 0.9995319220412872, 0.5951730878172066, 0.2598040628214583, 0.14495165700099655, 0.9992274561998964], \"Term\": [\".from\", \"absolutely\", \"abuse\", \"accept\", \"accept\", \"accuse\", \"accuse\", \"add\", \"add\", \"add\", \"add\", \"affect\", \"agree\", \"agree\", \"ahead\", \"allow\", \"allow\", \"allow\", \"announce\", \"announce\", \"answer\", \"appeal\", \"arrest\", \"ask\", \"ask\", \"ask\", \"assist\", \"athlete\", \"attack\", \"attack\", \"attempt\", \"attend\", \"authority\", \"available\", \"award\", \"away\", \"away\", \"baby\", \"bad\", \"ball\", \"bear\", \"bear\", \"beat\", \"birth\", \"black\", \"block\", \"board\", \"body\", \"break\", \"break\", \"break\", \"browser\", \"building\", \"business\", \"candidate\", \"care\", \"career\", \"case\", \"case\", \"cash\", \"catch\", \"celebrate\", \"centre\", \"centre\", \"centre\", \"champion\", \"chancellor\", \"change\", \"charge\", \"charge\", \"chief\", \"child\", \"child\", \"choose\", \"clearly\", \"climate\", \"close\", \"close\", \"close\", \"club\", \"come\", \"come\", \"come\", \"come\", \"come\", \"come\", \"comment\", \"community\", \"company\", \"company\", \"company\", \"competition\", \"complete\", \"confidence\", \"conservative\", \"conservatives\", \"contain\", \"content\", \"content\", \"contest\", \"continue\", \"cookie\", \"corner\", \"cost\", \"cost\", \"council\", \"count\", \"country\", \"country\", \"country\", \"country\", \"country\", \"couple\", \"course\", \"court\", \"crime\", \"cross\", \"currently\", \"customer\", \"date\", \"datum\", \"daughter\", \"dead\", \"deal\", \"deal\", \"death\", \"death\", \"decision\", \"decision\", \"detail\", \"develop\", \"die\", \"different\", \"display\", \"doctor\", \"domestic\", \"door\", \"drop\", \"drug\", \"early\", \"early\", \"election\", \"email\", \"enable\", \"english\", \"european\", \"evidence\", \"evidence\", \"executive\", \"expect\", \"expect\", \"experience\", \"explain\", \"external\", \"external\", \"facebook\", \"fact\", \"fall\", \"fall\", \"family\", \"family\", \"fan\", \"feel\", \"feel\", \"female\", \"fight\", \"figure\", \"film\", \"final\", \"financial\", \"find\", \"find\", \"find\", \"fine\", \"finish\", \"fire\", \"fire\", \"firm\", \"flight\", \"focus\", \"follow\", \"follow\", \"football\", \"football\", \"footed\", \"force\", \"force\", \"force\", \"foreign\", \"forward\", \"friend\", \"friend\", \"future\", \"gain\", \"game\", \"general\", \"general\", \"girl\", \"goal\", \"good\", \"good\", \"government\", \"government\", \"great\", \"great\", \"great\", \"ground\", \"half\", \"hand\", \"hand\", \"happen\", \"hard\", \"health\", \"hear\", \"hear\", \"hear\", \"help\", \"help\", \"high\", \"high\", \"high\", \"history\", \"home\", \"home\", \"home\", \"home\", \"hospital\", \"house\", \"husband\", \"idea\", \"identify\", \"image\", \"image\", \"impact\", \"important\", \"important\", \"important\", \"incident\", \"incident\", \"independent\", \"individual\", \"industry\", \"information\", \"injury\", \"inquiry\", \"interest\", \"interview\", \"introduce\", \"investigate\", \"investigation\", \"issue\", \"issue\", \"issue\", \"join\", \"judge\", \"kick\", \"kill\", \"know\", \"know\", \"know\", \"later\", \"later\", \"launch\", \"lawyer\", \"leader\", \"leadership\", \"league\", \"leak\", \"learn\", \"leave\", \"leave\", \"leave\", \"leave\", \"leave\", \"left\", \"letter\", \"level\", \"level\", \"liberal\", \"life\", \"life\", \"like\", \"line\", \"list\", \"little\", \"live\", \"load\", \"local\", \"long\", \"long\", \"long\", \"long\", \"long\", \"look\", \"look\", \"lose\", \"lose\", \"loss\", \"love\", \"manage\", \"manager\", \"mark\", \"market\", \"match\", \"matter\", \"medium\", \"meet\", \"meeting\", \"message\", \"military\", \"minister\", \"miss\", \"moment\", \"moment\", \"money\", \"money\", \"mother\", \"murder\", \"music\", \"need\", \"number\", \"number\", \"number\", \"number\", \"number\", \"officer\", \"oppose\", \"original\", \"page\", \"parent\", \"particularly\", \"party\", \"pass\", \"pass\", \"past\", \"patient\", \"penalty\", \"people\", \"people\", \"people\", \"performance\", \"period\", \"permission\", \"person\", \"phone\", \"pick\", \"picture\", \"pilot\", \"plan\", \"plan\", \"plan\", \"plan\", \"play\", \"player\", \"point\", \"police\", \"policy\", \"political\", \"post\", \"post\", \"power\", \"power\", \"premier\", \"president\", \"president\", \"price\", \"prime\", \"prince\", \"prison\", \"privacy\", \"problem\", \"process\", \"product\", \"project\", \"promise\", \"protest\", \"provide\", \"public\", \"public\", \"public\", \"queen\", \"question\", \"race\", \"range\", \"rape\", \"rate\", \"reach\", \"reach\", \"read\", \"real\", \"reason\", \"receive\", \"receive\", \"record\", \"referendum\", \"relationship\", \"remember\", \"researcher\", \"respond\", \"responsible\", \"result\", \"result\", \"return\", \"return\", \"return\", \"right\", \"rise\", \"rise\", \"room\", \"round\", \"royal\", \"rule\", \"rule\", \"russian\", \"safe\", \"sale\", \"save\", \"save\", \"scene\", \"school\", \"score\", \"scottish\", \"search\", \"season\", \"seat\", \"secretary\", \"section\", \"seek\", \"sell\", \"semi\", \"send\", \"service\", \"severe\", \"sexual\", \"sexual\", \"shoot\", \"shot\", \"sign\", \"simply\", \"site\", \"skip\", \"social\", \"song\", \"source\", \"speak\", \"speak\", \"speak\", \"sport\", \"stab\", \"staff\", \"stand\", \"stand\", \"start\", \"start\", \"start\", \"start\", \"start\", \"start\", \"state\", \"state\", \"station\", \"stop\", \"stop\", \"story\", \"stress\", \"strike\", \"student\", \"success\", \"support\", \"support\", \"support\", \"supporter\", \"sure\", \"system\", \"system\", \"talk\", \"talk\", \"talk\", \"target\", \"team\", \"team\", \"team\", \"technology\", \"tell\", \"tell\", \"tell\", \"tell\", \"tell\", \"test\", \"think\", \"thousand\", \"time\", \"time\", \"time\", \"time\", \"time\", \"title\", \"tory\", \"town\", \"train\", \"tribute\", \"trust\", \"turn\", \"turn\", \"turn\", \"twitter\", \"type\", \"understand\", \"union\", \"update\", \"use\", \"victim\", \"video\", \"view\", \"visit\", \"visit\", \"vote\", \"voter\", \"walk\", \"want\", \"water\", \"wear\", \"west\", \"wide\", \"win\", \"winner\", \"winner\", \"wish\", \"withdrawal\", \"woman\", \"woman\", \"word\", \"work\", \"work\", \"work\", \"worker\", \"world\", \"write\", \"write\", \"year\", \"young\", \"young\", \"young\", \"youth\"]}, \"R\": 30, \"lambda.step\": 0.01, \"plot.opts\": {\"xlab\": \"PC1\", \"ylab\": \"PC2\"}, \"topic.order\": [3, 6, 8, 4, 9, 7, 10, 2, 1, 5]};\n",
       "\n",
       "function LDAvis_load_lib(url, callback){\n",
       "  var s = document.createElement('script');\n",
       "  s.src = url;\n",
       "  s.async = true;\n",
       "  s.onreadystatechange = s.onload = callback;\n",
       "  s.onerror = function(){console.warn(\"failed to load library \" + url);};\n",
       "  document.getElementsByTagName(\"head\")[0].appendChild(s);\n",
       "}\n",
       "\n",
       "if(typeof(LDAvis) !== \"undefined\"){\n",
       "   // already loaded: just create the visualization\n",
       "   !function(LDAvis){\n",
       "       new LDAvis(\"#\" + \"ldavis_el488421089283996646498844377\", ldavis_el488421089283996646498844377_data);\n",
       "   }(LDAvis);\n",
       "}else if(typeof define === \"function\" && define.amd){\n",
       "   // require.js is available: use it to load d3/LDAvis\n",
       "   require.config({paths: {d3: \"https://d3js.org/d3.v5\"}});\n",
       "   require([\"d3\"], function(d3){\n",
       "      window.d3 = d3;\n",
       "      LDAvis_load_lib(\"https://cdn.jsdelivr.net/gh/bmabey/pyLDAvis@3.4.0/pyLDAvis/js/ldavis.v3.0.0.js\", function(){\n",
       "        new LDAvis(\"#\" + \"ldavis_el488421089283996646498844377\", ldavis_el488421089283996646498844377_data);\n",
       "      });\n",
       "    });\n",
       "}else{\n",
       "    // require.js not available: dynamically load d3 & LDAvis\n",
       "    LDAvis_load_lib(\"https://d3js.org/d3.v5.js\", function(){\n",
       "         LDAvis_load_lib(\"https://cdn.jsdelivr.net/gh/bmabey/pyLDAvis@3.4.0/pyLDAvis/js/ldavis.v3.0.0.js\", function(){\n",
       "                 new LDAvis(\"#\" + \"ldavis_el488421089283996646498844377\", ldavis_el488421089283996646498844377_data);\n",
       "            })\n",
       "         });\n",
       "}\n",
       "</script>"
      ],
      "text/plain": [
       "PreparedData(topic_coordinates=              x         y  topics  cluster       Freq\n",
       "topic                                                \n",
       "2     -0.138478  0.008984       1        1  14.043573\n",
       "5     -0.160570  0.006284       2        1  12.458512\n",
       "7     -0.084029 -0.118386       3        1  11.757814\n",
       "3     -0.178690  0.042465       4        1  11.747048\n",
       "8     -0.091099  0.154486       5        1  10.581952\n",
       "6     -0.122314  0.125100       6        1  10.494703\n",
       "9     -0.022225 -0.184324       7        1  10.489676\n",
       "1      0.191601 -0.323006       8        1   6.934542\n",
       "0      0.304814  0.066805       9        1   5.901774\n",
       "4      0.300989  0.221592      10        1   5.590407, topic_info=          Term          Freq         Total Category  logprob  loglift\n",
       "175       play  24779.000000  24779.000000  Default  30.0000  30.0000\n",
       "320       need  20085.000000  20085.000000  Default  29.0000  29.0000\n",
       "837    content  22767.000000  22767.000000  Default  28.0000  28.0000\n",
       "53        want  17915.000000  17915.000000  Default  27.0000  27.0000\n",
       "330      video  17867.000000  17867.000000  Default  26.0000  26.0000\n",
       "...        ...           ...           ...      ...      ...      ...\n",
       "1503    severe    988.968655    989.923074  Topic10  -5.5496   2.8832\n",
       "2979    stress    984.448031    985.402414  Topic10  -5.5542   2.8831\n",
       "838   external   6653.201686  17728.595648  Topic10  -3.6434   1.9040\n",
       "951     accept   3593.468874   8918.443878  Topic10  -4.2594   1.9751\n",
       "1440     image   1187.636232   2359.493995  Topic10  -5.3666   2.1976\n",
       "\n",
       "[454 rows x 6 columns], token_table=      Topic      Freq        Term\n",
       "term                             \n",
       "2484      7  0.999739       .from\n",
       "941       9  0.999200  absolutely\n",
       "331       3  0.999761       abuse\n",
       "951       9  0.596965      accept\n",
       "951      10  0.402873      accept\n",
       "...     ...       ...         ...\n",
       "682       4  0.999532        year\n",
       "638       2  0.595173       young\n",
       "638       3  0.259804       young\n",
       "638       4  0.144952       young\n",
       "4804     10  0.999227       youth\n",
       "\n",
       "[544 rows x 3 columns], R=30, lambda_step=0.01, plot_opts={'xlab': 'PC1', 'ylab': 'PC2'}, topic_order=[3, 6, 8, 4, 9, 7, 10, 2, 1, 5])"
      ]
     },
     "execution_count": 44,
     "metadata": {},
     "output_type": "execute_result"
    }
   ],
   "source": [
    "def show_top_words(model, dictionary, n_words=10):\n",
    "    print(\"TOP WORDS PER TOPIC\\n\" + \"-\"*30)\n",
    "    for tid, topic in model.show_topics(num_topics=model.num_topics,\n",
    "                                        num_words=n_words,\n",
    "                                        formatted=False):\n",
    "        words = \", \".join([w for w, p in topic])\n",
    "        print(f\"Topic {tid:>2}  {words}\")\n",
    "\n",
    "show_top_words(lda_model, dictionary, n_words=30)\n",
    "\n",
    "pyLDAvis.enable_notebook()\n",
    "vis = gensimvis.prepare(lda_model, bow_dict, dictionary)\n",
    "vis"
   ]
  }
 ],
 "metadata": {
  "kernelspec": {
   "display_name": "ML_VU",
   "language": "python",
   "name": "python3"
  },
  "language_info": {
   "codemirror_mode": {
    "name": "ipython",
    "version": 3
   },
   "file_extension": ".py",
   "mimetype": "text/x-python",
   "name": "python",
   "nbconvert_exporter": "python",
   "pygments_lexer": "ipython3",
   "version": "3.10.16"
  }
 },
 "nbformat": 4,
 "nbformat_minor": 5
}
